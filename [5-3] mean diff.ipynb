{
 "cells": [
  {
   "cell_type": "markdown",
   "id": "e3da6a45",
   "metadata": {},
   "source": [
    "# 220223 과제\n",
    "diff = 0to1 - 1to0\n",
    "mean(diff)"
   ]
  },
  {
   "cell_type": "markdown",
   "id": "2b9613b8",
   "metadata": {},
   "source": [
    "# library"
   ]
  },
  {
   "cell_type": "code",
   "execution_count": 1,
   "id": "4e4d7f75",
   "metadata": {},
   "outputs": [
    {
     "name": "stdout",
     "output_type": "stream",
     "text": [
      "numpy version: 1.19.5\n",
      "matplotlib version: 3.4.2\n",
      "seaborn version: 0.11.1\n",
      "--------------------------------------------------\n"
     ]
    }
   ],
   "source": [
    "#데이터 분석 라이브러리\n",
    "import numpy as np\n",
    "print(\"numpy version: {}\". format(np.__version__))\n",
    "\n",
    "import pandas as pd\n",
    "\n",
    "#시각화 라이브러리\n",
    "import matplotlib as mpl\n",
    "import matplotlib.pyplot as plt\n",
    "print(\"matplotlib version: {}\". format(mpl.__version__))\n",
    "\n",
    "import seaborn as sns\n",
    "print(\"seaborn version: {}\". format(sns.__version__))\n",
    "\n",
    "#딥러닝 라이브러리\n",
    "import tensorflow as tf\n",
    "\n",
    "#기타 라이브러리\n",
    "import os\n",
    "import random\n",
    "import time\n",
    "\n",
    "#경고 에러 무시\n",
    "import warnings\n",
    "warnings.filterwarnings('ignore')\n",
    "print('-'*50)\n",
    "\n",
    "#시간 확인을 용이하게 해주는 라이브러리\n",
    "from tqdm import tqdm\n",
    "\n",
    "#결과 확인을 용이하게 하기 위한 코드\n",
    "from IPython.core.interactiveshell import InteractiveShell\n",
    "InteractiveShell.ast_node_interactivity = \"all\"\n",
    "\n",
    "from varname import nameof"
   ]
  },
  {
   "cell_type": "markdown",
   "id": "ff367ac8",
   "metadata": {},
   "source": [
    "# GPU"
   ]
  },
  {
   "cell_type": "code",
   "execution_count": 2,
   "id": "ba5e1312",
   "metadata": {},
   "outputs": [
    {
     "name": "stdout",
     "output_type": "stream",
     "text": [
      "[PhysicalDevice(name='/physical_device:GPU:0', device_type='GPU'), PhysicalDevice(name='/physical_device:GPU:1', device_type='GPU')]\n"
     ]
    }
   ],
   "source": [
    "gpus = tf.config.experimental.list_physical_devices('GPU')\n",
    "print(gpus)\n",
    "if gpus:  # gpu가 있다면, 용량 한도를 5GB로 설정\n",
    "    tf.config.experimental.set_virtual_device_configuration(gpus[0], \n",
    "                                                            [tf.config.experimental.VirtualDeviceConfiguration(memory_limit=5*1024)])"
   ]
  },
  {
   "cell_type": "markdown",
   "id": "1beb174c",
   "metadata": {},
   "source": [
    "# CPU"
   ]
  },
  {
   "cell_type": "code",
   "execution_count": 3,
   "id": "ab34af66",
   "metadata": {},
   "outputs": [],
   "source": [
    "#GPU 사용 설정, -1이면 CPU 사용\n",
    "import os\n",
    "os.environ[\"CUDA_VISIBLE_DEVICES\"] = \"-1\""
   ]
  },
  {
   "cell_type": "code",
   "execution_count": null,
   "id": "592d511b",
   "metadata": {},
   "outputs": [],
   "source": []
  },
  {
   "cell_type": "markdown",
   "id": "6fff2c4a",
   "metadata": {},
   "source": [
    "# all fit _ 기존 allfit과 다름. (기존 allfit 방식이 틀렸음.)\n",
    "with all fit trained model <br>\n",
    "allfit2_seed42-06-0.5519.hdf5"
   ]
  },
  {
   "cell_type": "code",
   "execution_count": 11,
   "id": "2dfdefdb",
   "metadata": {},
   "outputs": [
    {
     "name": "stdout",
     "output_type": "stream",
     "text": [
      "WARNING:tensorflow:Layer lstm_8 will not use cuDNN kernels since it doesn't meet the criteria. It will use a generic GPU kernel as fallback when running on GPU.\n",
      "WARNING:tensorflow:Layer lstm_9 will not use cuDNN kernels since it doesn't meet the criteria. It will use a generic GPU kernel as fallback when running on GPU.\n",
      "WARNING:tensorflow:Layer lstm_10 will not use cuDNN kernels since it doesn't meet the criteria. It will use a generic GPU kernel as fallback when running on GPU.\n",
      "WARNING:tensorflow:Layer lstm_11 will not use cuDNN kernels since it doesn't meet the criteria. It will use a generic GPU kernel as fallback when running on GPU.\n"
     ]
    }
   ],
   "source": [
    "# 1) DATA \n",
    "import random    \n",
    "# ---------------------\n",
    "seed_num = 42\n",
    "# ---------------------\n",
    "random.seed(seed_num)\n",
    "\n",
    "x = np.load('/project/LSH/x_(7727,10,4068).npy')\n",
    "y = np.load('/project/LSH/y_(7727,1).npy')\n",
    "\n",
    "# 2) MODEL\n",
    "with tf.device('/device:GPU:0'):\n",
    "    tf.config.experimental.set_virtual_device_configuration(gpus[0], \n",
    "                                                            [tf.config.experimental.VirtualDeviceConfiguration(memory_limit=5*1024)])\n",
    "    from keras.models import load_model\n",
    "    lstm2 = load_model('allfit2_seed42-06-0.5519.hdf5')\n",
    "    \n",
    "# 3) baseline\n",
    "    # FEATURES\n",
    "    a = pd.read_csv('/project/LSH/total_data_7727.csv')\n",
    "    features = list(a['ITEMID'].sort_values().unique()) # 4068개 ITEMID \n",
    "\n",
    "    results = []    \n",
    "    preds = lstm2.predict(x)\n",
    "    preds_mean = np.mean(preds) # base preds\n",
    "\n",
    "    results.append({'feature':'BASELINE','baseline':preds_mean})\n",
    "#     tf.device('/device:GPU:0').close()"
   ]
  },
  {
   "cell_type": "code",
   "execution_count": 12,
   "id": "0709f0ea",
   "metadata": {},
   "outputs": [],
   "source": [
    "pd.Series(preds.flatten(), name = 'preds').to_csv('new_allfit_preds_base.csv', index = False)"
   ]
  },
  {
   "cell_type": "code",
   "execution_count": 13,
   "id": "caf61f9e",
   "metadata": {},
   "outputs": [
    {
     "data": {
      "text/plain": [
       "[{'feature': 'BASELINE', 'baseline': 0.5553324}]"
      ]
     },
     "execution_count": 13,
     "metadata": {},
     "output_type": "execute_result"
    }
   ],
   "source": [
    "results"
   ]
  },
  {
   "cell_type": "markdown",
   "id": "e820ce81",
   "metadata": {},
   "source": [
    "## all to 1"
   ]
  },
  {
   "cell_type": "code",
   "execution_count": null,
   "id": "ccfc8747",
   "metadata": {},
   "outputs": [
    {
     "name": "stdout",
     "output_type": "stream",
     "text": [
      "WARNING:tensorflow:Layer lstm_8 will not use cuDNN kernels since it doesn't meet the criteria. It will use a generic GPU kernel as fallback when running on GPU.\n",
      "WARNING:tensorflow:Layer lstm_9 will not use cuDNN kernels since it doesn't meet the criteria. It will use a generic GPU kernel as fallback when running on GPU.\n",
      "WARNING:tensorflow:Layer lstm_10 will not use cuDNN kernels since it doesn't meet the criteria. It will use a generic GPU kernel as fallback when running on GPU.\n"
     ]
    },
    {
     "name": "stderr",
     "output_type": "stream",
     "text": [
      "Using TensorFlow backend.\n"
     ]
    },
    {
     "name": "stdout",
     "output_type": "stream",
     "text": [
      "WARNING:tensorflow:Layer lstm_11 will not use cuDNN kernels since it doesn't meet the criteria. It will use a generic GPU kernel as fallback when running on GPU.\n"
     ]
    },
    {
     "name": "stderr",
     "output_type": "stream",
     "text": [
      " 22%|██▏       | 883/4068 [37:57<2:18:36,  2.61s/it]"
     ]
    }
   ],
   "source": [
    "# 1) DATA \n",
    "import random    \n",
    "# ---------------------\n",
    "seed_num = 42\n",
    "# ---------------------\n",
    "random.seed(seed_num)\n",
    "\n",
    "x = np.load('/project/LSH/x_(7727,10,4068).npy')\n",
    "y = np.load('/project/LSH/y_(7727,1).npy')\n",
    "\n",
    "####################################################################################################################\n",
    "\n",
    "# 2) MODEL\n",
    "with tf.device('/device:GPU:0'): #모델 돌리는 동안 다 이 안에 넣어놓기\n",
    "    tf.config.experimental.set_virtual_device_configuration(gpus[0], \n",
    "                                                            [tf.config.experimental.VirtualDeviceConfiguration(memory_limit=5*1024)])\n",
    "    from keras.models import load_model\n",
    "    lstm2 = load_model('allfit2_seed42-06-0.5519.hdf5')\n",
    "\n",
    "# 3) all_to_1\n",
    "    # FEATURES\n",
    "    a = pd.read_csv('/project/LSH/total_data_7727.csv')\n",
    "    features = list(a['ITEMID'].sort_values().unique()) # 4068개 ITEMID \n",
    "\n",
    "\n",
    "    preds2_dic = {} # 그래프 만들 때 쓸 dic\n",
    "    preds2_mean_lst = [] # 이거는 df 만들 때만 사용.\n",
    "\n",
    "    for k in tqdm(range(len(features))):\n",
    "\n",
    "        # REVERSE ALL FEATURE K\n",
    "        save_col = x[:,:,k].copy()\n",
    "\n",
    "        # all_to_1\n",
    "        x[:,:,k] = 1\n",
    "\n",
    "        # all_to_0\n",
    "    #     x[:,:,k] = 0\n",
    "\n",
    "        # inverse\n",
    "    #     x[:,:,k] = np.where(x[:,:,k]==1, 2, x[:,:,k])\n",
    "    #     x[:,:,k] = np.where(x[:,:,k]==0, 1, x[:,:,k])\n",
    "    #     x[:,:,k] = np.where(x[:,:,k]==2, 0, x[:,:,k])\n",
    "\n",
    "        # COMPUTE BCE WITH FEATURE K all_to_1, preds2_mean_list\n",
    "        preds2 = lstm2.predict(x)\n",
    "        preds2_dic[features[k]] = preds2 # 그래프 만들 때 쓸 dic\n",
    "        preds2_mean_lst.append(np.mean(preds2)) # 이거는 df 만들 때만 사용.\n",
    "\n",
    "#         loss_bce = bce(y_test, preds2).numpy()\n",
    "#         results.append({'feature':features[k],'mean_preds2':np.mean(preds2)})\n",
    "        x[:,:,k] = save_col"
   ]
  },
  {
   "cell_type": "code",
   "execution_count": null,
   "id": "5f7a590a",
   "metadata": {},
   "outputs": [],
   "source": [
    "df1 = pd.DataFrame(preds2_mean_lst)\n",
    "\n",
    "######################################################################\n",
    "df_all_to_1 = df1.copy()\n",
    "all_to_1_all_preds2 = preds2_dic.copy()\n",
    "df_all_to_1.columns = ['mean_preds2']\n",
    "df_all_to_1.to_csv('new_allfit_all_to_1_mean_preds2.csv', index = False)"
   ]
  },
  {
   "cell_type": "code",
   "execution_count": null,
   "id": "c8feadeb",
   "metadata": {},
   "outputs": [],
   "source": [
    "for i,j in enumerate(all_to_1_all_preds2.keys()):\n",
    "    if i == 0:\n",
    "        ori = pd.Series(all_to_1_all_preds2[j].flatten(), name = j)\n",
    "    \n",
    "    else:\n",
    "        tmp = pd.Series(all_to_1_all_preds2[j].flatten(), name = j)\n",
    "        ori = pd.concat([ori, tmp], axis = 1)   # ori 계속 덮어쓰기\n",
    "ori.to_csv('new_allfit_all_to_1_all_preds2.csv', index=False)"
   ]
  },
  {
   "cell_type": "code",
   "execution_count": null,
   "id": "77101885",
   "metadata": {},
   "outputs": [],
   "source": []
  },
  {
   "cell_type": "markdown",
   "id": "15fab16e",
   "metadata": {},
   "source": [
    "## all to 0"
   ]
  },
  {
   "cell_type": "code",
   "execution_count": null,
   "id": "4eac07ad",
   "metadata": {},
   "outputs": [],
   "source": [
    "# 1) DATA \n",
    "import random    \n",
    "# ---------------------\n",
    "seed_num = 42\n",
    "# ---------------------\n",
    "random.seed(seed_num)\n",
    "\n",
    "x = np.load('/project/LSH/x_(7727,10,4068).npy')\n",
    "y = np.load('/project/LSH/y_(7727,1).npy')\n",
    "\n",
    "####################################################################################################################\n",
    "\n",
    "# 2) MODEL\n",
    "with tf.device('/device:GPU:0'): #모델 돌리는 동안 다 이 안에 넣어놓기\n",
    "    tf.config.experimental.set_virtual_device_configuration(gpus[0], \n",
    "                                                            [tf.config.experimental.VirtualDeviceConfiguration(memory_limit=5*1024)])\n",
    "    from keras.models import load_model\n",
    "    lstm2 = load_model('allfit2_seed42-06-0.5519.hdf5')\n",
    "\n",
    "# 3) all_to_1\n",
    "    # FEATURES\n",
    "    a = pd.read_csv('/project/LSH/total_data_7727.csv')\n",
    "    features = list(a['ITEMID'].sort_values().unique()) # 4068개 ITEMID \n",
    "\n",
    "\n",
    "    preds2_dic = {} # 그래프 만들 때 쓸 dic\n",
    "    preds2_mean_lst = [] # 이거는 df 만들 때만 사용.\n",
    "\n",
    "    for k in tqdm(range(len(features))):\n",
    "\n",
    "        # REVERSE ALL FEATURE K\n",
    "        save_col = x[:,:,k].copy()\n",
    "\n",
    "        # all_to_1\n",
    "#         x[:,:,k] = 1\n",
    "\n",
    "        # all_to_0\n",
    "        x[:,:,k] = 0\n",
    "\n",
    "        # inverse\n",
    "    #     x[:,:,k] = np.where(x[:,:,k]==1, 2, x[:,:,k])\n",
    "    #     x[:,:,k] = np.where(x[:,:,k]==0, 1, x[:,:,k])\n",
    "    #     x[:,:,k] = np.where(x[:,:,k]==2, 0, x[:,:,k])\n",
    "\n",
    "        # COMPUTE BCE WITH FEATURE K all_to_1, preds2_mean_list\n",
    "        preds2 = lstm2.predict(x)\n",
    "        preds2_dic[features[k]] = preds2 # 그래프 만들 때 쓸 dic\n",
    "        preds2_mean_lst.append(np.mean(preds2)) # 이거는 df 만들 때만 사용.\n",
    "\n",
    "        x[:,:,k] = save_col"
   ]
  },
  {
   "cell_type": "code",
   "execution_count": null,
   "id": "385cd059",
   "metadata": {},
   "outputs": [],
   "source": [
    "df1 = pd.DataFrame(preds2_mean_lst)\n",
    "\n",
    "######################################################################\n",
    "df_all_to_0 = df1.copy()\n",
    "all_to_0_all_preds2 = preds2_dic.copy()\n",
    "df_all_to_0.columns = ['mean_preds2']\n",
    "df_all_to_0.to_csv('new_allfit_all_to_0_mean_preds2.csv', index = False)"
   ]
  },
  {
   "cell_type": "code",
   "execution_count": null,
   "id": "6391db1d",
   "metadata": {},
   "outputs": [],
   "source": [
    "for i,j in enumerate(all_to_0_all_preds2.keys()):\n",
    "    if i == 0:\n",
    "        ori = pd.Series(all_to_0_all_preds2[j].flatten(), name = j)\n",
    "    \n",
    "    else:\n",
    "        tmp = pd.Series(all_to_0_all_preds2[j].flatten(), name = j)\n",
    "        ori = pd.concat([ori, tmp], axis = 1)   # ori 계속 덮어쓰기\n",
    "ori.to_csv('new_allfit_all_to_0_all_preds2.csv', index=False)"
   ]
  },
  {
   "cell_type": "code",
   "execution_count": null,
   "id": "89a2fba3",
   "metadata": {},
   "outputs": [],
   "source": []
  },
  {
   "cell_type": "markdown",
   "id": "39f38752",
   "metadata": {},
   "source": [
    "## inverse"
   ]
  },
  {
   "cell_type": "code",
   "execution_count": null,
   "id": "1f803ec7",
   "metadata": {},
   "outputs": [],
   "source": [
    "# 1) DATA \n",
    "import random    \n",
    "# ---------------------\n",
    "seed_num = 42\n",
    "# ---------------------\n",
    "random.seed(seed_num)\n",
    "\n",
    "x = np.load('/project/LSH/x_(7727,10,4068).npy')\n",
    "y = np.load('/project/LSH/y_(7727,1).npy')\n",
    "\n",
    "####################################################################################################################\n",
    "\n",
    "# 2) MODEL\n",
    "with tf.device('/device:GPU:0'): #모델 돌리는 동안 다 이 안에 넣어놓기\n",
    "    tf.config.experimental.set_virtual_device_configuration(gpus[0], \n",
    "                                                            [tf.config.experimental.VirtualDeviceConfiguration(memory_limit=5*1024)])\n",
    "    from keras.models import load_model\n",
    "    lstm2 = load_model('allfit2_seed42-06-0.5519.hdf5')\n",
    "\n",
    "# 3) all_to_1\n",
    "    # FEATURES\n",
    "    a = pd.read_csv('/project/LSH/total_data_7727.csv')\n",
    "    features = list(a['ITEMID'].sort_values().unique()) # 4068개 ITEMID \n",
    "\n",
    "\n",
    "    preds2_dic = {} # 그래프 만들 때 쓸 dic\n",
    "    preds2_mean_lst = [] # 이거는 df 만들 때만 사용.\n",
    "\n",
    "    for k in tqdm(range(len(features))):\n",
    "\n",
    "        # REVERSE ALL FEATURE K\n",
    "        save_col = x[:,:,k].copy()\n",
    "\n",
    "        # all_to_1\n",
    "#         x[:,:,k] = 1\n",
    "\n",
    "        # all_to_0\n",
    "#         x[:,:,k] = 0\n",
    "\n",
    "        # inverse\n",
    "        x[:,:,k] = np.where(x[:,:,k]==1, 2, x[:,:,k])\n",
    "        x[:,:,k] = np.where(x[:,:,k]==0, 1, x[:,:,k])\n",
    "        x[:,:,k] = np.where(x[:,:,k]==2, 0, x[:,:,k])\n",
    "\n",
    "        # COMPUTE BCE WITH FEATURE K all_to_1, preds2_mean_list\n",
    "        preds2 = lstm2.predict(x)\n",
    "        preds2_dic[features[k]] = preds2 # 그래프 만들 때 쓸 dic\n",
    "        preds2_mean_lst.append(np.mean(preds2)) # 이거는 df 만들 때만 사용.\n",
    "\n",
    "        x[:,:,k] = save_col"
   ]
  },
  {
   "cell_type": "code",
   "execution_count": null,
   "id": "bc70ef72",
   "metadata": {},
   "outputs": [],
   "source": [
    "df1 = pd.DataFrame(preds2_mean_lst)\n",
    "\n",
    "######################################################################\n",
    "df_inverse = df1.copy()\n",
    "inverse_all_preds2 = preds2_dic.copy()\n",
    "df_inverse.columns = ['mean_preds2']\n",
    "df_inverse.to_csv('new_allfit_inverse_mean_preds2.csv', index = False)"
   ]
  },
  {
   "cell_type": "code",
   "execution_count": null,
   "id": "fb46b1b9",
   "metadata": {},
   "outputs": [],
   "source": [
    "for i,j in enumerate(inverse_all_preds2.keys()):\n",
    "    if i == 0:\n",
    "        ori = pd.Series(inverse_all_preds2[j].flatten(), name = j)\n",
    "    \n",
    "    else:\n",
    "        tmp = pd.Series(inverse_all_preds2[j].flatten(), name = j)\n",
    "        ori = pd.concat([ori, tmp], axis = 1)   # ori 계속 덮어쓰기\n",
    "ori.to_csv('new_allfit_inverse_all_preds2.csv', index=False)"
   ]
  },
  {
   "cell_type": "code",
   "execution_count": null,
   "id": "ea9fdca8",
   "metadata": {},
   "outputs": [],
   "source": []
  },
  {
   "cell_type": "markdown",
   "id": "ebb9e640",
   "metadata": {},
   "source": [
    "# top_bot_lst"
   ]
  },
  {
   "cell_type": "code",
   "execution_count": 4,
   "id": "ab8b696f",
   "metadata": {},
   "outputs": [],
   "source": [
    "rf_top10_lst = [51277, 50912, 51006, 63323026201, 50862, 50983, 51003, 51275, 904224461, 50882]\n",
    "rf_bot10_lst = [55390012210, 536479301, 536376701, 536185097, 55390013910, 55390014301, 527155201, 2704001, 517420125, 575022530]\n",
    "\n",
    "M1_entropy_top10_lst = [409176230, 51003, 487980125, 50862, 50813, 50868, 409606211, 338004902, 45006701, 55390007310]\n",
    "M1_entropy_bot10_lst = [64253033335, 51079096620, 904526161, 58177000111, 51200, 56017275, 227194, 224277, 50861, 51249]"
   ]
  },
  {
   "cell_type": "markdown",
   "id": "5cfc0540",
   "metadata": {},
   "source": [
    "# data load"
   ]
  },
  {
   "cell_type": "code",
   "execution_count": 5,
   "id": "bb33c031",
   "metadata": {},
   "outputs": [],
   "source": [
    "data_base = pd.read_csv('new_allfit_preds_base.csv')\n",
    "data_all_to_1 = pd.read_csv('new_allfit_all_to_1_all_preds2.csv')\n",
    "data_all_to_0 = pd.read_csv('new_allfit_all_to_0_all_preds2.csv')\n",
    "data_inverse = pd.read_csv('new_allfit_inverse_all_preds2.csv')"
   ]
  },
  {
   "cell_type": "code",
   "execution_count": null,
   "id": "7eb8c235",
   "metadata": {},
   "outputs": [],
   "source": []
  },
  {
   "cell_type": "code",
   "execution_count": 25,
   "id": "8afd869a",
   "metadata": {},
   "outputs": [],
   "source": [
    "def mean_diff(top_bot_lst):\n",
    "    ############################################### df processing\n",
    "    for i in top_bot_lst:\n",
    "        colnm = str(i)\n",
    "        tmp1 = pd.Series(data_all_to_1[colnm], name = f'all_to_1_{i}') # all to 1\n",
    "        tmp2 = pd.Series(data_all_to_0[colnm], name = f'all_to_0_{i}') # all to 0\n",
    "        tmp3 = pd.Series(data_inverse[colnm], name = f'inverse_{i}') # inverse\n",
    "        tmp4 = pd.Series(tmp1-tmp2, name = f'diff_{i}') # diff\n",
    "        globals()['final_df_{}'.format(i)] = pd.concat([data_base, tmp1, tmp2, tmp3, tmp4], axis = 1)"
   ]
  },
  {
   "cell_type": "code",
   "execution_count": 12,
   "id": "ce2de7cf",
   "metadata": {},
   "outputs": [],
   "source": [
    "top_bot = [rf_top10_lst, rf_bot10_lst, M1_entropy_top10_lst, M1_entropy_bot10_lst]"
   ]
  },
  {
   "cell_type": "code",
   "execution_count": 37,
   "id": "7a089854",
   "metadata": {},
   "outputs": [],
   "source": [
    "for i in range(len(top_bot)):\n",
    "    mean_diff(top_bot[i])"
   ]
  },
  {
   "cell_type": "code",
   "execution_count": 40,
   "id": "2d0f0f5d",
   "metadata": {},
   "outputs": [
    {
     "data": {
      "text/plain": [
       "'item: 51277, mean: 0.1328631993682848'"
      ]
     },
     "execution_count": 40,
     "metadata": {},
     "output_type": "execute_result"
    },
    {
     "data": {
      "text/plain": [
       "'item: 50912, mean: 0.06941548161747572'"
      ]
     },
     "execution_count": 40,
     "metadata": {},
     "output_type": "execute_result"
    },
    {
     "data": {
      "text/plain": [
       "'item: 51006, mean: 0.1086956901592233'"
      ]
     },
     "execution_count": 40,
     "metadata": {},
     "output_type": "execute_result"
    },
    {
     "data": {
      "text/plain": [
       "'item: 63323026201, mean: -0.10875725173592234'"
      ]
     },
     "execution_count": 40,
     "metadata": {},
     "output_type": "execute_result"
    },
    {
     "data": {
      "text/plain": [
       "'item: 50862, mean: 0.08114032732815533'"
      ]
     },
     "execution_count": 40,
     "metadata": {},
     "output_type": "execute_result"
    },
    {
     "data": {
      "text/plain": [
       "'item: 50983, mean: 0.06333551276116506'"
      ]
     },
     "execution_count": 40,
     "metadata": {},
     "output_type": "execute_result"
    },
    {
     "data": {
      "text/plain": [
       "'item: 51003, mean: 0.10940296077734626'"
      ]
     },
     "execution_count": 40,
     "metadata": {},
     "output_type": "execute_result"
    },
    {
     "data": {
      "text/plain": [
       "'item: 51275, mean: 0.03224899029967637'"
      ]
     },
     "execution_count": 40,
     "metadata": {},
     "output_type": "execute_result"
    },
    {
     "data": {
      "text/plain": [
       "'item: 904224461, mean: -0.013541430485436892'"
      ]
     },
     "execution_count": 40,
     "metadata": {},
     "output_type": "execute_result"
    },
    {
     "data": {
      "text/plain": [
       "'item: 50882, mean: 0.07324316808996764'"
      ]
     },
     "execution_count": 40,
     "metadata": {},
     "output_type": "execute_result"
    },
    {
     "data": {
      "text/plain": [
       "'##########################################################################################'"
      ]
     },
     "execution_count": 40,
     "metadata": {},
     "output_type": "execute_result"
    },
    {
     "data": {
      "text/plain": [
       "'item: 55390012210, mean: 0.011686262816828477'"
      ]
     },
     "execution_count": 40,
     "metadata": {},
     "output_type": "execute_result"
    },
    {
     "data": {
      "text/plain": [
       "'item: 536479301, mean: -0.0033129884148867315'"
      ]
     },
     "execution_count": 40,
     "metadata": {},
     "output_type": "execute_result"
    },
    {
     "data": {
      "text/plain": [
       "'item: 536376701, mean: 0.0017838874330097087'"
      ]
     },
     "execution_count": 40,
     "metadata": {},
     "output_type": "execute_result"
    },
    {
     "data": {
      "text/plain": [
       "'item: 536185097, mean: 0.0010713634796116495'"
      ]
     },
     "execution_count": 40,
     "metadata": {},
     "output_type": "execute_result"
    },
    {
     "data": {
      "text/plain": [
       "'item: 55390013910, mean: -0.0010119944796116512'"
      ]
     },
     "execution_count": 40,
     "metadata": {},
     "output_type": "execute_result"
    },
    {
     "data": {
      "text/plain": [
       "'item: 55390014301, mean: -0.0010854713320388352'"
      ]
     },
     "execution_count": 40,
     "metadata": {},
     "output_type": "execute_result"
    },
    {
     "data": {
      "text/plain": [
       "'item: 527155201, mean: 0.004502023836245954'"
      ]
     },
     "execution_count": 40,
     "metadata": {},
     "output_type": "execute_result"
    },
    {
     "data": {
      "text/plain": [
       "'item: 2704001, mean: 0.0009154612097087378'"
      ]
     },
     "execution_count": 40,
     "metadata": {},
     "output_type": "execute_result"
    },
    {
     "data": {
      "text/plain": [
       "'item: 517420125, mean: -0.00022166139223301053'"
      ]
     },
     "execution_count": 40,
     "metadata": {},
     "output_type": "execute_result"
    },
    {
     "data": {
      "text/plain": [
       "'item: 575022530, mean: 0.02127736066990291'"
      ]
     },
     "execution_count": 40,
     "metadata": {},
     "output_type": "execute_result"
    },
    {
     "data": {
      "text/plain": [
       "'##########################################################################################'"
      ]
     },
     "execution_count": 40,
     "metadata": {},
     "output_type": "execute_result"
    },
    {
     "data": {
      "text/plain": [
       "'item: 409176230, mean: 0.10204527864660196'"
      ]
     },
     "execution_count": 40,
     "metadata": {},
     "output_type": "execute_result"
    },
    {
     "data": {
      "text/plain": [
       "'item: 51003, mean: 0.10940296077734626'"
      ]
     },
     "execution_count": 40,
     "metadata": {},
     "output_type": "execute_result"
    },
    {
     "data": {
      "text/plain": [
       "'item: 487980125, mean: 0.05632113718640777'"
      ]
     },
     "execution_count": 40,
     "metadata": {},
     "output_type": "execute_result"
    },
    {
     "data": {
      "text/plain": [
       "'item: 50862, mean: 0.08114032732815533'"
      ]
     },
     "execution_count": 40,
     "metadata": {},
     "output_type": "execute_result"
    },
    {
     "data": {
      "text/plain": [
       "'item: 50813, mean: 0.08028016775922331'"
      ]
     },
     "execution_count": 40,
     "metadata": {},
     "output_type": "execute_result"
    },
    {
     "data": {
      "text/plain": [
       "'item: 50868, mean: 0.08475820932880258'"
      ]
     },
     "execution_count": 40,
     "metadata": {},
     "output_type": "execute_result"
    },
    {
     "data": {
      "text/plain": [
       "'item: 409606211, mean: 0.19302746865177992'"
      ]
     },
     "execution_count": 40,
     "metadata": {},
     "output_type": "execute_result"
    },
    {
     "data": {
      "text/plain": [
       "'item: 338004902, mean: 0.05482872907055015'"
      ]
     },
     "execution_count": 40,
     "metadata": {},
     "output_type": "execute_result"
    },
    {
     "data": {
      "text/plain": [
       "'item: 45006701, mean: 0.11723766301618121'"
      ]
     },
     "execution_count": 40,
     "metadata": {},
     "output_type": "execute_result"
    },
    {
     "data": {
      "text/plain": [
       "'item: 55390007310, mean: 0.09253441322847898'"
      ]
     },
     "execution_count": 40,
     "metadata": {},
     "output_type": "execute_result"
    },
    {
     "data": {
      "text/plain": [
       "'##########################################################################################'"
      ]
     },
     "execution_count": 40,
     "metadata": {},
     "output_type": "execute_result"
    },
    {
     "data": {
      "text/plain": [
       "'item: 64253033335, mean: -0.019172880798058255'"
      ]
     },
     "execution_count": 40,
     "metadata": {},
     "output_type": "execute_result"
    },
    {
     "data": {
      "text/plain": [
       "'item: 51079096620, mean: -0.0847276152304207'"
      ]
     },
     "execution_count": 40,
     "metadata": {},
     "output_type": "execute_result"
    },
    {
     "data": {
      "text/plain": [
       "'item: 904526161, mean: -0.10735298157087378'"
      ]
     },
     "execution_count": 40,
     "metadata": {},
     "output_type": "execute_result"
    },
    {
     "data": {
      "text/plain": [
       "'item: 58177000111, mean: -0.06768433133074434'"
      ]
     },
     "execution_count": 40,
     "metadata": {},
     "output_type": "execute_result"
    },
    {
     "data": {
      "text/plain": [
       "'item: 51200, mean: -0.116209631805178'"
      ]
     },
     "execution_count": 40,
     "metadata": {},
     "output_type": "execute_result"
    },
    {
     "data": {
      "text/plain": [
       "'item: 56017275, mean: -0.09875008503171522'"
      ]
     },
     "execution_count": 40,
     "metadata": {},
     "output_type": "execute_result"
    },
    {
     "data": {
      "text/plain": [
       "'item: 227194, mean: -0.13763709218317152'"
      ]
     },
     "execution_count": 40,
     "metadata": {},
     "output_type": "execute_result"
    },
    {
     "data": {
      "text/plain": [
       "'item: 224277, mean: -0.07514331092815534'"
      ]
     },
     "execution_count": 40,
     "metadata": {},
     "output_type": "execute_result"
    },
    {
     "data": {
      "text/plain": [
       "'item: 50861, mean: -0.09975139004919094'"
      ]
     },
     "execution_count": 40,
     "metadata": {},
     "output_type": "execute_result"
    },
    {
     "data": {
      "text/plain": [
       "'item: 51249, mean: -0.07495271450614886'"
      ]
     },
     "execution_count": 40,
     "metadata": {},
     "output_type": "execute_result"
    },
    {
     "data": {
      "text/plain": [
       "'##########################################################################################'"
      ]
     },
     "execution_count": 40,
     "metadata": {},
     "output_type": "execute_result"
    }
   ],
   "source": [
    "for j in range(len(top_bot)):\n",
    "    for i in top_bot[j]:\n",
    "        f\"item: {i}, mean: {np.mean(globals()['final_df_{}'.format(i)][f'diff_{i}'])}\"\n",
    "    \"##########################################################################################\""
   ]
  },
  {
   "cell_type": "code",
   "execution_count": 33,
   "id": "5fec69e4",
   "metadata": {},
   "outputs": [
    {
     "ename": "ImproperUseError",
     "evalue": "Argument Subscript(value=Name(id='top_bot', ctx=Load()), slice=Index(value=Constant(value=0, kind=None)), ctx=Load()) is not a variable or an attribute.",
     "output_type": "error",
     "traceback": [
      "\u001b[0;31m---------------------------------------------------------------------------\u001b[0m",
      "\u001b[0;31mImproperUseError\u001b[0m                          Traceback (most recent call last)",
      "\u001b[0;32m<ipython-input-33-2f064d0fada5>\u001b[0m in \u001b[0;36m<module>\u001b[0;34m\u001b[0m\n\u001b[0;32m----> 1\u001b[0;31m \u001b[0mnameof\u001b[0m\u001b[0;34m(\u001b[0m\u001b[0mtop_bot\u001b[0m\u001b[0;34m[\u001b[0m\u001b[0;36m0\u001b[0m\u001b[0;34m]\u001b[0m\u001b[0;34m)\u001b[0m\u001b[0;34m\u001b[0m\u001b[0;34m\u001b[0m\u001b[0m\n\u001b[0m",
      "\u001b[0;32m~/.local/lib/python3.8/site-packages/varname/core.py\u001b[0m in \u001b[0;36mnameof\u001b[0;34m(var, frame, vars_only, *more_vars)\u001b[0m\n\u001b[1;32m    308\u001b[0m         )\n\u001b[1;32m    309\u001b[0m \u001b[0;34m\u001b[0m\u001b[0m\n\u001b[0;32m--> 310\u001b[0;31m     out = argname(\n\u001b[0m\u001b[1;32m    311\u001b[0m         \u001b[0;34m\"var\"\u001b[0m\u001b[0;34m,\u001b[0m\u001b[0;34m\u001b[0m\u001b[0;34m\u001b[0m\u001b[0m\n\u001b[1;32m    312\u001b[0m         \u001b[0;34m\"*more_vars\"\u001b[0m\u001b[0;34m,\u001b[0m\u001b[0;34m\u001b[0m\u001b[0;34m\u001b[0m\u001b[0m\n",
      "\u001b[0;32m~/.local/lib/python3.8/site-packages/varname/core.py\u001b[0m in \u001b[0;36margname\u001b[0;34m(arg, func, dispatch, frame, ignore, vars_only, *more_args)\u001b[0m\n\u001b[1;32m    450\u001b[0m         \u001b[0msource\u001b[0m \u001b[0;34m=\u001b[0m \u001b[0margument_sources\u001b[0m\u001b[0;34m[\u001b[0m\u001b[0mfarg_name\u001b[0m\u001b[0;34m]\u001b[0m\u001b[0;34m\u001b[0m\u001b[0;34m\u001b[0m\u001b[0m\n\u001b[1;32m    451\u001b[0m         \u001b[0;32mif\u001b[0m \u001b[0misinstance\u001b[0m\u001b[0;34m(\u001b[0m\u001b[0msource\u001b[0m\u001b[0;34m,\u001b[0m \u001b[0mast\u001b[0m\u001b[0;34m.\u001b[0m\u001b[0mAST\u001b[0m\u001b[0;34m)\u001b[0m\u001b[0;34m:\u001b[0m\u001b[0;34m\u001b[0m\u001b[0;34m\u001b[0m\u001b[0m\n\u001b[0;32m--> 452\u001b[0;31m             raise ImproperUseError(\n\u001b[0m\u001b[1;32m    453\u001b[0m                 \u001b[0;34mf\"Argument {ast.dump(source)} is not a variable \"\u001b[0m\u001b[0;34m\u001b[0m\u001b[0;34m\u001b[0m\u001b[0m\n\u001b[1;32m    454\u001b[0m                 \u001b[0;34m\"or an attribute.\"\u001b[0m\u001b[0;34m\u001b[0m\u001b[0;34m\u001b[0m\u001b[0m\n",
      "\u001b[0;31mImproperUseError\u001b[0m: Argument Subscript(value=Name(id='top_bot', ctx=Load()), slice=Index(value=Constant(value=0, kind=None)), ctx=Load()) is not a variable or an attribute."
     ]
    }
   ],
   "source": []
  }
 ],
 "metadata": {
  "kernelspec": {
   "display_name": "Python 3",
   "language": "python",
   "name": "python3"
  },
  "language_info": {
   "codemirror_mode": {
    "name": "ipython",
    "version": 3
   },
   "file_extension": ".py",
   "mimetype": "text/x-python",
   "name": "python",
   "nbconvert_exporter": "python",
   "pygments_lexer": "ipython3",
   "version": "3.8.5"
  },
  "latex_envs": {
   "LaTeX_envs_menu_present": true,
   "autoclose": false,
   "autocomplete": true,
   "bibliofile": "biblio.bib",
   "cite_by": "apalike",
   "current_citInitial": 1,
   "eqLabelWithNumbers": true,
   "eqNumInitial": 1,
   "hotkeys": {
    "equation": "Ctrl-E",
    "itemize": "Ctrl-I"
   },
   "labels_anchors": false,
   "latex_user_defs": false,
   "report_style_numbering": false,
   "user_envs_cfg": false
  },
  "toc": {
   "base_numbering": 1,
   "nav_menu": {},
   "number_sections": true,
   "sideBar": true,
   "skip_h1_title": false,
   "title_cell": "Table of Contents",
   "title_sidebar": "Contents",
   "toc_cell": false,
   "toc_position": {},
   "toc_section_display": true,
   "toc_window_display": false
  }
 },
 "nbformat": 4,
 "nbformat_minor": 5
}
