{
 "cells": [
  {
   "cell_type": "code",
   "execution_count": 43,
   "id": "38013f73",
   "metadata": {},
   "outputs": [],
   "source": [
    "import numpy as np\n",
    "# from random import seed\n",
    "from random import random\n",
    "\n",
    "# seed(1)"
   ]
  },
  {
   "cell_type": "code",
   "execution_count": 94,
   "id": "80943a15",
   "metadata": {},
   "outputs": [
    {
     "name": "stdout",
     "output_type": "stream",
     "text": [
      "0 \t 0.1\n",
      "0.1 \t 0.2\n",
      "0.2 \t 0.30000000000000004\n",
      "0.30000000000000004 \t 0.9\n",
      "0.9 \t 1.0\n"
     ]
    },
    {
     "data": {
      "text/plain": [
       "[0.13436424411240122,\n",
       " 0.8474337369372327,\n",
       " 0.763774618976614,\n",
       " 0.2550690257394217,\n",
       " 0.49543508709194095]"
      ]
     },
     "execution_count": 94,
     "metadata": {},
     "output_type": "execute_result"
    }
   ],
   "source": [
    "x = np.load('/project/LSH/x_(7727,10,4068).npy')\n",
    "y = np.load('/project/LSH/y_(7727,1).npy')\n",
    "\n",
    "\n",
    "x = x[:5]\n",
    "y= y[:5]\n",
    "\n",
    "sample_weight = [0.1, 0.1, 0.1, 0.6, 0.1]\n",
    "# [i/sum(sample_weight) for i in sample_weight]\n",
    "\n",
    "# 1. new sample weight로 update, 2. 범위 지정 by tuple\n",
    "range_list = []\n",
    "update = 0\n",
    "for i in sample_weight:\n",
    "    range_list.append((update, update + i/sum(sample_weight)))\n",
    "    print(f'{update} \\t {update + i/sum(sample_weight)}')\n",
    "    update += i/sum(sample_weight)\n",
    "\n",
    "# 3. 0~1 사이 값 len(sample_weight)개 random 추출\n",
    "\n",
    "randoms = [random() for _ in range(len(sample_weight))]\n",
    "randoms"
   ]
  },
  {
   "cell_type": "code",
   "execution_count": 103,
   "id": "2e658c64",
   "metadata": {},
   "outputs": [
    {
     "name": "stdout",
     "output_type": "stream",
     "text": [
      "1 (0.1, 0.2)\n",
      "3 (0.30000000000000004, 0.9)\n",
      "3 (0.30000000000000004, 0.9)\n",
      "2 (0.2, 0.30000000000000004)\n",
      "3 (0.30000000000000004, 0.9)\n"
     ]
    }
   ],
   "source": [
    "# for i in range(len(randoms)):\n",
    "#     randoms[i]\n",
    "x0 = x.copy()\n",
    "for i in range(len(randoms)):\n",
    "    for j in range(len(range_list)):\n",
    "        if range_list[j][0] < randoms[i] < range_list[j][1]:\n",
    "            print(j, range_list[j])\n",
    "            x0[i] = x[j]\n",
    "            break # for문 끊어서 시간 단축하기 위해."
   ]
  },
  {
   "cell_type": "code",
   "execution_count": null,
   "id": "72c68ad0",
   "metadata": {},
   "outputs": [],
   "source": []
  }
 ],
 "metadata": {
  "kernelspec": {
   "display_name": "Python 3",
   "language": "python",
   "name": "python3"
  },
  "language_info": {
   "codemirror_mode": {
    "name": "ipython",
    "version": 3
   },
   "file_extension": ".py",
   "mimetype": "text/x-python",
   "name": "python",
   "nbconvert_exporter": "python",
   "pygments_lexer": "ipython3",
   "version": "3.8.5"
  },
  "latex_envs": {
   "LaTeX_envs_menu_present": true,
   "autoclose": false,
   "autocomplete": true,
   "bibliofile": "biblio.bib",
   "cite_by": "apalike",
   "current_citInitial": 1,
   "eqLabelWithNumbers": true,
   "eqNumInitial": 1,
   "hotkeys": {
    "equation": "Ctrl-E",
    "itemize": "Ctrl-I"
   },
   "labels_anchors": false,
   "latex_user_defs": false,
   "report_style_numbering": false,
   "user_envs_cfg": false
  },
  "toc": {
   "base_numbering": 1,
   "nav_menu": {},
   "number_sections": true,
   "sideBar": true,
   "skip_h1_title": false,
   "title_cell": "Table of Contents",
   "title_sidebar": "Contents",
   "toc_cell": false,
   "toc_position": {},
   "toc_section_display": true,
   "toc_window_display": false
  }
 },
 "nbformat": 4,
 "nbformat_minor": 5
}
