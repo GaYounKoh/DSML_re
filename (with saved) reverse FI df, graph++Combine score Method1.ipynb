{
 "cells": [
  {
   "cell_type": "markdown",
   "metadata": {},
   "source": [
    "# Library"
   ]
  },
  {
   "cell_type": "code",
   "execution_count": 2,
   "metadata": {},
   "outputs": [
    {
     "ename": "NameError",
     "evalue": "name 'fonr_file' is not defined",
     "output_type": "error",
     "traceback": [
      "\u001b[1;31m---------------------------------------------------------------------------\u001b[0m",
      "\u001b[1;31mNameError\u001b[0m                                 Traceback (most recent call last)",
      "\u001b[1;32m<ipython-input-2-94b1ffb96f2e>\u001b[0m in \u001b[0;36m<module>\u001b[1;34m\u001b[0m\n\u001b[0;32m     17\u001b[0m \u001b[1;33m\u001b[0m\u001b[0m\n\u001b[0;32m     18\u001b[0m \u001b[1;32mfor\u001b[0m \u001b[0mfont_file\u001b[0m \u001b[1;32min\u001b[0m \u001b[0mfont_files\u001b[0m\u001b[1;33m:\u001b[0m\u001b[1;33m\u001b[0m\u001b[1;33m\u001b[0m\u001b[0m\n\u001b[1;32m---> 19\u001b[1;33m     \u001b[0mfm\u001b[0m\u001b[1;33m.\u001b[0m\u001b[0mfontManager\u001b[0m\u001b[1;33m.\u001b[0m\u001b[0maddfont\u001b[0m\u001b[1;33m(\u001b[0m\u001b[0mfonr_file\u001b[0m\u001b[1;33m)\u001b[0m\u001b[1;33m\u001b[0m\u001b[1;33m\u001b[0m\u001b[0m\n\u001b[0m\u001b[0;32m     20\u001b[0m \u001b[1;33m\u001b[0m\u001b[0m\n\u001b[0;32m     21\u001b[0m \u001b[1;31m# 한글 출력을 위해서 폰트 옵션을 설정\u001b[0m\u001b[1;33m\u001b[0m\u001b[1;33m\u001b[0m\u001b[1;33m\u001b[0m\u001b[0m\n",
      "\u001b[1;31mNameError\u001b[0m: name 'fonr_file' is not defined"
     ]
    }
   ],
   "source": [
    "import numpy as np, os\n",
    "import pandas as pd\n",
    "import tensorflow as tf\n",
    "from tqdm import tqdm\n",
    "import seaborn as sns\n",
    "import matplotlib.pyplot as plt\n",
    "\n",
    "# 결과 확인을 용이하게 하기 위한 코드\n",
    "from IPython.core.interactiveshell import InteractiveShell\n",
    "InteractiveShell.ast_node_interactivity = 'all'\n",
    "\n",
    "#한글설정\n",
    "import matplotlib.font_manager as fm\n",
    "\n",
    "font_dirs = ['./dsml_data/nanum', ] #서버에서의 경로 /usr/share/fonts/truetype/nanum\n",
    "font_files = fm.findSystemFonts(fontpaths=font_dirs)\n",
    "\n",
    "for font_file in font_files:\n",
    "    fm.fontManager.addfont(font_file)\n",
    "\n",
    "# 한글 출력을 위해서 폰트 옵션을 설정\n",
    "# \"axes.unicode_minus\" : 마이너스가 깨질 것을 방지\n",
    "\n",
    "sns.set(font = \"NanumBarunGothic\",\n",
    "        rc = {\"axes.unicode_minus\":False},\n",
    "        style = 'darkgrid')\n"
   ]
  },
  {
   "cell_type": "code",
   "execution_count": 2,
   "metadata": {},
   "outputs": [],
   "source": [
    "all_df = pd.read_csv('./dsml_data/df_all_best.csv')\n",
    "df_d1d5 = pd.read_csv('./dsml_data/df_d1d5_best.csv')\n",
    "df_d6d10 = pd.read_csv('./dsml_data/df_d6d10_best.csv')"
   ]
  },
  {
   "cell_type": "code",
   "execution_count": 3,
   "metadata": {},
   "outputs": [
    {
     "data": {
      "text/html": [
       "<div>\n",
       "<style scoped>\n",
       "    .dataframe tbody tr th:only-of-type {\n",
       "        vertical-align: middle;\n",
       "    }\n",
       "\n",
       "    .dataframe tbody tr th {\n",
       "        vertical-align: top;\n",
       "    }\n",
       "\n",
       "    .dataframe thead th {\n",
       "        text-align: right;\n",
       "    }\n",
       "</style>\n",
       "<table border=\"1\" class=\"dataframe\">\n",
       "  <thead>\n",
       "    <tr style=\"text-align: right;\">\n",
       "      <th></th>\n",
       "      <th>feature</th>\n",
       "      <th>baseline_bce</th>\n",
       "      <th>bce</th>\n",
       "      <th>diff</th>\n",
       "    </tr>\n",
       "  </thead>\n",
       "  <tbody>\n",
       "    <tr>\n",
       "      <th>0</th>\n",
       "      <td>51006</td>\n",
       "      <td>1.014362</td>\n",
       "      <td>1.001220</td>\n",
       "      <td>-0.013142</td>\n",
       "    </tr>\n",
       "    <tr>\n",
       "      <th>1</th>\n",
       "      <td>63323026201</td>\n",
       "      <td>1.014362</td>\n",
       "      <td>1.006389</td>\n",
       "      <td>-0.007973</td>\n",
       "    </tr>\n",
       "    <tr>\n",
       "      <th>2</th>\n",
       "      <td>51277</td>\n",
       "      <td>1.014362</td>\n",
       "      <td>1.006995</td>\n",
       "      <td>-0.007367</td>\n",
       "    </tr>\n",
       "    <tr>\n",
       "      <th>3</th>\n",
       "      <td>0</td>\n",
       "      <td>1.014362</td>\n",
       "      <td>1.009931</td>\n",
       "      <td>-0.004431</td>\n",
       "    </tr>\n",
       "    <tr>\n",
       "      <th>4</th>\n",
       "      <td>55390000401</td>\n",
       "      <td>1.014362</td>\n",
       "      <td>1.010688</td>\n",
       "      <td>-0.003673</td>\n",
       "    </tr>\n",
       "    <tr>\n",
       "      <th>...</th>\n",
       "      <td>...</td>\n",
       "      <td>...</td>\n",
       "      <td>...</td>\n",
       "      <td>...</td>\n",
       "    </tr>\n",
       "    <tr>\n",
       "      <th>4063</th>\n",
       "      <td>10019055302</td>\n",
       "      <td>1.014362</td>\n",
       "      <td>1.041859</td>\n",
       "      <td>0.027498</td>\n",
       "    </tr>\n",
       "    <tr>\n",
       "      <th>4064</th>\n",
       "      <td>54817525</td>\n",
       "      <td>1.014362</td>\n",
       "      <td>1.043492</td>\n",
       "      <td>0.029130</td>\n",
       "    </tr>\n",
       "    <tr>\n",
       "      <th>4065</th>\n",
       "      <td>67434504</td>\n",
       "      <td>1.014362</td>\n",
       "      <td>1.046829</td>\n",
       "      <td>0.032467</td>\n",
       "    </tr>\n",
       "    <tr>\n",
       "      <th>4066</th>\n",
       "      <td>74606211</td>\n",
       "      <td>1.014362</td>\n",
       "      <td>1.051030</td>\n",
       "      <td>0.036668</td>\n",
       "    </tr>\n",
       "    <tr>\n",
       "      <th>4067</th>\n",
       "      <td>409606211</td>\n",
       "      <td>1.014362</td>\n",
       "      <td>1.073542</td>\n",
       "      <td>0.059180</td>\n",
       "    </tr>\n",
       "  </tbody>\n",
       "</table>\n",
       "<p>4068 rows × 4 columns</p>\n",
       "</div>"
      ],
      "text/plain": [
       "          feature  baseline_bce       bce      diff\n",
       "0           51006      1.014362  1.001220 -0.013142\n",
       "1     63323026201      1.014362  1.006389 -0.007973\n",
       "2           51277      1.014362  1.006995 -0.007367\n",
       "3               0      1.014362  1.009931 -0.004431\n",
       "4     55390000401      1.014362  1.010688 -0.003673\n",
       "...           ...           ...       ...       ...\n",
       "4063  10019055302      1.014362  1.041859  0.027498\n",
       "4064     54817525      1.014362  1.043492  0.029130\n",
       "4065     67434504      1.014362  1.046829  0.032467\n",
       "4066     74606211      1.014362  1.051030  0.036668\n",
       "4067    409606211      1.014362  1.073542  0.059180\n",
       "\n",
       "[4068 rows x 4 columns]"
      ]
     },
     "execution_count": 3,
     "metadata": {},
     "output_type": "execute_result"
    }
   ],
   "source": [
    "all_df"
   ]
  },
  {
   "cell_type": "markdown",
   "metadata": {},
   "source": [
    "# Method1: Combine Score for 방향성\n",
    "```\n",
    "ReLU(FI*) - sin(FI**)\n",
    "\n",
    "FI*: diff\n",
    "FI**: mean(preds2) - mean(preds)\n",
    "\n",
    "\n",
    "preds를 위해 LSH의 05-2 참고\n",
    "```"
   ]
  },
  {
   "cell_type": "code",
   "execution_count": 4,
   "metadata": {},
   "outputs": [],
   "source": [
    "# 1) DATA \n",
    "import random    \n",
    "# ---------------------\n",
    "seed_num = 42\n",
    "# ---------------------\n",
    "random.seed(seed_num)\n",
    "\n",
    "x = np.load('./dsml_data/x_(7727,10,4068).npy')\n",
    "y = np.load('./dsml_data/y_(7727,1).npy')\n",
    "\n",
    "idx = list(range(len(x)))\n",
    "random.shuffle(idx)\n",
    "\n",
    "i = round(x.shape[0]*0.8)\n",
    "X_train, y_train = x[idx[:i],:,:], y[idx[:i]]\n",
    "X_test, y_test = x[idx[i:],:,:], y[idx[i:]]"
   ]
  },
  {
   "cell_type": "code",
   "execution_count": 9,
   "metadata": {},
   "outputs": [],
   "source": [
    "# 2) MODEL\n",
    "from tensorflow.keras.models import load_model\n",
    "lstm2 = load_model('./dsml_data/model/(LSTM_best_4068)seed42-05-0.5029.hdf5')"
   ]
  },
  {
   "cell_type": "code",
   "execution_count": 1,
   "metadata": {},
   "outputs": [
    {
     "ename": "NameError",
     "evalue": "name 'pd' is not defined",
     "output_type": "error",
     "traceback": [
      "\u001b[1;31m---------------------------------------------------------------------------\u001b[0m",
      "\u001b[1;31mNameError\u001b[0m                                 Traceback (most recent call last)",
      "\u001b[1;32m<ipython-input-1-d26bd5b82e8d>\u001b[0m in \u001b[0;36m<module>\u001b[1;34m\u001b[0m\n\u001b[0;32m      1\u001b[0m \u001b[1;31m# 3)\u001b[0m\u001b[1;33m\u001b[0m\u001b[1;33m\u001b[0m\u001b[1;33m\u001b[0m\u001b[0m\n\u001b[0;32m      2\u001b[0m \u001b[1;31m# FEATURES\u001b[0m\u001b[1;33m\u001b[0m\u001b[1;33m\u001b[0m\u001b[1;33m\u001b[0m\u001b[0m\n\u001b[1;32m----> 3\u001b[1;33m \u001b[0ma\u001b[0m \u001b[1;33m=\u001b[0m \u001b[0mpd\u001b[0m\u001b[1;33m.\u001b[0m\u001b[0mread_csv\u001b[0m\u001b[1;33m(\u001b[0m\u001b[1;34m'./dsml_data/total_data_7727.csv'\u001b[0m\u001b[1;33m)\u001b[0m\u001b[1;33m\u001b[0m\u001b[1;33m\u001b[0m\u001b[0m\n\u001b[0m\u001b[0;32m      4\u001b[0m \u001b[0mfeatures\u001b[0m \u001b[1;33m=\u001b[0m \u001b[0mlist\u001b[0m\u001b[1;33m(\u001b[0m\u001b[0ma\u001b[0m\u001b[1;33m[\u001b[0m\u001b[1;34m'ITEMID'\u001b[0m\u001b[1;33m]\u001b[0m\u001b[1;33m.\u001b[0m\u001b[0msort_values\u001b[0m\u001b[1;33m(\u001b[0m\u001b[1;33m)\u001b[0m\u001b[1;33m.\u001b[0m\u001b[0munique\u001b[0m\u001b[1;33m(\u001b[0m\u001b[1;33m)\u001b[0m\u001b[1;33m)\u001b[0m \u001b[1;31m# 4068개 ITEMID\u001b[0m\u001b[1;33m\u001b[0m\u001b[1;33m\u001b[0m\u001b[0m\n\u001b[0;32m      5\u001b[0m \u001b[1;33m\u001b[0m\u001b[0m\n",
      "\u001b[1;31mNameError\u001b[0m: name 'pd' is not defined"
     ]
    }
   ],
   "source": [
    "# 3)\n",
    "# FEATURES\n",
    "a = pd.read_csv('./dsml_data/total_data_7727.csv')\n",
    "features = list(a['ITEMID'].sort_values().unique()) # 4068개 ITEMID \n",
    "\n",
    "results = []\n",
    "preds = lstm2.predict(X_test)\n",
    "preds\n",
    "\n",
    "# # COMPUTE BASELINE\n",
    "# from tensorflow.keras.losses import BinaryCrossentropy\n",
    "# bce = BinaryCrossentropy()\n",
    "# baseline_bce = bce(y_test, preds).numpy()\n",
    "# results.append({'feature':'BASELINE','baseline_bce':baseline_bce}) \n",
    "\n",
    "for k in tqdm(range(len(features))):\n",
    "\n",
    "    save_col = X_test[:,:,k].copy()\n",
    "\n",
    "    # REVERSE ALL FEATURE K\n",
    "    X_test[:,:,k] = np.abs(X_test[:,:,k]-1)\n",
    "\n",
    "    # preds2\n",
    "    preds2 = lstm2.predict(X_test)\n",
    "\n",
    "    preds2\n",
    "    break\n",
    "    X_test[:,:,k] = save_col"
   ]
  },
  {
   "cell_type": "code",
   "execution_count": null,
   "metadata": {},
   "outputs": [],
   "source": []
  }
 ],
 "metadata": {
  "interpreter": {
   "hash": "e4cfef919f511c0e3a05919ed86dab4fa959f970f2723dae87eeb918be14f5f0"
  },
  "kernelspec": {
   "display_name": "Python 3.8.8 ('base')",
   "language": "python",
   "name": "python3"
  },
  "language_info": {
   "codemirror_mode": {
    "name": "ipython",
    "version": 3
   },
   "file_extension": ".py",
   "mimetype": "text/x-python",
   "name": "python",
   "nbconvert_exporter": "python",
   "pygments_lexer": "ipython3",
   "version": "3.8.5"
  },
  "orig_nbformat": 4
 },
 "nbformat": 4,
 "nbformat_minor": 2
}
