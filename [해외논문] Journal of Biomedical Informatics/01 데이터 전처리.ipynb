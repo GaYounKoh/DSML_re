{
 "cells": [
  {
   "cell_type": "markdown",
   "id": "3b383a5a",
   "metadata": {},
   "source": [
    "- [미국 중환자실 데이터 MIMIC-III 정리](https://baeseongsu.github.io/posts/mimiciii/)\n",
    "- [MIMIC-III 기초 테이블 확인](https://mimic.mit.edu/docs/iii/tables/)\n",
    "- [MIMIC-III 스키마 확인](https://mit-lcp.github.io/mimic-schema-spy/)\n",
    "- [ICD9_CODE 검색하는 사이트](http://www.icd9data.com/2012/Volume1/460-519/480-488/482/482.41.htm)\n",
    "- [이정민씨의 mimic data 정리 pdf](https://people.cs.pitt.edu/~jlee/note/intro_to_mimic_db.pdf)"
   ]
  },
  {
   "cell_type": "code",
   "execution_count": 1,
   "id": "a75651fc",
   "metadata": {},
   "outputs": [],
   "source": [
    "import pandas as pd\n",
    "import numpy as np\n",
    "\n",
    "# 결과 확인을 용이하게 하기 위한 코드\n",
    "from IPython.core.interactiveshell import InteractiveShell\n",
    "InteractiveShell.ast_node_interactivity = 'all'\n",
    "\n",
    "# 경고 메시지 무시\n",
    "import warnings\n",
    "warnings.filterwarnings('ignore')"
   ]
  },
  {
   "cell_type": "markdown",
   "id": "10113b9b",
   "metadata": {},
   "source": [
    "# 폐렴환자 추출"
   ]
  },
  {
   "cell_type": "code",
   "execution_count": 3,
   "id": "c6933a83",
   "metadata": {},
   "outputs": [],
   "source": [
    "mimic_path = '/data/MIMIC_III/'\n",
    "lsh_해외 = '/project/LSH/** 해외_Journal of Biomedical Informatics/'\n",
    "# patient = pd.read_csv(mimic_path + 'PATIENTS.csv')\n",
    "lab = pd.read_csv(mimic_path + 'LABEVENTS.csv')\n",
    "icd = pd.read_csv(mimic_path + 'D_ICD_DIAGNOSES.csv') # 질병 정보\n",
    "patient_icd = pd.read_csv(mimic_path + 'DIAGNOSES_ICD.csv') # 환자별 질병 정보 "
   ]
  },
  {
   "cell_type": "code",
   "execution_count": 3,
   "id": "96027818",
   "metadata": {},
   "outputs": [
    {
     "data": {
      "text/html": [
       "<div>\n",
       "<style scoped>\n",
       "    .dataframe tbody tr th:only-of-type {\n",
       "        vertical-align: middle;\n",
       "    }\n",
       "\n",
       "    .dataframe tbody tr th {\n",
       "        vertical-align: top;\n",
       "    }\n",
       "\n",
       "    .dataframe thead th {\n",
       "        text-align: right;\n",
       "    }\n",
       "</style>\n",
       "<table border=\"1\" class=\"dataframe\">\n",
       "  <thead>\n",
       "    <tr style=\"text-align: right;\">\n",
       "      <th></th>\n",
       "      <th>ROW_ID</th>\n",
       "      <th>ICD9_CODE</th>\n",
       "      <th>SHORT_TITLE</th>\n",
       "      <th>LONG_TITLE</th>\n",
       "    </tr>\n",
       "  </thead>\n",
       "  <tbody>\n",
       "    <tr>\n",
       "      <th>5129</th>\n",
       "      <td>5509</td>\n",
       "      <td>48241</td>\n",
       "      <td>Meth sus pneum d/t Staph</td>\n",
       "      <td>Methicillin susceptible pneumonia due to Staph...</td>\n",
       "    </tr>\n",
       "    <tr>\n",
       "      <th>5147</th>\n",
       "      <td>5528</td>\n",
       "      <td>486</td>\n",
       "      <td>Pneumonia, organism NOS</td>\n",
       "      <td>Pneumonia, organism unspecified</td>\n",
       "    </tr>\n",
       "    <tr>\n",
       "      <th>5407</th>\n",
       "      <td>5136</td>\n",
       "      <td>5070</td>\n",
       "      <td>Food/vomit pneumonitis</td>\n",
       "      <td>Pneumonitis due to inhalation of food or vomitus</td>\n",
       "    </tr>\n",
       "  </tbody>\n",
       "</table>\n",
       "</div>"
      ],
      "text/plain": [
       "      ROW_ID ICD9_CODE               SHORT_TITLE  \\\n",
       "5129    5509     48241  Meth sus pneum d/t Staph   \n",
       "5147    5528       486   Pneumonia, organism NOS   \n",
       "5407    5136      5070    Food/vomit pneumonitis   \n",
       "\n",
       "                                             LONG_TITLE  \n",
       "5129  Methicillin susceptible pneumonia due to Staph...  \n",
       "5147                    Pneumonia, organism unspecified  \n",
       "5407   Pneumonitis due to inhalation of food or vomitus  "
      ]
     },
     "execution_count": 3,
     "metadata": {},
     "output_type": "execute_result"
    },
    {
     "data": {
      "text/plain": [
       "nan         5931403\n",
       "abnormal    3406609\n",
       "delta         18337\n",
       "Name: FLAG, dtype: int64"
      ]
     },
     "execution_count": 3,
     "metadata": {},
     "output_type": "execute_result"
    },
    {
     "data": {
      "text/plain": [
       "[60961, 48968, 17674, 9388, 19097, 93114, 58012, 95230]"
      ]
     },
     "execution_count": 3,
     "metadata": {},
     "output_type": "execute_result"
    }
   ],
   "source": [
    "# 1. 폐렴 관련 질병 추출 -> 95가지 (pneu_list.nunique())\n",
    "pneu_list = icd[(icd['SHORT_TITLE'].str.contains('pneum'))|icd['SHORT_TITLE'].str.contains('Pneum')]['ICD9_CODE']\n",
    "\n",
    "# 2. 폐렴 관련 질병을 가진 환자 추출 -> 10559명 (all_pneu_patient.SUBJECT_ID.nunique())\n",
    "all_pneu_patient = patient_icd[patient_icd['ICD9_CODE'].isin(pneu_list)]\n",
    "\n",
    "# 3. top3_pneu에 해당하는 환자 추출 (top3_pneu는 환자가 가장 많이 갖고 있는 폐렴 관련 질병)\n",
    "top3_pneu = all_pneu_patient['ICD9_CODE'].value_counts()[:3].index\n",
    "top3_pneu_patient = all_pneu_patient[all_pneu_patient['ICD9_CODE'].isin(top3_pneu)]\n",
    "\n",
    "# ICD9_CODE : 486, 5070, 48241의 정확한 병명 확인\n",
    "# -> 486 : 상세 불명의 유기체\n",
    "# -> 5070 : 음식 또는 구토물에 의한 폐렴\n",
    "# -> 48241 : 황색포도상구균에 의한 메티실린 감수성 폐렴\n",
    "icd[icd['ICD9_CODE'].isin(top3_pneu)]\n",
    "\n",
    "# 4. top3_pneu_patient에 한 환자 당 여러 병원 기록을 가지고 있을 수 있음 \n",
    "# -> unique한 환자 수 : 7807명\n",
    "환자list = top3_pneu_patient['SUBJECT_ID'].unique()\n",
    "\n",
    "# 5. labevents에서 top3_pneu_patient의 정보 추출\n",
    "환자lab = lab[lab['SUBJECT_ID'].isin(환자list)].reset_index(drop=True)\n",
    "\n",
    "# 6. 'FLAG'열의 결측치를 문자열 'nan'으로 채운 후 분포 확인\n",
    "# 'nan'으로 설정해주지 않으면 value_counts()에서 NaN의 개수가 안 잡힘\n",
    "환자lab['FLAG'] = 환자lab['FLAG'].fillna('nan')\n",
    "환자lab['FLAG'].value_counts()\n",
    "\n",
    "# 7. patient의 폐렴 환자수가 labevent의 폐렴 환자수보다 8명 더 많음\n",
    "# 외래환자는 labevent의 'HADM_ID'를 가지지 않음.\n",
    "# HADM_ID : Hospital Admission ID (입원ID)\n",
    "환자lab_list = 환자lab['SUBJECT_ID'].unique()\n",
    "외래환자idx = list(set(환자list) - set(환자lab['SUBJECT_ID'].unique()))\n",
    "외래환자idx"
   ]
  },
  {
   "cell_type": "markdown",
   "id": "c0a2ca14",
   "metadata": {},
   "source": [
    "# LAB, PRE, PRO에서 ITEMID 추출 후 X data 생성\n",
    "- `X` : (7727, 10, 4068) = (PATIENTS, TIMEPOINTS, FEATURES)\n",
    "\n",
    "\n",
    "- LAB : `SUBJECT_ID`, `CHARTTIME`, `ITEMID`, `FLAG`\n",
    "- PRE : `SUBJECT_ID`, `STARTDATE`, `ENDDATE`, `NDC`\n",
    "- PRO : `SUBJECT_ID`, `STARTTIME`, `ENDTIME`, `ITEMID`\n",
    "\n",
    "> LAB : 피 검사 내용 <br>\n",
    "> PRE : 약 처방 내용 <br>\n",
    "> PRO : 시술 내용 <br>\n",
    "\n",
    "- LAB과 달리 PRO, PRE는 시작과 끝 날짜를 기준으로 추가적인 전처리 해줘야 함\n",
    "- NDC는 PRE에서의 ITEMID\n",
    "<br>\n",
    "\n",
    "- 최종 columns = [`SUBJECT_ID`, `ITEMID`, `CHARTTIME`, `TYPE`]"
   ]
  },
  {
   "cell_type": "markdown",
   "id": "4ff5038c",
   "metadata": {},
   "source": [
    "### 함수"
   ]
  },
  {
   "cell_type": "code",
   "execution_count": 6,
   "id": "ae80ac13",
   "metadata": {},
   "outputs": [],
   "source": [
    "# 날짜만 남기는 함수 (연월일, 시간부분 지움.)\n",
    "import datetime as dt\n",
    "def date_only(df, x):\n",
    "    df[x] = pd.to_datetime(df[x])\n",
    "    df[x] = df[x].dt.date\n",
    "\n",
    "\n",
    "# CHARTTIME 열 생성시 사용하는 사이 날짜 만들어주는 함수 (PRE, PRO에서 사용)\n",
    "from datetime import datetime, timedelta\n",
    "from tqdm import tqdm\n",
    "\n",
    "def date_range(start, end):\n",
    "    dates = [(start + timedelta(days=i)).strftime('%Y-%m-%d') for i in range((end-start).days+1)]\n",
    "    return dates"
   ]
  },
  {
   "cell_type": "markdown",
   "id": "84bd96d1",
   "metadata": {},
   "source": [
    "## LAB"
   ]
  },
  {
   "cell_type": "code",
   "execution_count": 5,
   "id": "8c4298a8",
   "metadata": {},
   "outputs": [],
   "source": [
    "lab = pd.read_csv(mimic_path + 'LABEVENTS.csv')"
   ]
  },
  {
   "cell_type": "code",
   "execution_count": 6,
   "id": "f2e03b9f",
   "metadata": {},
   "outputs": [],
   "source": [
    "lab2 = lab[lab['SUBJECT_ID'].isin(환자lab_list)]\n",
    "lab2 = lab2[['SUBJECT_ID','CHARTTIME', 'ITEMID', 'FLAG']]\n",
    "\n",
    "# FLAG가 'abnormal'인 것만 추출 (피검사 결과 '비정상' 뜬 애들)\n",
    "lab2 = lab2[lab2['FLAG']=='abnormal']\n",
    "lab2 = lab2.drop(columns = ['FLAG'])\n",
    "\n",
    "# date_only 함수 적용\n",
    "date_only(lab2, 'CHARTTIME')\n",
    "\n",
    "# 중복제거 (중복 제거 전 후 3406609 rows -> 2667170 rows)\n",
    "lab2.drop_duplicates(inplace = True) ## 결론적으로 x 만들 때 덮어씌워지므로 상관없음 (다만 불필요한 연산을 함)\n",
    "\n",
    "lab2 = lab2.sort_values(by = 'SUBJECT_ID')\n",
    "lab2['TYPE'] = 'LAB'\n",
    "\n",
    "lab2.reset_index(drop=True, inplace = True)"
   ]
  },
  {
   "cell_type": "code",
   "execution_count": 8,
   "id": "27306ff2",
   "metadata": {},
   "outputs": [
    {
     "data": {
      "text/plain": [
       "(2667170, 4)"
      ]
     },
     "execution_count": 8,
     "metadata": {},
     "output_type": "execute_result"
    },
    {
     "data": {
      "text/html": [
       "<div>\n",
       "<style scoped>\n",
       "    .dataframe tbody tr th:only-of-type {\n",
       "        vertical-align: middle;\n",
       "    }\n",
       "\n",
       "    .dataframe tbody tr th {\n",
       "        vertical-align: top;\n",
       "    }\n",
       "\n",
       "    .dataframe thead th {\n",
       "        text-align: right;\n",
       "    }\n",
       "</style>\n",
       "<table border=\"1\" class=\"dataframe\">\n",
       "  <thead>\n",
       "    <tr style=\"text-align: right;\">\n",
       "      <th></th>\n",
       "      <th>SUBJECT_ID</th>\n",
       "      <th>CHARTTIME</th>\n",
       "      <th>ITEMID</th>\n",
       "      <th>TYPE</th>\n",
       "    </tr>\n",
       "  </thead>\n",
       "  <tbody>\n",
       "    <tr>\n",
       "      <th>0</th>\n",
       "      <td>9</td>\n",
       "      <td>2149-11-14</td>\n",
       "      <td>50821</td>\n",
       "      <td>LAB</td>\n",
       "    </tr>\n",
       "    <tr>\n",
       "      <th>1</th>\n",
       "      <td>9</td>\n",
       "      <td>2149-11-13</td>\n",
       "      <td>51006</td>\n",
       "      <td>LAB</td>\n",
       "    </tr>\n",
       "    <tr>\n",
       "      <th>2</th>\n",
       "      <td>9</td>\n",
       "      <td>2149-11-13</td>\n",
       "      <td>50983</td>\n",
       "      <td>LAB</td>\n",
       "    </tr>\n",
       "    <tr>\n",
       "      <th>3</th>\n",
       "      <td>9</td>\n",
       "      <td>2149-11-13</td>\n",
       "      <td>50970</td>\n",
       "      <td>LAB</td>\n",
       "    </tr>\n",
       "    <tr>\n",
       "      <th>4</th>\n",
       "      <td>9</td>\n",
       "      <td>2149-11-13</td>\n",
       "      <td>50931</td>\n",
       "      <td>LAB</td>\n",
       "    </tr>\n",
       "  </tbody>\n",
       "</table>\n",
       "</div>"
      ],
      "text/plain": [
       "   SUBJECT_ID   CHARTTIME  ITEMID TYPE\n",
       "0           9  2149-11-14   50821  LAB\n",
       "1           9  2149-11-13   51006  LAB\n",
       "2           9  2149-11-13   50983  LAB\n",
       "3           9  2149-11-13   50970  LAB\n",
       "4           9  2149-11-13   50931  LAB"
      ]
     },
     "execution_count": 8,
     "metadata": {},
     "output_type": "execute_result"
    }
   ],
   "source": [
    "lab2.shape\n",
    "lab2.head()"
   ]
  },
  {
   "cell_type": "markdown",
   "id": "1eb2f255",
   "metadata": {},
   "source": [
    "## PRE"
   ]
  },
  {
   "cell_type": "code",
   "execution_count": 9,
   "id": "5eb336c6",
   "metadata": {
    "scrolled": true
   },
   "outputs": [],
   "source": [
    "pre = pd.read_csv(mimic_path + 'PRESCRIPTIONS.csv')"
   ]
  },
  {
   "cell_type": "code",
   "execution_count": 10,
   "id": "c8e58d8c",
   "metadata": {},
   "outputs": [],
   "source": [
    "pre2 = pre[pre['SUBJECT_ID'].isin(환자lab_list)]\n",
    "pre2 = pre2[['SUBJECT_ID', 'STARTDATE', 'ENDDATE', 'NDC']]\n",
    "date_only(pre2, 'STARTDATE')\n",
    "date_only(pre2, 'ENDDATE')\n",
    "\n",
    "# STARTDATE, ENDDATE가 모두 null인 경우 삭제\n",
    "both_null = pre2[(pre2['STARTDATE'].isnull())&(pre2['ENDDATE'].isnull())].index\n",
    "pre2 = pre2.drop(index=both_null)\n",
    "\n",
    "# NDC가 null인 경우 삭제\n",
    "ndc_null = pre2[(pre2['NDC'].isnull())].index\n",
    "pre2 = pre2.drop(index=ndc_null)\n",
    "\n",
    "# ENDDATE가 null인 경우 STARTDATE 삽입\n",
    "end_null = pre2[pre2['ENDDATE'].isnull()]\n",
    "end_null['ENDDATE'] = end_null['STARTDATE']\n",
    "pre2.loc[end_null.index] = end_null\n",
    "\n",
    "# STARTDATE가 null인 경우 ENDDATE 삽입\n",
    "start_null = pre2[pre2['STARTDATE'].isnull()]\n",
    "start_null['STARTDATE'] = start_null['ENDDATE']\n",
    "pre2.loc[start_null.index] = start_null\n",
    "\n",
    "pre2 = pre2.sort_values(by = ['SUBJECT_ID','STARTDATE'])\n",
    "pre2.reset_index(drop = True, inplace = True)\n",
    "\n",
    "# 중복 제거 전 후 1327249 rows -> 1161151 rows\n",
    "pre2.drop_duplicates(inplace = True)\n",
    "\n",
    "## 결과적으로 CHARTTIME열 생성 후 중복 제거 한 번만 해줘도 ok\n",
    "##다만 CHARTTIME열 생성하기 위한 작업을 할 때 불필요한 연산을 하게 됨"
   ]
  },
  {
   "cell_type": "code",
   "execution_count": 11,
   "id": "9debbd70",
   "metadata": {},
   "outputs": [
    {
     "data": {
      "text/plain": [
       "(1161151, 4)"
      ]
     },
     "execution_count": 11,
     "metadata": {},
     "output_type": "execute_result"
    },
    {
     "data": {
      "text/html": [
       "<div>\n",
       "<style scoped>\n",
       "    .dataframe tbody tr th:only-of-type {\n",
       "        vertical-align: middle;\n",
       "    }\n",
       "\n",
       "    .dataframe tbody tr th {\n",
       "        vertical-align: top;\n",
       "    }\n",
       "\n",
       "    .dataframe thead th {\n",
       "        text-align: right;\n",
       "    }\n",
       "</style>\n",
       "<table border=\"1\" class=\"dataframe\">\n",
       "  <thead>\n",
       "    <tr style=\"text-align: right;\">\n",
       "      <th></th>\n",
       "      <th>SUBJECT_ID</th>\n",
       "      <th>STARTDATE</th>\n",
       "      <th>ENDDATE</th>\n",
       "      <th>NDC</th>\n",
       "    </tr>\n",
       "  </thead>\n",
       "  <tbody>\n",
       "    <tr>\n",
       "      <th>0</th>\n",
       "      <td>9</td>\n",
       "      <td>2149-11-09</td>\n",
       "      <td>2149-11-09</td>\n",
       "      <td>0.0</td>\n",
       "    </tr>\n",
       "    <tr>\n",
       "      <th>1</th>\n",
       "      <td>9</td>\n",
       "      <td>2149-11-09</td>\n",
       "      <td>2149-11-09</td>\n",
       "      <td>85036207.0</td>\n",
       "    </tr>\n",
       "    <tr>\n",
       "      <th>2</th>\n",
       "      <td>9</td>\n",
       "      <td>2149-11-09</td>\n",
       "      <td>2149-11-09</td>\n",
       "      <td>456066270.0</td>\n",
       "    </tr>\n",
       "    <tr>\n",
       "      <th>4</th>\n",
       "      <td>9</td>\n",
       "      <td>2149-11-09</td>\n",
       "      <td>2149-11-09</td>\n",
       "      <td>338001702.0</td>\n",
       "    </tr>\n",
       "    <tr>\n",
       "      <th>5</th>\n",
       "      <td>9</td>\n",
       "      <td>2149-11-09</td>\n",
       "      <td>2149-11-09</td>\n",
       "      <td>74302401.0</td>\n",
       "    </tr>\n",
       "  </tbody>\n",
       "</table>\n",
       "</div>"
      ],
      "text/plain": [
       "   SUBJECT_ID   STARTDATE     ENDDATE          NDC\n",
       "0           9  2149-11-09  2149-11-09          0.0\n",
       "1           9  2149-11-09  2149-11-09   85036207.0\n",
       "2           9  2149-11-09  2149-11-09  456066270.0\n",
       "4           9  2149-11-09  2149-11-09  338001702.0\n",
       "5           9  2149-11-09  2149-11-09   74302401.0"
      ]
     },
     "execution_count": 11,
     "metadata": {},
     "output_type": "execute_result"
    }
   ],
   "source": [
    "pre2.shape\n",
    "pre2.head()"
   ]
  },
  {
   "cell_type": "code",
   "execution_count": 12,
   "id": "cde35bc1",
   "metadata": {},
   "outputs": [
    {
     "name": "stderr",
     "output_type": "stream",
     "text": [
      "100%|██████████| 1161151/1161151 [00:11<00:00, 98207.23it/s] \n"
     ]
    }
   ],
   "source": [
    "## CHARTTIME열 만들기\n",
    "\n",
    "lst_time = []\n",
    "lst_itemid = []\n",
    "lst_subid = []\n",
    "\n",
    "pre2_list = pre2.values.tolist()\n",
    "for idx, row in enumerate(tqdm(pre2_list)):\n",
    "    sub, start, end, itemid = row[0], row[1], row[2], row[3]\n",
    "    \n",
    "    # CHARTTIME\n",
    "    day_list = date_range(start, end)    \n",
    "    lst_time.extend(day_list)\n",
    "    \n",
    "    # ITEMID \n",
    "    lst_itemid.extend([itemid] * len(day_list))\n",
    "    \n",
    "    # SUBJECT_ID\n",
    "    lst_subid.extend([sub] * len(day_list))"
   ]
  },
  {
   "cell_type": "code",
   "execution_count": 13,
   "id": "cf087cb2",
   "metadata": {},
   "outputs": [
    {
     "data": {
      "text/plain": [
       "(5052211, 3)"
      ]
     },
     "execution_count": 13,
     "metadata": {},
     "output_type": "execute_result"
    },
    {
     "data": {
      "text/plain": [
       "(4086549, 4)"
      ]
     },
     "execution_count": 13,
     "metadata": {},
     "output_type": "execute_result"
    },
    {
     "data": {
      "text/html": [
       "<div>\n",
       "<style scoped>\n",
       "    .dataframe tbody tr th:only-of-type {\n",
       "        vertical-align: middle;\n",
       "    }\n",
       "\n",
       "    .dataframe tbody tr th {\n",
       "        vertical-align: top;\n",
       "    }\n",
       "\n",
       "    .dataframe thead th {\n",
       "        text-align: right;\n",
       "    }\n",
       "</style>\n",
       "<table border=\"1\" class=\"dataframe\">\n",
       "  <thead>\n",
       "    <tr style=\"text-align: right;\">\n",
       "      <th></th>\n",
       "      <th>SUBJECT_ID</th>\n",
       "      <th>CHARTTIME</th>\n",
       "      <th>ITEMID</th>\n",
       "      <th>TYPE</th>\n",
       "    </tr>\n",
       "  </thead>\n",
       "  <tbody>\n",
       "    <tr>\n",
       "      <th>0</th>\n",
       "      <td>9</td>\n",
       "      <td>2149-11-09</td>\n",
       "      <td>0.0</td>\n",
       "      <td>PRE</td>\n",
       "    </tr>\n",
       "    <tr>\n",
       "      <th>1</th>\n",
       "      <td>9</td>\n",
       "      <td>2149-11-09</td>\n",
       "      <td>85036207.0</td>\n",
       "      <td>PRE</td>\n",
       "    </tr>\n",
       "    <tr>\n",
       "      <th>2</th>\n",
       "      <td>9</td>\n",
       "      <td>2149-11-09</td>\n",
       "      <td>456066270.0</td>\n",
       "      <td>PRE</td>\n",
       "    </tr>\n",
       "    <tr>\n",
       "      <th>3</th>\n",
       "      <td>9</td>\n",
       "      <td>2149-11-09</td>\n",
       "      <td>338001702.0</td>\n",
       "      <td>PRE</td>\n",
       "    </tr>\n",
       "    <tr>\n",
       "      <th>4</th>\n",
       "      <td>9</td>\n",
       "      <td>2149-11-09</td>\n",
       "      <td>74302401.0</td>\n",
       "      <td>PRE</td>\n",
       "    </tr>\n",
       "  </tbody>\n",
       "</table>\n",
       "</div>"
      ],
      "text/plain": [
       "   SUBJECT_ID   CHARTTIME       ITEMID TYPE\n",
       "0           9  2149-11-09          0.0  PRE\n",
       "1           9  2149-11-09   85036207.0  PRE\n",
       "2           9  2149-11-09  456066270.0  PRE\n",
       "3           9  2149-11-09  338001702.0  PRE\n",
       "4           9  2149-11-09   74302401.0  PRE"
      ]
     },
     "execution_count": 13,
     "metadata": {},
     "output_type": "execute_result"
    }
   ],
   "source": [
    "pre2sub = pd.DataFrame(lst_subid)\n",
    "pre2time = pd.DataFrame(lst_time)\n",
    "pre2item = pd.DataFrame(lst_itemid)\n",
    "\n",
    "pre2 = pd.concat([pre2sub, pre2time, pre2item], axis = 1)\n",
    "pre2.columns = ['SUBJECT_ID', 'CHARTTIME', 'ITEMID']\n",
    "\n",
    "pre2.shape\n",
    "\n",
    "# 중복제거 전 후 (5052211 rows -> 4086549 rows)\n",
    "pre2.drop_duplicates(inplace = True)\n",
    "pre2['TYPE'] = 'PRE'\n",
    "\n",
    "pre2.shape\n",
    "pre2.head()\n",
    "\n",
    "## 기존 코드의 이후에서 이 중복 제거 작업이 들어가는지 확인해 봐야 함\n",
    "## 결론적으로 x 만들 때 덮어씌워지므로 상관없음 (다만 불필요한 연산을 함)"
   ]
  },
  {
   "cell_type": "markdown",
   "id": "2fa53980",
   "metadata": {},
   "source": [
    "## PRO"
   ]
  },
  {
   "cell_type": "code",
   "execution_count": 14,
   "id": "5553367c",
   "metadata": {},
   "outputs": [],
   "source": [
    "pro = pd.read_csv(mimic_path + 'PROCEDUREEVENTS_MV.csv')"
   ]
  },
  {
   "cell_type": "code",
   "execution_count": 15,
   "id": "11ed9696",
   "metadata": {},
   "outputs": [
    {
     "data": {
      "text/plain": [
       "(79678, 4)"
      ]
     },
     "execution_count": 15,
     "metadata": {},
     "output_type": "execute_result"
    },
    {
     "data": {
      "text/plain": [
       "(71052, 4)"
      ]
     },
     "execution_count": 15,
     "metadata": {},
     "output_type": "execute_result"
    },
    {
     "data": {
      "text/html": [
       "<div>\n",
       "<style scoped>\n",
       "    .dataframe tbody tr th:only-of-type {\n",
       "        vertical-align: middle;\n",
       "    }\n",
       "\n",
       "    .dataframe tbody tr th {\n",
       "        vertical-align: top;\n",
       "    }\n",
       "\n",
       "    .dataframe thead th {\n",
       "        text-align: right;\n",
       "    }\n",
       "</style>\n",
       "<table border=\"1\" class=\"dataframe\">\n",
       "  <thead>\n",
       "    <tr style=\"text-align: right;\">\n",
       "      <th></th>\n",
       "      <th>SUBJECT_ID</th>\n",
       "      <th>STARTTIME</th>\n",
       "      <th>ENDTIME</th>\n",
       "      <th>ITEMID</th>\n",
       "    </tr>\n",
       "  </thead>\n",
       "  <tbody>\n",
       "    <tr>\n",
       "      <th>0</th>\n",
       "      <td>36</td>\n",
       "      <td>2134-05-12</td>\n",
       "      <td>2134-05-15</td>\n",
       "      <td>224275</td>\n",
       "    </tr>\n",
       "    <tr>\n",
       "      <th>1</th>\n",
       "      <td>36</td>\n",
       "      <td>2134-05-12</td>\n",
       "      <td>2134-05-12</td>\n",
       "      <td>225402</td>\n",
       "    </tr>\n",
       "    <tr>\n",
       "      <th>2</th>\n",
       "      <td>36</td>\n",
       "      <td>2134-05-12</td>\n",
       "      <td>2134-05-12</td>\n",
       "      <td>221214</td>\n",
       "    </tr>\n",
       "    <tr>\n",
       "      <th>3</th>\n",
       "      <td>36</td>\n",
       "      <td>2134-05-12</td>\n",
       "      <td>2134-05-12</td>\n",
       "      <td>225432</td>\n",
       "    </tr>\n",
       "    <tr>\n",
       "      <th>4</th>\n",
       "      <td>36</td>\n",
       "      <td>2134-05-12</td>\n",
       "      <td>2134-05-12</td>\n",
       "      <td>224385</td>\n",
       "    </tr>\n",
       "  </tbody>\n",
       "</table>\n",
       "</div>"
      ],
      "text/plain": [
       "   SUBJECT_ID   STARTTIME     ENDTIME  ITEMID\n",
       "0          36  2134-05-12  2134-05-15  224275\n",
       "1          36  2134-05-12  2134-05-12  225402\n",
       "2          36  2134-05-12  2134-05-12  221214\n",
       "3          36  2134-05-12  2134-05-12  225432\n",
       "4          36  2134-05-12  2134-05-12  224385"
      ]
     },
     "execution_count": 15,
     "metadata": {},
     "output_type": "execute_result"
    }
   ],
   "source": [
    "pro2 = pro[pro['SUBJECT_ID'].isin(환자lab_list)]\n",
    "pro2 = pro2[['SUBJECT_ID', 'STARTTIME', 'ENDTIME', 'ITEMID']]\n",
    "date_only(pro2, 'STARTTIME')\n",
    "date_only(pro2, 'ENDTIME')\n",
    "\n",
    "pro2.shape\n",
    "\n",
    "# 중복 제거 (중복 제거 전 후 79678 rows -> 71052 rows)\n",
    "pro2.drop_duplicates(inplace = True) # 결론적으로 x 만들 때 덮어씌워지므로 상관없음 (다만 불필요한 연산을 함)\n",
    "\n",
    "# STARTTIME, ENDTIME이 모두 null인 경우 삭제\n",
    "both_null = pro2[(pro2['STARTTIME'].isnull())&(pro2['ENDTIME'].isnull())].index\n",
    "pro2 = pro2.drop(index=both_null)\n",
    "\n",
    "# ITEMID가 null인 경우 삭제\n",
    "ndc_null = pro2[(pro2['ITEMID'].isnull())].index\n",
    "pro2 = pro2.drop(index=ndc_null)\n",
    "\n",
    "# ENDTIME이 null인 경우 STARTTIME 삽입\n",
    "end_null = pro2[pro2['ENDTIME'].isnull()]\n",
    "end_null['ENDDATE'] = end_null['STARTTIME']\n",
    "pro2.loc[end_null.index] = end_null\n",
    "\n",
    "# STARTTIME이 null인 경우 ENDTIME 삽입\n",
    "start_null = pro2[pro2['STARTTIME'].isnull()]\n",
    "start_null['STARTTIME'] = start_null['ENDTIME']\n",
    "pro2.loc[start_null.index] = start_null\n",
    "\n",
    "pro2 = pro2.sort_values(by = ['SUBJECT_ID','STARTTIME'])\n",
    "pro2.reset_index(drop = True, inplace = True)\n",
    "\n",
    "pro2.shape\n",
    "pro2.head()"
   ]
  },
  {
   "cell_type": "code",
   "execution_count": 16,
   "id": "440ec33b",
   "metadata": {},
   "outputs": [
    {
     "name": "stderr",
     "output_type": "stream",
     "text": [
      "100%|██████████| 71052/71052 [00:00<00:00, 164425.06it/s]\n"
     ]
    }
   ],
   "source": [
    "## CHARTTIME열 만들기\n",
    "\n",
    "lst_time = []\n",
    "lst_itemid = []\n",
    "lst_subid = []\n",
    "\n",
    "pro2_list = pro2.values.tolist()\n",
    "for idx, row in enumerate(tqdm(pro2_list)):\n",
    "    sub, start, end, itemid = row[0], row[1], row[2], row[3]\n",
    "    \n",
    "    # CHARTTIME\n",
    "    day_list = date_range(start, end)    \n",
    "    lst_time.extend(day_list)\n",
    "    \n",
    "    # ITEMID \n",
    "    lst_itemid.extend([itemid] * len(day_list))\n",
    "    \n",
    "    # SUBJECT_ID\n",
    "    lst_subid.extend([sub] * len(day_list))"
   ]
  },
  {
   "cell_type": "code",
   "execution_count": 17,
   "id": "647c7cb7",
   "metadata": {},
   "outputs": [
    {
     "data": {
      "text/plain": [
       "(152382, 3)"
      ]
     },
     "execution_count": 17,
     "metadata": {},
     "output_type": "execute_result"
    },
    {
     "data": {
      "text/plain": [
       "(142263, 3)"
      ]
     },
     "execution_count": 17,
     "metadata": {},
     "output_type": "execute_result"
    },
    {
     "data": {
      "text/html": [
       "<div>\n",
       "<style scoped>\n",
       "    .dataframe tbody tr th:only-of-type {\n",
       "        vertical-align: middle;\n",
       "    }\n",
       "\n",
       "    .dataframe tbody tr th {\n",
       "        vertical-align: top;\n",
       "    }\n",
       "\n",
       "    .dataframe thead th {\n",
       "        text-align: right;\n",
       "    }\n",
       "</style>\n",
       "<table border=\"1\" class=\"dataframe\">\n",
       "  <thead>\n",
       "    <tr style=\"text-align: right;\">\n",
       "      <th></th>\n",
       "      <th>SUBJECT_ID</th>\n",
       "      <th>CHARTTIME</th>\n",
       "      <th>ITEMID</th>\n",
       "      <th>TYPE</th>\n",
       "    </tr>\n",
       "  </thead>\n",
       "  <tbody>\n",
       "    <tr>\n",
       "      <th>0</th>\n",
       "      <td>36</td>\n",
       "      <td>2134-05-12</td>\n",
       "      <td>224275</td>\n",
       "      <td>PRO</td>\n",
       "    </tr>\n",
       "    <tr>\n",
       "      <th>1</th>\n",
       "      <td>36</td>\n",
       "      <td>2134-05-13</td>\n",
       "      <td>224275</td>\n",
       "      <td>PRO</td>\n",
       "    </tr>\n",
       "    <tr>\n",
       "      <th>2</th>\n",
       "      <td>36</td>\n",
       "      <td>2134-05-14</td>\n",
       "      <td>224275</td>\n",
       "      <td>PRO</td>\n",
       "    </tr>\n",
       "    <tr>\n",
       "      <th>3</th>\n",
       "      <td>36</td>\n",
       "      <td>2134-05-15</td>\n",
       "      <td>224275</td>\n",
       "      <td>PRO</td>\n",
       "    </tr>\n",
       "    <tr>\n",
       "      <th>4</th>\n",
       "      <td>36</td>\n",
       "      <td>2134-05-12</td>\n",
       "      <td>225402</td>\n",
       "      <td>PRO</td>\n",
       "    </tr>\n",
       "  </tbody>\n",
       "</table>\n",
       "</div>"
      ],
      "text/plain": [
       "   SUBJECT_ID   CHARTTIME  ITEMID TYPE\n",
       "0          36  2134-05-12  224275  PRO\n",
       "1          36  2134-05-13  224275  PRO\n",
       "2          36  2134-05-14  224275  PRO\n",
       "3          36  2134-05-15  224275  PRO\n",
       "4          36  2134-05-12  225402  PRO"
      ]
     },
     "execution_count": 17,
     "metadata": {},
     "output_type": "execute_result"
    }
   ],
   "source": [
    "pro2sub = pd.DataFrame(lst_subid)\n",
    "pro2time = pd.DataFrame(lst_time)\n",
    "pro2item = pd.DataFrame(lst_itemid)\n",
    "\n",
    "pro2 = pd.concat([pro2sub, pro2time, pro2item], axis = 1)\n",
    "pro2.columns = ['SUBJECT_ID', 'CHARTTIME', 'ITEMID']\n",
    "pro2.shape\n",
    "\n",
    "# 중복제거 (중복제거 전 후 152382rows -> 142263rows)\n",
    "pro2.drop_duplicates(inplace = True)\n",
    "pro2.shape\n",
    "\n",
    "pro2['TYPE'] = 'PRO'\n",
    "\n",
    "pro2.head()"
   ]
  },
  {
   "cell_type": "markdown",
   "id": "381b2654",
   "metadata": {},
   "source": [
    "# `X` : (7799, 10, 4069)\n",
    "- total_data - 6895982 rows\n",
    "- LAB, PRE, PRO에서 중복 제거 안 한 예전 코드 기준으론 9221920 rows"
   ]
  },
  {
   "cell_type": "code",
   "execution_count": 20,
   "id": "a78751bf",
   "metadata": {},
   "outputs": [
    {
     "data": {
      "text/plain": [
       "(6895982, 4)"
      ]
     },
     "execution_count": 20,
     "metadata": {},
     "output_type": "execute_result"
    },
    {
     "data": {
      "text/html": [
       "<div>\n",
       "<style scoped>\n",
       "    .dataframe tbody tr th:only-of-type {\n",
       "        vertical-align: middle;\n",
       "    }\n",
       "\n",
       "    .dataframe tbody tr th {\n",
       "        vertical-align: top;\n",
       "    }\n",
       "\n",
       "    .dataframe thead th {\n",
       "        text-align: right;\n",
       "    }\n",
       "</style>\n",
       "<table border=\"1\" class=\"dataframe\">\n",
       "  <thead>\n",
       "    <tr style=\"text-align: right;\">\n",
       "      <th></th>\n",
       "      <th>SUBJECT_ID</th>\n",
       "      <th>CHARTTIME</th>\n",
       "      <th>ITEMID</th>\n",
       "      <th>TYPE</th>\n",
       "    </tr>\n",
       "  </thead>\n",
       "  <tbody>\n",
       "    <tr>\n",
       "      <th>0</th>\n",
       "      <td>9</td>\n",
       "      <td>2149-11-09</td>\n",
       "      <td>50813</td>\n",
       "      <td>LAB</td>\n",
       "    </tr>\n",
       "    <tr>\n",
       "      <th>1</th>\n",
       "      <td>9</td>\n",
       "      <td>2149-11-09</td>\n",
       "      <td>50808</td>\n",
       "      <td>LAB</td>\n",
       "    </tr>\n",
       "    <tr>\n",
       "      <th>2</th>\n",
       "      <td>9</td>\n",
       "      <td>2149-11-09</td>\n",
       "      <td>50822</td>\n",
       "      <td>LAB</td>\n",
       "    </tr>\n",
       "    <tr>\n",
       "      <th>3</th>\n",
       "      <td>9</td>\n",
       "      <td>2149-11-09</td>\n",
       "      <td>50821</td>\n",
       "      <td>LAB</td>\n",
       "    </tr>\n",
       "    <tr>\n",
       "      <th>4</th>\n",
       "      <td>9</td>\n",
       "      <td>2149-11-09</td>\n",
       "      <td>50818</td>\n",
       "      <td>LAB</td>\n",
       "    </tr>\n",
       "  </tbody>\n",
       "</table>\n",
       "</div>"
      ],
      "text/plain": [
       "   SUBJECT_ID   CHARTTIME  ITEMID TYPE\n",
       "0           9  2149-11-09   50813  LAB\n",
       "1           9  2149-11-09   50808  LAB\n",
       "2           9  2149-11-09   50822  LAB\n",
       "3           9  2149-11-09   50821  LAB\n",
       "4           9  2149-11-09   50818  LAB"
      ]
     },
     "execution_count": 20,
     "metadata": {},
     "output_type": "execute_result"
    }
   ],
   "source": [
    "# m1 = pd.merge(lab2, pre2, how = 'outer')\n",
    "# total_data = pd.merge(m1, pro2, how = 'outer')\n",
    "\n",
    "total_data = pd.concat([lab2, pre2, pro2], axis = 0)\n",
    "total_data = total_data.sort_values(['SUBJECT_ID','CHARTTIME']).reset_index(drop=True)\n",
    "total_data = total_data.astype({'ITEMID':'int'})\n",
    "total_data.shape\n",
    "total_data.head()\n",
    "\n",
    "# total_data.to_csv('total_data.csv', index = False)"
   ]
  },
  {
   "cell_type": "code",
   "execution_count": 7,
   "id": "2e71d886",
   "metadata": {},
   "outputs": [],
   "source": [
    "total_data = pd.read_csv(lsh_해외 + 'total_data.csv')\n",
    "\n",
    "dic_sub2idx = {}\n",
    "for i, j in enumerate(total_data['SUBJECT_ID'].unique()):\n",
    "    dic_sub2idx[j] = i\n",
    "\n",
    "dic_item2idx = {}\n",
    "for i, j in enumerate(total_data['ITEMID'].sort_values().unique()):\n",
    "    dic_item2idx[j] = i\n",
    "\n",
    "admission = pd.read_csv(mimic_path + 'ADMISSIONS.csv') # 입퇴원기록\n",
    "admission = admission[admission['SUBJECT_ID'].isin(total_data['SUBJECT_ID'].unique())] # total_data에 있는 환자에 대한 정보만 뽑음.\n",
    "\n",
    "# DISCHTIME열 시간 제거 (날짜만 남기기)\n",
    "## DISCHTIME : discharged time, 퇴원일 나와있는 열임.\n",
    "date_only(admission, 'DISCHTIME')\n",
    "\n",
    "# 최종 퇴원일 (환자별로 퇴원일 여러번 있을 수 있음. 가장 마지막 날짜만 남기기)\n",
    "dic_sub2final_date = dict(admission.groupby('SUBJECT_ID')['DISCHTIME'].max())"
   ]
  },
  {
   "cell_type": "code",
   "execution_count": 16,
   "id": "0bee4ed1",
   "metadata": {},
   "outputs": [
    {
     "name": "stderr",
     "output_type": "stream",
     "text": [
      "6895982it [00:11, 604023.98it/s]\n"
     ]
    },
    {
     "name": "stdout",
     "output_type": "stream",
     "text": [
      "2042722.0\n"
     ]
    }
   ],
   "source": [
    "from datetime import timedelta\n",
    "from tqdm import tqdm\n",
    "import datetime\n",
    "\n",
    "x = np.zeros((7799,10,4069))\n",
    "\n",
    "IF = open(lsh_해외 + 'total_data.csv','r')\n",
    "line = IF.readline()\n",
    "for line in tqdm(IF):\n",
    "    ss = line.strip('\\n').split(',')\n",
    "    \n",
    "    sub, item, charttime = int(ss[0]), int(ss[2]), datetime.date.fromisoformat(ss[1])\n",
    "    subidx = dic_sub2idx[sub]\n",
    "    itemidx = dic_item2idx[item]\n",
    "    finaldate = dic_sub2final_date[sub] # 최종 퇴원일\n",
    "    dateidx = -(finaldate - charttime).days + 10\n",
    "\n",
    "    \n",
    "    if (dateidx < 0) or (dateidx > 9): # D1D10이 아니면 넘기기\n",
    "        continue\n",
    "    else:\n",
    "        x[subidx, dateidx, itemidx] = 1 # 각 idx의 위치에 1 추가\n",
    "\n",
    "IF.close()\n",
    "print(x.sum())"
   ]
  },
  {
   "cell_type": "code",
   "execution_count": null,
   "id": "83e0f476",
   "metadata": {},
   "outputs": [],
   "source": []
  },
  {
   "cell_type": "markdown",
   "id": "53925b61",
   "metadata": {},
   "source": [
    "# `X` : (7727, 10, 4068)\n",
    "- total_data를 기반으로 3차원 데이터 구성 시 퇴원 시점과의 간격으로 D-1 ~ D-10만 고려하기 때문에 제외되는 SUBJECT_ID가 있을 수 있음\n",
    "- 모든 timepoint, item_id 대해서 0값을 가지는 sub_id는 총 72개\n",
    "- 이 72명에 해당하는 sub_id를 제외하고, 남은 사람 중에 누구에게도 해당되지 않는 item_id를 제거해주면 `X` : (7727, 10, 4068)이 된다.\n",
    "\n",
    "\n",
    "- 본래 1과 2를 모두 수행해야 하나 2를 추가로 실행했을 때 LSTM 모델 예측력의 차이는 거의 없었음 -> (7727, 10, 4068)로 유지해도 ok\n",
    "    - 아래 x_(7727, 10, 3595) test 참고"
   ]
  },
  {
   "cell_type": "code",
   "execution_count": 27,
   "id": "d3345dcc",
   "metadata": {},
   "outputs": [
    {
     "data": {
      "text/plain": [
       "(7727, 10, 4069)"
      ]
     },
     "execution_count": 27,
     "metadata": {},
     "output_type": "execute_result"
    },
    {
     "data": {
      "text/plain": [
       "2042722.0"
      ]
     },
     "execution_count": 27,
     "metadata": {},
     "output_type": "execute_result"
    }
   ],
   "source": [
    "# 1. sub_id에 대해서 모두 0값인 데이터 제거 (7799명 -> 7727명)\n",
    "sub_sum = x.sum(axis=1).sum(axis=1)\n",
    "sub_sum[sub_sum > 0] = 1\n",
    "sub_sum = pd.DataFrame(sub_sum)\n",
    "zero_index = sub_sum[sub_sum[0]==0].index\n",
    "new_x = np.delete(x, zero_index, axis = 0)\n",
    "new_x.shape\n",
    "new_x.sum()"
   ]
  },
  {
   "cell_type": "code",
   "execution_count": 28,
   "id": "e1670e5c",
   "metadata": {},
   "outputs": [
    {
     "data": {
      "text/plain": [
       "(7727, 10, 3595)"
      ]
     },
     "execution_count": 28,
     "metadata": {},
     "output_type": "execute_result"
    },
    {
     "data": {
      "text/plain": [
       "2042722.0"
      ]
     },
     "execution_count": 28,
     "metadata": {},
     "output_type": "execute_result"
    }
   ],
   "source": [
    "# 2. feature에 대해서 모두 0값인 데이터 제거 (4069개 -> 3595개)\n",
    "f_sum = new_x.sum(axis=0).sum(axis=0)\n",
    "f_sum[f_sum > 0] = 1\n",
    "f_sum = pd.DataFrame(f_sum)\n",
    "zero_index2 = f_sum[f_sum[0]==0].index\n",
    "final_x = np.delete(new_x, zero_index2, axis = 2)\n",
    "final_x.shape\n",
    "final_x.sum()"
   ]
  },
  {
   "cell_type": "code",
   "execution_count": 38,
   "id": "79f3440a",
   "metadata": {
    "scrolled": true
   },
   "outputs": [],
   "source": [
    "# x save\n",
    "# np.save('x_(7727,10,3595).npy', final_x)\n",
    "# np.save('x_(7727,10,4069).npy', new_x)"
   ]
  },
  {
   "cell_type": "markdown",
   "id": "29c57858",
   "metadata": {},
   "source": [
    "# `x` : (7727, 10, 3595) test\n",
    "\n",
    "- x_(7727, 10, 3595) - Single LSTM\n",
    "    - `accuracy` : 0.754, `precision` : 0.787, `recall` : 0.810, `f1` : 0.798, `roc_auc` : 0.740\n",
    "\n",
    "\n",
    "- x_(7727, 10, 4068) - Single LSTM\n",
    "    - `accuracy` : 0.755, `precision` : 0.799, `recall` : 0.792, `f1` : 0.795, `roc_auc` : 0.746\n",
    "    \n",
    "    \n",
    "- x_(7799, 10, 4069) - Single LSTM\n",
    "    - `accuracy` : 0.747, `precision` : 0.799, `recall` : 0.796, `f1` : 0.798, `roc_auc` : 0.730"
   ]
  },
  {
   "cell_type": "code",
   "execution_count": 29,
   "id": "2ed4bce6",
   "metadata": {},
   "outputs": [],
   "source": [
    "import numpy as np\n",
    "import pandas as pd\n",
    "import tensorflow as tf\n",
    "import warnings \n",
    "warnings.filterwarnings(action='ignore')\n",
    "\n",
    "gpus = tf.config.experimental.list_physical_devices('GPU')\n",
    "if gpus:\n",
    "    try:\n",
    "        for i in range(len(gpus)):\n",
    "            tf.config.experimental.set_memory_growth(gpus[i], True)\n",
    "    except RuntimeError as e:\n",
    "        # 프로그램 시작시에 메모리 증가가 설정되어야만 합니다\n",
    "        print(e)\n",
    "\n",
    "# 결과 확인을 용이하게 하기 위한 코드\n",
    "from IPython.core.interactiveshell import InteractiveShell\n",
    "InteractiveShell.ast_node_interactivity = 'all'"
   ]
  },
  {
   "cell_type": "code",
   "execution_count": 31,
   "id": "274ac478",
   "metadata": {},
   "outputs": [
    {
     "data": {
      "text/plain": [
       "((6182, 10, 3595), (6182,), (1545, 10, 3595), (1545,))"
      ]
     },
     "execution_count": 31,
     "metadata": {},
     "output_type": "execute_result"
    }
   ],
   "source": [
    "import random  \n",
    "seed_num = 42\n",
    "random.seed(seed_num)\n",
    "\n",
    "lsh_path = '/project/LSH/'\n",
    "# x = np.load(lsh_path + 'x_(7799,10,4069).npy')\n",
    "# y = np.load(lsh_path + 'y_(7799,1).npy')\n",
    "\n",
    "# x = np.load(lsh_해외 + 'x_(7727,10,4068).npy')\n",
    "x = np.load(lsh_해외 + 'x_(7727,10,3595).npy')\n",
    "y = np.load(lsh_path + 'y_(7727,1).npy')\n",
    "\n",
    "idx = list(range(len(x)))\n",
    "random.shuffle(idx)\n",
    "\n",
    "i = round(x.shape[0]*0.8)\n",
    "X_train, y_train = x[idx[:i],:,:], y[idx[:i]]\n",
    "X_test, y_test = x[idx[i:],:,:], y[idx[i:]]\n",
    "\n",
    "X_train.shape, y_train.shape, X_test.shape, y_test.shape"
   ]
  },
  {
   "cell_type": "code",
   "execution_count": 32,
   "id": "f8e06d2d",
   "metadata": {
    "scrolled": true
   },
   "outputs": [
    {
     "name": "stdout",
     "output_type": "stream",
     "text": [
      "Single LSTM Start\n",
      "WARNING:tensorflow:Layer lstm will not use cuDNN kernels since it doesn't meet the criteria. It will use a generic GPU kernel as fallback when running on GPU.\n",
      "WARNING:tensorflow:Layer lstm_1 will not use cuDNN kernels since it doesn't meet the criteria. It will use a generic GPU kernel as fallback when running on GPU.\n",
      "WARNING:tensorflow:Layer lstm_2 will not use cuDNN kernels since it doesn't meet the criteria. It will use a generic GPU kernel as fallback when running on GPU.\n",
      "WARNING:tensorflow:Layer lstm_3 will not use cuDNN kernels since it doesn't meet the criteria. It will use a generic GPU kernel as fallback when running on GPU.\n",
      "Epoch 1/300\n",
      "5/5 [==============================] - 5s 197ms/step - loss: 0.6921 - acc: 0.5917 - val_loss: 0.6806 - val_acc: 0.6177\n",
      "Epoch 2/300\n",
      "5/5 [==============================] - 0s 94ms/step - loss: 0.6767 - acc: 0.5921 - val_loss: 0.6652 - val_acc: 0.6177\n",
      "Epoch 3/300\n",
      "5/5 [==============================] - 0s 91ms/step - loss: 0.6745 - acc: 0.6109 - val_loss: 0.6666 - val_acc: 0.6177\n",
      "Epoch 4/300\n",
      "5/5 [==============================] - 0s 91ms/step - loss: 0.6726 - acc: 0.6113 - val_loss: 0.6651 - val_acc: 0.6177\n",
      "Epoch 5/300\n",
      "5/5 [==============================] - 0s 93ms/step - loss: 0.6697 - acc: 0.6109 - val_loss: 0.6662 - val_acc: 0.6177\n",
      "Epoch 6/300\n",
      "5/5 [==============================] - 0s 87ms/step - loss: 0.6700 - acc: 0.6109 - val_loss: 0.6648 - val_acc: 0.6177\n",
      "Epoch 7/300\n",
      "5/5 [==============================] - 0s 90ms/step - loss: 0.6683 - acc: 0.6113 - val_loss: 0.6626 - val_acc: 0.6177\n",
      "Epoch 8/300\n",
      "5/5 [==============================] - 0s 91ms/step - loss: 0.6664 - acc: 0.6115 - val_loss: 0.6566 - val_acc: 0.6177\n",
      "Epoch 9/300\n",
      "5/5 [==============================] - 0s 89ms/step - loss: 0.6541 - acc: 0.6115 - val_loss: 0.6345 - val_acc: 0.6177\n",
      "Epoch 10/300\n",
      "5/5 [==============================] - 0s 90ms/step - loss: 0.6132 - acc: 0.6376 - val_loss: 0.5776 - val_acc: 0.7490\n",
      "Epoch 11/300\n",
      "5/5 [==============================] - 0s 89ms/step - loss: 0.5348 - acc: 0.7826 - val_loss: 0.5365 - val_acc: 0.7348\n",
      "Epoch 12/300\n",
      "5/5 [==============================] - 0s 89ms/step - loss: 0.4799 - acc: 0.8018 - val_loss: 0.5413 - val_acc: 0.7497\n",
      "Epoch 13/300\n",
      "5/5 [==============================] - 0s 92ms/step - loss: 0.4542 - acc: 0.8205 - val_loss: 0.5426 - val_acc: 0.7451\n",
      "Epoch 14/300\n",
      "5/5 [==============================] - 0s 89ms/step - loss: 0.4258 - acc: 0.8350 - val_loss: 0.5496 - val_acc: 0.7646\n",
      "Epoch 15/300\n",
      "5/5 [==============================] - 0s 89ms/step - loss: 0.3957 - acc: 0.8527 - val_loss: 0.5367 - val_acc: 0.7626\n",
      "Epoch 16/300\n",
      "5/5 [==============================] - 0s 89ms/step - loss: 0.3633 - acc: 0.8697 - val_loss: 0.5602 - val_acc: 0.7568\n",
      "Epoch 17/300\n",
      "5/5 [==============================] - 0s 86ms/step - loss: 0.3328 - acc: 0.8848 - val_loss: 0.5863 - val_acc: 0.7529\n",
      "Epoch 18/300\n",
      "5/5 [==============================] - 0s 92ms/step - loss: 0.3048 - acc: 0.9023 - val_loss: 0.6321 - val_acc: 0.7464\n",
      "Epoch 19/300\n",
      "5/5 [==============================] - 0s 89ms/step - loss: 0.2907 - acc: 0.9094 - val_loss: 0.6254 - val_acc: 0.7536\n",
      "Epoch 20/300\n",
      "5/5 [==============================] - 0s 89ms/step - loss: 0.2682 - acc: 0.9213 - val_loss: 0.6176 - val_acc: 0.7568\n",
      "Epoch 21/300\n",
      "5/5 [==============================] - 0s 91ms/step - loss: 0.2482 - acc: 0.9288 - val_loss: 0.6398 - val_acc: 0.7555\n",
      "Epoch 22/300\n",
      "5/5 [==============================] - 0s 93ms/step - loss: 0.2310 - acc: 0.9364 - val_loss: 0.6845 - val_acc: 0.7484\n",
      "Epoch 23/300\n",
      "5/5 [==============================] - 0s 92ms/step - loss: 0.2209 - acc: 0.9413 - val_loss: 0.6925 - val_acc: 0.7503\n",
      "Epoch 24/300\n",
      "5/5 [==============================] - 0s 89ms/step - loss: 0.2108 - acc: 0.9443 - val_loss: 0.7016 - val_acc: 0.7490\n",
      "Epoch 25/300\n",
      "5/5 [==============================] - 0s 92ms/step - loss: 0.2032 - acc: 0.9467 - val_loss: 0.7119 - val_acc: 0.7523\n",
      "Epoch 26/300\n",
      "5/5 [==============================] - 0s 90ms/step - loss: 0.1933 - acc: 0.9497 - val_loss: 0.7194 - val_acc: 0.7484\n",
      "Epoch 27/300\n",
      "5/5 [==============================] - 0s 90ms/step - loss: 0.1880 - acc: 0.9530 - val_loss: 0.7292 - val_acc: 0.7477\n",
      "Epoch 28/300\n",
      "5/5 [==============================] - 0s 91ms/step - loss: 0.1831 - acc: 0.9551 - val_loss: 0.7540 - val_acc: 0.7464\n",
      "Epoch 29/300\n",
      "5/5 [==============================] - 0s 90ms/step - loss: 0.1796 - acc: 0.9560 - val_loss: 0.7703 - val_acc: 0.7477\n",
      "Epoch 30/300\n",
      "5/5 [==============================] - 0s 93ms/step - loss: 0.1745 - acc: 0.9556 - val_loss: 0.7833 - val_acc: 0.7380\n",
      "Epoch 31/300\n",
      "5/5 [==============================] - 0s 92ms/step - loss: 0.1686 - acc: 0.9592 - val_loss: 0.7746 - val_acc: 0.7445\n",
      "Epoch 32/300\n",
      "5/5 [==============================] - 0s 95ms/step - loss: 0.1621 - acc: 0.9597 - val_loss: 0.7904 - val_acc: 0.7458\n",
      "Epoch 33/300\n",
      "5/5 [==============================] - 0s 90ms/step - loss: 0.1561 - acc: 0.9616 - val_loss: 0.8154 - val_acc: 0.7458\n",
      "Epoch 34/300\n",
      "5/5 [==============================] - 0s 91ms/step - loss: 0.1474 - acc: 0.9651 - val_loss: 0.8304 - val_acc: 0.7503\n",
      "Epoch 35/300\n",
      "5/5 [==============================] - 0s 90ms/step - loss: 0.1455 - acc: 0.9657 - val_loss: 0.8641 - val_acc: 0.7471\n",
      "Epoch 36/300\n",
      "5/5 [==============================] - 0s 92ms/step - loss: 0.1450 - acc: 0.9655 - val_loss: 0.8953 - val_acc: 0.7361\n",
      "Epoch 37/300\n",
      "5/5 [==============================] - 0s 93ms/step - loss: 0.1381 - acc: 0.9676 - val_loss: 0.8947 - val_acc: 0.7354\n",
      "Epoch 38/300\n",
      "5/5 [==============================] - 0s 94ms/step - loss: 0.1275 - acc: 0.9713 - val_loss: 0.9186 - val_acc: 0.7322\n",
      "Epoch 39/300\n",
      "5/5 [==============================] - 0s 91ms/step - loss: 0.1216 - acc: 0.9735 - val_loss: 0.9408 - val_acc: 0.7303\n",
      "Epoch 40/300\n",
      "5/5 [==============================] - 0s 87ms/step - loss: 0.1162 - acc: 0.9752 - val_loss: 0.9518 - val_acc: 0.7329\n",
      "Epoch 41/300\n",
      "5/5 [==============================] - 0s 94ms/step - loss: 0.1200 - acc: 0.9735 - val_loss: 0.9696 - val_acc: 0.7367\n",
      "Epoch 00041: early stopping\n"
     ]
    },
    {
     "data": {
      "text/plain": [
       "<tensorflow.python.keras.callbacks.History at 0x7fe85017ac40>"
      ]
     },
     "execution_count": 32,
     "metadata": {},
     "output_type": "execute_result"
    },
    {
     "name": "stdout",
     "output_type": "stream",
     "text": [
      "accuracy : 0.752, precision : 0.779, recall : 0.819, f1 : 0.799, roc_auc : 0.735\n"
     ]
    }
   ],
   "source": [
    "from sklearn.model_selection import train_test_split\n",
    "from tensorflow.keras import Sequential\n",
    "from tensorflow.keras.layers import Dense, GRU, Dropout, LSTM, InputLayer\n",
    "from sklearn.ensemble import VotingClassifier, AdaBoostClassifier\n",
    "from sklearn.metrics import accuracy_score\n",
    "from sklearn.metrics import precision_score\n",
    "from sklearn.metrics import recall_score\n",
    "from sklearn.metrics import f1_score\n",
    "from sklearn.metrics import roc_auc_score\n",
    "from sklearn import metrics \n",
    "from tensorflow import keras\n",
    "import random  \n",
    "from tensorflow.keras.callbacks import EarlyStopping\n",
    "\n",
    "# LSTM\n",
    "def get_model():\n",
    "    lstm = Sequential()\n",
    "    lstm.add(InputLayer(input_shape=(x.shape[1],x.shape[2])))\n",
    "    lstm.add(LSTM(units=128, activation='hard_sigmoid', return_sequences=True))\n",
    "    lstm.add(LSTM(units=64, activation='hard_sigmoid', return_sequences=True))\n",
    "    lstm.add(Dropout(0.2))\n",
    "    lstm.add(LSTM(units=64, activation='hard_sigmoid', return_sequences=True))\n",
    "    lstm.add(LSTM(units=32, activation='hard_sigmoid', return_sequences=False))\n",
    "    lstm.add(Dropout(0.2))\n",
    "    lstm.add(Dense(units=1, activation='sigmoid'))\n",
    "\n",
    "    lstm.compile(optimizer= keras.optimizers.Adam(learning_rate = 0.01), \n",
    "                 loss = \"binary_crossentropy\", metrics=['acc'])\n",
    "    return lstm\n",
    "\n",
    "with tf.device('/device:GPU:0'):\n",
    "    print(\"Single LSTM Start\")\n",
    "#     tf.random.set_seed(0)\n",
    "    model = get_model()\n",
    "    \n",
    "    early_stop = EarlyStopping(monitor='val_loss', patience=30, verbose=1, restore_best_weights=False)\n",
    "    model.fit(X_train, y_train, epochs=300, batch_size=1024, validation_split=0.25, callbacks=[early_stop])\n",
    "    preds = model.predict(X_test)\n",
    "\n",
    "    preds[preds>0.5]=1\n",
    "    preds[preds<=0.5]=0\n",
    "    precision = precision_score(y_test, preds)\n",
    "    recall = recall_score(y_test, preds)\n",
    "    f1 = f1_score(y_test, preds)\n",
    "    roc_auc = roc_auc_score(y_test, preds)\n",
    "    acc = accuracy_score(y_test, preds)\n",
    "\n",
    "    print(f'accuracy : {acc:.3f}, precision : {precision:.3f}, recall : {recall:.3f}, f1 : {f1:.3f}, roc_auc : {roc_auc:.3f}')"
   ]
  }
 ],
 "metadata": {
  "kernelspec": {
   "display_name": "Python 3.10.3 64-bit",
   "language": "python",
   "name": "python3"
  },
  "language_info": {
   "codemirror_mode": {
    "name": "ipython",
    "version": 3
   },
   "file_extension": ".py",
   "mimetype": "text/x-python",
   "name": "python",
   "nbconvert_exporter": "python",
   "pygments_lexer": "ipython3",
   "version": "3.10.3"
  },
  "latex_envs": {
   "LaTeX_envs_menu_present": true,
   "autoclose": false,
   "autocomplete": true,
   "bibliofile": "biblio.bib",
   "cite_by": "apalike",
   "current_citInitial": 1,
   "eqLabelWithNumbers": true,
   "eqNumInitial": 1,
   "hotkeys": {
    "equation": "Ctrl-E",
    "itemize": "Ctrl-I"
   },
   "labels_anchors": false,
   "latex_user_defs": false,
   "report_style_numbering": false,
   "user_envs_cfg": false
  },
  "toc": {
   "base_numbering": 1,
   "nav_menu": {},
   "number_sections": true,
   "sideBar": true,
   "skip_h1_title": false,
   "title_cell": "Table of Contents",
   "title_sidebar": "Contents",
   "toc_cell": false,
   "toc_position": {
    "height": "calc(100% - 180px)",
    "left": "10px",
    "top": "150px",
    "width": "255px"
   },
   "toc_section_display": true,
   "toc_window_display": false
  },
  "vscode": {
   "interpreter": {
    "hash": "6de9cc75f9ee67ec1b5b535deb0e285a51ecb5d2bba828a4a3451b05a2c1454b"
   }
  }
 },
 "nbformat": 4,
 "nbformat_minor": 5
}
