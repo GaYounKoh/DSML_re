{
 "cells": [
  {
   "cell_type": "markdown",
   "id": "3275f625",
   "metadata": {},
   "source": [
    "total_data_7727이 이미 abnormal인 애들만 모아둔게 맞음. itemid 개수 == 4068"
   ]
  },
  {
   "cell_type": "markdown",
   "id": "55c8462b",
   "metadata": {},
   "source": [
    "total_data에 적혀있는 마지막 날짜는 d-1임. (d-day 아님.)\n",
    "<br>\n",
    "x, y: 환자 id 별로 sorting 된 data\n",
    "<br>\n",
    "x: 환자 별 sorting"
   ]
  },
  {
   "cell_type": "markdown",
   "id": "f167f719",
   "metadata": {},
   "source": [
    "# library"
   ]
  },
  {
   "cell_type": "code",
   "execution_count": 1,
   "id": "02c9e5f8",
   "metadata": {},
   "outputs": [],
   "source": [
    "import numpy as np, os\n",
    "import pandas as pd\n",
    "import tensorflow as tf\n",
    "from tqdm import tqdm\n",
    "\n",
    "# 결과 확인을 용이하게 하기 위한 코드\n",
    "from IPython.core.interactiveshell import InteractiveShell\n",
    "InteractiveShell.ast_node_interactivity = 'all'"
   ]
  },
  {
   "cell_type": "markdown",
   "id": "77cc01b7",
   "metadata": {},
   "source": [
    "# df_all"
   ]
  },
  {
   "cell_type": "code",
   "execution_count": 3,
   "id": "754a457a",
   "metadata": {},
   "outputs": [
    {
     "ename": "AttributeError",
     "evalue": "module 'keras.utils.generic_utils' has no attribute 'populate_dict_with_module_objects'",
     "output_type": "error",
     "traceback": [
      "\u001b[1;31m---------------------------------------------------------------------------\u001b[0m",
      "\u001b[1;31mAttributeError\u001b[0m                            Traceback (most recent call last)",
      "\u001b[1;32m<ipython-input-3-bd0b942342e0>\u001b[0m in \u001b[0;36m<module>\u001b[1;34m\u001b[0m\n\u001b[0;32m     17\u001b[0m \u001b[1;33m\u001b[0m\u001b[0m\n\u001b[0;32m     18\u001b[0m \u001b[1;31m# 2) MODEL\u001b[0m\u001b[1;33m\u001b[0m\u001b[1;33m\u001b[0m\u001b[1;33m\u001b[0m\u001b[0m\n\u001b[1;32m---> 19\u001b[1;33m \u001b[1;32mfrom\u001b[0m \u001b[0mkeras\u001b[0m\u001b[1;33m.\u001b[0m\u001b[0mmodels\u001b[0m \u001b[1;32mimport\u001b[0m \u001b[0mload_model\u001b[0m\u001b[1;33m\u001b[0m\u001b[1;33m\u001b[0m\u001b[0m\n\u001b[0m\u001b[0;32m     20\u001b[0m \u001b[0mlstm2\u001b[0m \u001b[1;33m=\u001b[0m \u001b[0mload_model\u001b[0m\u001b[1;33m(\u001b[0m\u001b[1;34m'./dsml_data/model/(LSTM_best_4068)seed42-05-0.5029.hdf5'\u001b[0m\u001b[1;33m)\u001b[0m\u001b[1;33m\u001b[0m\u001b[1;33m\u001b[0m\u001b[0m\n",
      "\u001b[1;32m~\\anaconda3\\lib\\site-packages\\keras\\__init__.py\u001b[0m in \u001b[0;36m<module>\u001b[1;34m\u001b[0m\n\u001b[0;32m     18\u001b[0m \u001b[1;32mfrom\u001b[0m \u001b[1;33m.\u001b[0m \u001b[1;32mimport\u001b[0m \u001b[0mcallbacks\u001b[0m\u001b[1;33m\u001b[0m\u001b[1;33m\u001b[0m\u001b[0m\n\u001b[0;32m     19\u001b[0m \u001b[1;32mfrom\u001b[0m \u001b[1;33m.\u001b[0m \u001b[1;32mimport\u001b[0m \u001b[0mconstraints\u001b[0m\u001b[1;33m\u001b[0m\u001b[1;33m\u001b[0m\u001b[0m\n\u001b[1;32m---> 20\u001b[1;33m \u001b[1;32mfrom\u001b[0m \u001b[1;33m.\u001b[0m \u001b[1;32mimport\u001b[0m \u001b[0minitializers\u001b[0m\u001b[1;33m\u001b[0m\u001b[1;33m\u001b[0m\u001b[0m\n\u001b[0m\u001b[0;32m     21\u001b[0m \u001b[1;32mfrom\u001b[0m \u001b[1;33m.\u001b[0m \u001b[1;32mimport\u001b[0m \u001b[0mmetrics\u001b[0m\u001b[1;33m\u001b[0m\u001b[1;33m\u001b[0m\u001b[0m\n\u001b[0;32m     22\u001b[0m \u001b[1;32mfrom\u001b[0m \u001b[1;33m.\u001b[0m \u001b[1;32mimport\u001b[0m \u001b[0mmodels\u001b[0m\u001b[1;33m\u001b[0m\u001b[1;33m\u001b[0m\u001b[0m\n",
      "\u001b[1;32m~\\anaconda3\\lib\\site-packages\\keras\\initializers\\__init__.py\u001b[0m in \u001b[0;36m<module>\u001b[1;34m\u001b[0m\n\u001b[0;32m    122\u001b[0m \u001b[1;31m# from ALL_OBJECTS. We make no guarantees as to whether these objects will\u001b[0m\u001b[1;33m\u001b[0m\u001b[1;33m\u001b[0m\u001b[1;33m\u001b[0m\u001b[0m\n\u001b[0;32m    123\u001b[0m \u001b[1;31m# using their correct version.\u001b[0m\u001b[1;33m\u001b[0m\u001b[1;33m\u001b[0m\u001b[1;33m\u001b[0m\u001b[0m\n\u001b[1;32m--> 124\u001b[1;33m \u001b[0mpopulate_deserializable_objects\u001b[0m\u001b[1;33m(\u001b[0m\u001b[1;33m)\u001b[0m\u001b[1;33m\u001b[0m\u001b[1;33m\u001b[0m\u001b[0m\n\u001b[0m\u001b[0;32m    125\u001b[0m \u001b[0mglobals\u001b[0m\u001b[1;33m(\u001b[0m\u001b[1;33m)\u001b[0m\u001b[1;33m.\u001b[0m\u001b[0mupdate\u001b[0m\u001b[1;33m(\u001b[0m\u001b[0mLOCAL\u001b[0m\u001b[1;33m.\u001b[0m\u001b[0mALL_OBJECTS\u001b[0m\u001b[1;33m)\u001b[0m\u001b[1;33m\u001b[0m\u001b[1;33m\u001b[0m\u001b[0m\n\u001b[0;32m    126\u001b[0m \u001b[1;33m\u001b[0m\u001b[0m\n",
      "\u001b[1;32m~\\anaconda3\\lib\\site-packages\\keras\\initializers\\__init__.py\u001b[0m in \u001b[0;36mpopulate_deserializable_objects\u001b[1;34m()\u001b[0m\n\u001b[0;32m     80\u001b[0m     \u001b[0mv2_objs\u001b[0m \u001b[1;33m=\u001b[0m \u001b[1;33m{\u001b[0m\u001b[1;33m}\u001b[0m\u001b[1;33m\u001b[0m\u001b[1;33m\u001b[0m\u001b[0m\n\u001b[0;32m     81\u001b[0m     \u001b[0mbase_cls\u001b[0m \u001b[1;33m=\u001b[0m \u001b[0minitializers_v2\u001b[0m\u001b[1;33m.\u001b[0m\u001b[0mInitializer\u001b[0m\u001b[1;33m\u001b[0m\u001b[1;33m\u001b[0m\u001b[0m\n\u001b[1;32m---> 82\u001b[1;33m     generic_utils.populate_dict_with_module_objects(\n\u001b[0m\u001b[0;32m     83\u001b[0m         \u001b[0mv2_objs\u001b[0m\u001b[1;33m,\u001b[0m\u001b[1;33m\u001b[0m\u001b[1;33m\u001b[0m\u001b[0m\n\u001b[0;32m     84\u001b[0m         \u001b[1;33m[\u001b[0m\u001b[0minitializers_v2\u001b[0m\u001b[1;33m]\u001b[0m\u001b[1;33m,\u001b[0m\u001b[1;33m\u001b[0m\u001b[1;33m\u001b[0m\u001b[0m\n",
      "\u001b[1;31mAttributeError\u001b[0m: module 'keras.utils.generic_utils' has no attribute 'populate_dict_with_module_objects'"
     ]
    }
   ],
   "source": [
    "# 1) DATA \n",
    "import random    \n",
    "# ---------------------\n",
    "seed_num = 42\n",
    "# ---------------------\n",
    "random.seed(seed_num)\n",
    "\n",
    "x = np.load('./dsml_data/x_(7727,10,4068).npy')\n",
    "y = np.load('./dsml_data/y_(7727,1).npy')\n",
    "\n",
    "idx = list(range(len(x)))\n",
    "random.shuffle(idx)\n",
    "\n",
    "i = round(x.shape[0]*0.8)\n",
    "X_train, y_train = x[idx[:i],:,:], y[idx[:i]]\n",
    "X_test, y_test = x[idx[i:],:,:], y[idx[i:]]\n",
    "\n",
    "# 2) MODEL\n",
    "from tensorflow.keras.models import load_model\n",
    "lstm2 = load_model('./dsml_data/model/(LSTM_best_4068)seed42-05-0.5029.hdf5')"
   ]
  },
  {
   "cell_type": "markdown",
   "id": "2154b5c4",
   "metadata": {},
   "source": [
    "## ReLU에는 inverse 해서 학습해서 구한 diff\n",
    "## Sign에는 모두 1로 바꿔서 학습해서 구한 diff"
   ]
  },
  {
   "cell_type": "code",
   "execution_count": 4,
   "id": "14e68cbf",
   "metadata": {},
   "outputs": [
    {
     "name": "stderr",
     "output_type": "stream",
     "text": [
      "100%|██████████| 4068/4068 [33:47<00:00,  2.01it/s]\n"
     ]
    }
   ],
   "source": [
    "# 3)\n",
    "# FEATURES\n",
    "a = pd.read_csv('./dsml_data/total_data_7727.csv')\n",
    "features = list(a['ITEMID'].sort_values().unique()) # 4068개 ITEMID \n",
    "\n",
    "\n",
    "preds2_mean_lst = []\n",
    "results = []\n",
    "preds = lstm2.predict(X_test)\n",
    "preds_mean = np.mean(preds)\n",
    "\n",
    "# COMPUTE BASELINE\n",
    "from tensorflow.keras.losses import BinaryCrossentropy\n",
    "bce = BinaryCrossentropy()\n",
    "baseline_bce = bce(y_test, preds).numpy()\n",
    "results.append({'feature':'BASELINE','baseline_bce':baseline_bce}) \n",
    "\n",
    "for k in tqdm(range(len(features))):\n",
    "\n",
    "    # REVERSE ALL FEATURE K\n",
    "    save_col = X_test[:,:,k].copy()\n",
    "    X_test[:,:,k] = 1\n",
    "#     X_test[:,:,k] = np.where(X_test[:,:,k]==1, 2, X_test[:,:,k])\n",
    "#     X_test[:,:,k] = np.where(X_test[:,:,k]==0, 1, X_test[:,:,k])\n",
    "#     X_test[:,:,k] = np.where(X_test[:,:,k]==2, 0, X_test[:,:,k])\n",
    "\n",
    "    # COMPUTE BCE WITH FEATURE K REVERSED, preds2_mean_list\n",
    "    preds2 = lstm2.predict(X_test)\n",
    "#     preds2_mean = np.mean(preds2)\n",
    "    preds2_mean_lst.append(np.mean(preds2))\n",
    "    \n",
    "    loss_bce = bce(y_test, preds2).numpy()\n",
    "    results.append({'feature':features[k],'bce':loss_bce})\n",
    "    X_test[:,:,k] = save_col"
   ]
  },
  {
   "cell_type": "markdown",
   "id": "4829400c",
   "metadata": {},
   "source": [
    "# data processing"
   ]
  },
  {
   "cell_type": "code",
   "execution_count": null,
   "id": "eb3570da",
   "metadata": {},
   "outputs": [],
   "source": [
    "df1 = pd.DataFrame(results)\n",
    "\n",
    "preds2_mean_lst.insert(0, np.NaN)\n",
    "preds2_mean_lst\n",
    "\n",
    "preds_mean_lst = []\n",
    "for i in range(len(df1)):\n",
    "    if i == 0:\n",
    "        preds_mean_lst.append(preds_mean)\n",
    "    else:\n",
    "        preds_mean_lst.append(np.nan)\n",
    "\n",
    "len(preds_mean_lst)\n",
    "preds_mean_lst\n",
    "\n",
    "\n",
    "df1['preds_mean'] = preds_mean_lst\n",
    "df1['preds2_mean'] = preds2_mean_lst\n",
    "\n",
    "######################################################################\n",
    "df_all_best = df1.copy()\n",
    "\n",
    "base_value = df1.iloc[0,1]\n",
    "df_all_best['baseline_bce'] = base_value\n",
    "df_all_best\n",
    "df_all_best['diff'] = df_all_best['bce']-df_all_best['baseline_bce']\n",
    "\n",
    "base_preds = df1.iloc[0,3]\n",
    "df_all_best['preds_mean'] = base_preds\n",
    "df_all_best['diff_preds'] = df_all_best['preds2_mean'] - df_all_best['preds_mean']\n",
    "df_all_best\n",
    "\n",
    "df_all_best = df_all_best.drop(index=[0])\n",
    "df_all_best = df_all_best.sort_values(by=['diff', 'diff_preds'])\n",
    "\n",
    "#######################################################################\n",
    "\n",
    "diffdf = df_all_best[['feature','diff']]\n",
    "diffdf = diffdf.sort_values(by='diff')\n",
    "\n",
    "diffpreds_df = df_all_best[['feature','diff_preds']]\n",
    "diffpreds_df = diffpreds_df.sort_values(by='diff_preds')\n",
    "\n",
    "\n",
    "# df_all_best.to_csv('df_all_best_for_meth1.csv',index = False)\n",
    "# diffdf.to_csv('df_all_diff_for_meth1.csv',index = False)\n",
    "# diffpreds_df.to_csv('df_all_preds_for_meth1.csv',index = False)"
   ]
  },
  {
   "cell_type": "markdown",
   "id": "4165cfac",
   "metadata": {},
   "source": [
    "# ❗❗❗❗❗lib실행 후 여기부터!!!! data_load"
   ]
  },
  {
   "cell_type": "code",
   "execution_count": 4,
   "id": "41e2e28d",
   "metadata": {},
   "outputs": [],
   "source": [
    "all_best = pd.read_csv('./dsml_data/df_all_best_for_meth1.csv')\n",
    "all_diff = pd.read_csv('./dsml_data/df_all_diff_for_meth1.csv')\n",
    "all_preds = pd.read_csv('./dsml_data/df_all_preds_for_meth1.csv')\n",
    "all_best_for_ReLU = pd.read_csv('./dsml_data/df_all_best.csv')"
   ]
  },
  {
   "cell_type": "markdown",
   "id": "98f0460b",
   "metadata": {},
   "source": [
    "# ReLU"
   ]
  },
  {
   "cell_type": "code",
   "execution_count": 5,
   "id": "920584bc",
   "metadata": {},
   "outputs": [
    {
     "name": "stderr",
     "output_type": "stream",
     "text": [
      "<ipython-input-5-86b9ebd9b2c1>:3: SettingWithCopyWarning: \n",
      "A value is trying to be set on a copy of a slice from a DataFrame\n",
      "\n",
      "See the caveats in the documentation: https://pandas.pydata.org/pandas-docs/stable/user_guide/indexing.html#returning-a-view-versus-a-copy\n",
      "  all_best_for_ReLU['diff'][i] = 0\n"
     ]
    },
    {
     "data": {
      "text/html": [
       "<div>\n",
       "<style scoped>\n",
       "    .dataframe tbody tr th:only-of-type {\n",
       "        vertical-align: middle;\n",
       "    }\n",
       "\n",
       "    .dataframe tbody tr th {\n",
       "        vertical-align: top;\n",
       "    }\n",
       "\n",
       "    .dataframe thead th {\n",
       "        text-align: right;\n",
       "    }\n",
       "</style>\n",
       "<table border=\"1\" class=\"dataframe\">\n",
       "  <thead>\n",
       "    <tr style=\"text-align: right;\">\n",
       "      <th></th>\n",
       "      <th>feature</th>\n",
       "      <th>baseline_bce</th>\n",
       "      <th>bce</th>\n",
       "      <th>diff</th>\n",
       "    </tr>\n",
       "  </thead>\n",
       "  <tbody>\n",
       "    <tr>\n",
       "      <th>0</th>\n",
       "      <td>51006</td>\n",
       "      <td>1.014362</td>\n",
       "      <td>1.001220</td>\n",
       "      <td>0.000000</td>\n",
       "    </tr>\n",
       "    <tr>\n",
       "      <th>1</th>\n",
       "      <td>63323026201</td>\n",
       "      <td>1.014362</td>\n",
       "      <td>1.006389</td>\n",
       "      <td>0.000000</td>\n",
       "    </tr>\n",
       "    <tr>\n",
       "      <th>2</th>\n",
       "      <td>51277</td>\n",
       "      <td>1.014362</td>\n",
       "      <td>1.006995</td>\n",
       "      <td>0.000000</td>\n",
       "    </tr>\n",
       "    <tr>\n",
       "      <th>3</th>\n",
       "      <td>0</td>\n",
       "      <td>1.014362</td>\n",
       "      <td>1.009931</td>\n",
       "      <td>0.000000</td>\n",
       "    </tr>\n",
       "    <tr>\n",
       "      <th>4</th>\n",
       "      <td>55390000401</td>\n",
       "      <td>1.014362</td>\n",
       "      <td>1.010688</td>\n",
       "      <td>0.000000</td>\n",
       "    </tr>\n",
       "    <tr>\n",
       "      <th>...</th>\n",
       "      <td>...</td>\n",
       "      <td>...</td>\n",
       "      <td>...</td>\n",
       "      <td>...</td>\n",
       "    </tr>\n",
       "    <tr>\n",
       "      <th>4063</th>\n",
       "      <td>10019055302</td>\n",
       "      <td>1.014362</td>\n",
       "      <td>1.041859</td>\n",
       "      <td>0.027498</td>\n",
       "    </tr>\n",
       "    <tr>\n",
       "      <th>4064</th>\n",
       "      <td>54817525</td>\n",
       "      <td>1.014362</td>\n",
       "      <td>1.043492</td>\n",
       "      <td>0.029130</td>\n",
       "    </tr>\n",
       "    <tr>\n",
       "      <th>4065</th>\n",
       "      <td>67434504</td>\n",
       "      <td>1.014362</td>\n",
       "      <td>1.046829</td>\n",
       "      <td>0.032467</td>\n",
       "    </tr>\n",
       "    <tr>\n",
       "      <th>4066</th>\n",
       "      <td>74606211</td>\n",
       "      <td>1.014362</td>\n",
       "      <td>1.051030</td>\n",
       "      <td>0.036668</td>\n",
       "    </tr>\n",
       "    <tr>\n",
       "      <th>4067</th>\n",
       "      <td>409606211</td>\n",
       "      <td>1.014362</td>\n",
       "      <td>1.073542</td>\n",
       "      <td>0.059180</td>\n",
       "    </tr>\n",
       "  </tbody>\n",
       "</table>\n",
       "<p>4068 rows × 4 columns</p>\n",
       "</div>"
      ],
      "text/plain": [
       "          feature  baseline_bce       bce      diff\n",
       "0           51006      1.014362  1.001220  0.000000\n",
       "1     63323026201      1.014362  1.006389  0.000000\n",
       "2           51277      1.014362  1.006995  0.000000\n",
       "3               0      1.014362  1.009931  0.000000\n",
       "4     55390000401      1.014362  1.010688  0.000000\n",
       "...           ...           ...       ...       ...\n",
       "4063  10019055302      1.014362  1.041859  0.027498\n",
       "4064     54817525      1.014362  1.043492  0.029130\n",
       "4065     67434504      1.014362  1.046829  0.032467\n",
       "4066     74606211      1.014362  1.051030  0.036668\n",
       "4067    409606211      1.014362  1.073542  0.059180\n",
       "\n",
       "[4068 rows x 4 columns]"
      ]
     },
     "execution_count": 5,
     "metadata": {},
     "output_type": "execute_result"
    }
   ],
   "source": [
    "for i,j in enumerate(all_best_for_ReLU['diff']):\n",
    "    if j <= 0:\n",
    "        all_best_for_ReLU['diff'][i] = 0\n",
    "all_best_for_ReLU"
   ]
  },
  {
   "cell_type": "code",
   "execution_count": null,
   "id": "5b2d191e",
   "metadata": {},
   "outputs": [],
   "source": []
  },
  {
   "cell_type": "markdown",
   "id": "2ef1aa68",
   "metadata": {},
   "source": [
    "# Sign"
   ]
  },
  {
   "cell_type": "code",
   "execution_count": 6,
   "id": "78eac3aa",
   "metadata": {},
   "outputs": [
    {
     "name": "stderr",
     "output_type": "stream",
     "text": [
      "<ipython-input-6-6c161a626d96>:7: SettingWithCopyWarning: \n",
      "A value is trying to be set on a copy of a slice from a DataFrame\n",
      "\n",
      "See the caveats in the documentation: https://pandas.pydata.org/pandas-docs/stable/user_guide/indexing.html#returning-a-view-versus-a-copy\n",
      "  all_best['diff_preds'][i] = -1\n",
      "<ipython-input-6-6c161a626d96>:3: SettingWithCopyWarning: \n",
      "A value is trying to be set on a copy of a slice from a DataFrame\n",
      "\n",
      "See the caveats in the documentation: https://pandas.pydata.org/pandas-docs/stable/user_guide/indexing.html#returning-a-view-versus-a-copy\n",
      "  all_best['diff_preds'][i] = 1\n"
     ]
    }
   ],
   "source": [
    "for i,j in enumerate(all_best['diff_preds']):\n",
    "    if j>0:\n",
    "        all_best['diff_preds'][i] = 1\n",
    "#     elif j==0:\n",
    "#         all_best['diff_preds'][i] = 0\n",
    "    elif j<0:\n",
    "        all_best['diff_preds'][i] = -1"
   ]
  },
  {
   "cell_type": "markdown",
   "id": "e6f8a78a",
   "metadata": {},
   "source": [
    "# Method1\n",
    "```\n",
    "Method1 = all_best_for_ReLU['diff'] * all_best['diff_preds']\n",
    "\n",
    "Method1 순서대로(내림차순) sorting\n",
    "```"
   ]
  },
  {
   "cell_type": "code",
   "execution_count": 7,
   "id": "a2c3b6a1",
   "metadata": {},
   "outputs": [],
   "source": [
    "ReLU_sort = all_best_for_ReLU.sort_values('feature').reset_index(drop = True)\n",
    "# ReLU_sort['diff']\n",
    "Sign_sort = all_best.sort_values('feature').reset_index(drop = True)\n",
    "# Sign_sort['diff_preds']\n",
    "\n",
    "Method1 = ReLU_sort.copy()\n",
    "Method1.drop(['baseline_bce', 'bce'], axis = 1, inplace = True)\n",
    "\n",
    "Method1['diff_preds'] = Sign_sort['diff_preds']\n",
    "\n",
    "Method1['Method1'] = ReLU_sort['diff'] * Sign_sort['diff_preds']\n",
    "Method1 = Method1.sort_values('Method1', ascending = False)"
   ]
  },
  {
   "cell_type": "code",
   "execution_count": 8,
   "id": "cee07d97",
   "metadata": {},
   "outputs": [],
   "source": [
    "# Method1.to_csv('Method1.csv', index = False)"
   ]
  },
  {
   "cell_type": "markdown",
   "id": "b5df9cbd",
   "metadata": {},
   "source": [
    "# Graph\n",
    "```\n",
    "1. data (x_(7727,10,4068).npy, y_(7727,1))를 가져와서 사망, 생존자를 나눠. (.isin도 있음.)\n",
    "2. feature importance 상위 10개 가져와.\n",
    "\n",
    "```"
   ]
  },
  {
   "cell_type": "code",
   "execution_count": 9,
   "id": "11eb1dad",
   "metadata": {},
   "outputs": [],
   "source": [
    "x = np.load('./dsml_data/x_(7727,10,4068).npy') # x에 있는 정보: item에 대한 반응\n",
    "y = np.load('./dsml_data/y_(7727,1).npy') # y에 있는 정보: 생존 사망 결과 ==> admission에 있음."
   ]
  },
  {
   "cell_type": "code",
   "execution_count": 10,
   "id": "765b908c",
   "metadata": {},
   "outputs": [
    {
     "data": {
      "text/plain": [
       "(array([   0,    1,    2, ..., 7721, 7724, 7725], dtype=int64),)"
      ]
     },
     "execution_count": 10,
     "metadata": {},
     "output_type": "execute_result"
    },
    {
     "data": {
      "text/plain": [
       "(array([   3,   16,   18, ..., 7722, 7723, 7726], dtype=int64),)"
      ]
     },
     "execution_count": 10,
     "metadata": {},
     "output_type": "execute_result"
    }
   ],
   "source": [
    "# 사망자 idx\n",
    "dead_idx = np.where(y==1)\n",
    "dead_idx\n",
    "\n",
    "# 생존자 idx\n",
    "surv_idx = np.where(y!=1)\n",
    "surv_idx"
   ]
  },
  {
   "cell_type": "code",
   "execution_count": 11,
   "id": "f38538c5",
   "metadata": {},
   "outputs": [
    {
     "data": {
      "text/plain": [
       "array([   3,   16,   18, ..., 7722, 7723, 7726], dtype=int64)"
      ]
     },
     "execution_count": 11,
     "metadata": {},
     "output_type": "execute_result"
    }
   ],
   "source": [
    "surv_idx[0] # 0번째를 뽑아줘야 for문에 하나씩 들어가더라."
   ]
  },
  {
   "cell_type": "code",
   "execution_count": 12,
   "id": "dd1ab5ba",
   "metadata": {},
   "outputs": [],
   "source": [
    "# 사망자 list\n",
    "dead_lst = []\n",
    "for idx in dead_idx[0]:\n",
    "    dead_lst.append(x[idx])\n",
    "\n",
    "# dead_lst\n",
    "\n",
    "\n",
    "# 생존자 list\n",
    "surv_lst = []\n",
    "for idx in surv_idx[0]:\n",
    "    surv_lst.append(x[idx])\n",
    "\n",
    "# surv_lst"
   ]
  },
  {
   "cell_type": "code",
   "execution_count": 13,
   "id": "48991761",
   "metadata": {
    "scrolled": true
   },
   "outputs": [],
   "source": [
    "dead = np.array(dead_lst)\n",
    "surv = np.array(surv_lst)\n",
    "# dead\n",
    "# surv"
   ]
  },
  {
   "cell_type": "code",
   "execution_count": 14,
   "id": "68777a0d",
   "metadata": {},
   "outputs": [
    {
     "data": {
      "text/plain": [
       "4718"
      ]
     },
     "execution_count": 14,
     "metadata": {},
     "output_type": "execute_result"
    },
    {
     "data": {
      "text/plain": [
       "3009"
      ]
     },
     "execution_count": 14,
     "metadata": {},
     "output_type": "execute_result"
    },
    {
     "data": {
      "text/plain": [
       "True"
      ]
     },
     "execution_count": 14,
     "metadata": {},
     "output_type": "execute_result"
    }
   ],
   "source": [
    "len(dead)\n",
    "len(surv)\n",
    "\n",
    "len(dead) + len(surv) == 7727\n"
   ]
  },
  {
   "cell_type": "code",
   "execution_count": 66,
   "id": "ed0ab5ea",
   "metadata": {},
   "outputs": [
    {
     "data": {
      "text/plain": [
       "(array([   3,   16,   18, ..., 7722, 7723, 7726], dtype=int64),)"
      ]
     },
     "execution_count": 66,
     "metadata": {},
     "output_type": "execute_result"
    }
   ],
   "source": [
    "surv_idx #같음. 확인"
   ]
  },
  {
   "cell_type": "code",
   "execution_count": 73,
   "id": "78a1e858",
   "metadata": {},
   "outputs": [],
   "source": [
    "# tuple로 묶인 ndarray를 list로 바꾸는 다양한 방법들\n",
    "# list(list(surv_idx)[0])\n",
    "# list((surv_idx)[0])"
   ]
  },
  {
   "cell_type": "code",
   "execution_count": 61,
   "id": "82eb85f1",
   "metadata": {},
   "outputs": [],
   "source": [
    "pd.options.display.min_rows = 10"
   ]
  },
  {
   "cell_type": "code",
   "execution_count": 75,
   "id": "c30a296d",
   "metadata": {},
   "outputs": [
    {
     "data": {
      "text/plain": [
       "'3차원으로 나와야함.'"
      ]
     },
     "execution_count": 75,
     "metadata": {},
     "output_type": "execute_result"
    },
    {
     "data": {
      "text/plain": [
       "array([[[1., 0., 0., ..., 0., 0., 0.],\n",
       "        [1., 0., 0., ..., 0., 0., 0.],\n",
       "        [1., 0., 1., ..., 0., 0., 0.],\n",
       "        ...,\n",
       "        [1., 0., 0., ..., 0., 0., 0.],\n",
       "        [1., 0., 0., ..., 0., 0., 0.],\n",
       "        [1., 0., 0., ..., 0., 0., 0.]],\n",
       "\n",
       "       [[0., 0., 0., ..., 0., 0., 0.],\n",
       "        [0., 0., 0., ..., 0., 0., 0.],\n",
       "        [0., 0., 0., ..., 0., 0., 0.],\n",
       "        ...,\n",
       "        [1., 0., 0., ..., 0., 0., 0.],\n",
       "        [1., 0., 0., ..., 0., 0., 0.],\n",
       "        [1., 0., 0., ..., 0., 0., 0.]],\n",
       "\n",
       "       [[1., 0., 0., ..., 0., 0., 0.],\n",
       "        [1., 0., 0., ..., 0., 0., 0.],\n",
       "        [1., 0., 0., ..., 0., 0., 0.],\n",
       "        ...,\n",
       "        [1., 0., 1., ..., 0., 0., 0.],\n",
       "        [1., 0., 1., ..., 0., 0., 0.],\n",
       "        [1., 0., 1., ..., 0., 0., 0.]],\n",
       "\n",
       "       ...,\n",
       "\n",
       "       [[1., 0., 0., ..., 0., 0., 0.],\n",
       "        [1., 0., 0., ..., 0., 0., 0.],\n",
       "        [1., 0., 0., ..., 0., 0., 0.],\n",
       "        ...,\n",
       "        [1., 0., 0., ..., 0., 0., 0.],\n",
       "        [1., 0., 0., ..., 0., 0., 0.],\n",
       "        [1., 0., 0., ..., 0., 0., 0.]],\n",
       "\n",
       "       [[0., 0., 0., ..., 0., 0., 0.],\n",
       "        [0., 0., 0., ..., 0., 0., 0.],\n",
       "        [0., 0., 0., ..., 0., 0., 0.],\n",
       "        ...,\n",
       "        [1., 0., 0., ..., 0., 0., 0.],\n",
       "        [1., 0., 0., ..., 0., 0., 0.],\n",
       "        [1., 0., 0., ..., 0., 0., 0.]],\n",
       "\n",
       "       [[1., 0., 0., ..., 0., 0., 0.],\n",
       "        [1., 0., 0., ..., 0., 0., 0.],\n",
       "        [1., 0., 0., ..., 0., 0., 0.],\n",
       "        ...,\n",
       "        [1., 0., 0., ..., 0., 0., 0.],\n",
       "        [1., 0., 0., ..., 0., 0., 0.],\n",
       "        [1., 0., 0., ..., 0., 0., 0.]]])"
      ]
     },
     "execution_count": 75,
     "metadata": {},
     "output_type": "execute_result"
    }
   ],
   "source": [
    "# x_surv =\n",
    "# '4차원은 잘못된 거임.'\n",
    "# x[surv_idx, :, :]\n",
    "# \n",
    "'3차원으로 나와야함.'\n",
    "x[surv_idx[0], :, :]"
   ]
  },
  {
   "cell_type": "code",
   "execution_count": 99,
   "id": "e10d11e6",
   "metadata": {},
   "outputs": [],
   "source": [
    "x_surv = x[surv_idx[0], :, :]"
   ]
  },
  {
   "cell_type": "code",
   "execution_count": 108,
   "id": "c66755ec",
   "metadata": {},
   "outputs": [
    {
     "data": {
      "text/plain": [
       "array([      50882,           0,    74302401, ..., 52544007730,\n",
       "       51079086920, 54738091301], dtype=int64)"
      ]
     },
     "execution_count": 108,
     "metadata": {},
     "output_type": "execute_result"
    },
    {
     "data": {
      "text/plain": [
       "array([          0,       50803,       50804, ..., 87701071218,\n",
       "       87701083336, 87701089415], dtype=int64)"
      ]
     },
     "execution_count": 108,
     "metadata": {},
     "output_type": "execute_result"
    }
   ],
   "source": [
    "# item 별, day 별, 모든 환자 합\n",
    "# item은 순서대로 x에 들어있음.\n",
    "\n",
    "# total_data\n",
    "# total_data['ITEMID']\n",
    "# total_data['ITEMID'].sort_values() # 이 순서대로 x에 들어있음.\n",
    "total_data.sort_values('SUBJECT_ID')['ITEMID'].unique() # 이렇게는 안들어가 있는건 맞지...? 그 때 total_data 만든 코드에서 dic을 생각해보면 sorting 했었음.\n",
    "\n",
    "# total_data.sort_values('SUBJECT_ID')\n",
    "\n",
    "total_data['ITEMID'].sort_values().unique()\n",
    "item_list = total_data['ITEMID'].sort_values().unique()"
   ]
  },
  {
   "cell_type": "code",
   "execution_count": 109,
   "id": "f239e437",
   "metadata": {},
   "outputs": [
    {
     "data": {
      "text/plain": [
       "[51003, 51148, 50868, 50813, 51120, 50908, 51482, 50917, 50862, 50911]"
      ]
     },
     "execution_count": 109,
     "metadata": {},
     "output_type": "execute_result"
    }
   ],
   "source": [
    "lab_top"
   ]
  },
  {
   "cell_type": "code",
   "execution_count": 111,
   "id": "5589d67c",
   "metadata": {},
   "outputs": [
    {
     "data": {
      "text/plain": [
       "[119, 157, 26, 8, 139, 52, 276, 61, 20, 55]"
      ]
     },
     "execution_count": 111,
     "metadata": {},
     "output_type": "execute_result"
    }
   ],
   "source": [
    "lab_top_idx = []\n",
    "for i in lab_top:\n",
    "    a = list(item_list).index(i)\n",
    "    lab_top_idx.append(a)\n",
    "\n",
    "lab_top_idx\n"
   ]
  },
  {
   "cell_type": "code",
   "execution_count": 113,
   "id": "dda55128",
   "metadata": {},
   "outputs": [],
   "source": [
    "# 생존자 3009명의 D-10 ~ D-1 feature 별 abnormal sum\n",
    "result1 = []\n",
    "for i in lab_top_idx: # item 별\n",
    "    for j in range(10): # day 별\n",
    "        result1.append(x_surv[:,j,i].sum()) # item 별, day 별, 모든 환자 합.\n",
    "\n",
    "# x의 idx: [환자, d-day, item]"
   ]
  },
  {
   "cell_type": "code",
   "execution_count": 123,
   "id": "0e548626",
   "metadata": {},
   "outputs": [],
   "source": [
    "result1 = np.array(result1) # 1차원\n",
    "result1 = result1.reshape(10,-1) # 2차원\n",
    "df_lab_top_res = pd.DataFrame(result1) # df로 변환\n",
    "df_lab_top_res.columns = [f'D-{i}' for i in range(10,0,-1)] # colnames d-10 ~ d-1 지정\n",
    "df_lab_top_res.index = lab_top # 인덱스를 itemid로 지정"
   ]
  },
  {
   "cell_type": "code",
   "execution_count": 124,
   "id": "c07a6284",
   "metadata": {},
   "outputs": [],
   "source": [
    "# 비율을 볼 거니까 생존자 수x_surv.shape[0] == 3009로 나눔.\n",
    "for i in lab_top:\n",
    "    df_lab_top_res.loc[f'{i}_생존 비율'] = df_lab_top_res.loc[i]/x_surv.shape[0]"
   ]
  },
  {
   "cell_type": "code",
   "execution_count": 115,
   "id": "19d923b1",
   "metadata": {},
   "outputs": [
    {
     "data": {
      "text/plain": [
       "[51003, 51148, 50868, 50813, 51120, 50908, 51482, 50917, 50862, 50911]"
      ]
     },
     "execution_count": 115,
     "metadata": {},
     "output_type": "execute_result"
    },
    {
     "data": {
      "text/plain": [
       "(3009, 10, 4068)"
      ]
     },
     "execution_count": 115,
     "metadata": {},
     "output_type": "execute_result"
    }
   ],
   "source": [
    "# lab_top\n",
    "# x_surv.shape"
   ]
  },
  {
   "cell_type": "code",
   "execution_count": 125,
   "id": "c13ce9d0",
   "metadata": {},
   "outputs": [
    {
     "data": {
      "text/html": [
       "<div>\n",
       "<style scoped>\n",
       "    .dataframe tbody tr th:only-of-type {\n",
       "        vertical-align: middle;\n",
       "    }\n",
       "\n",
       "    .dataframe tbody tr th {\n",
       "        vertical-align: top;\n",
       "    }\n",
       "\n",
       "    .dataframe thead th {\n",
       "        text-align: right;\n",
       "    }\n",
       "</style>\n",
       "<table border=\"1\" class=\"dataframe\">\n",
       "  <thead>\n",
       "    <tr style=\"text-align: right;\">\n",
       "      <th></th>\n",
       "      <th>D-10</th>\n",
       "      <th>D-9</th>\n",
       "      <th>D-8</th>\n",
       "      <th>D-7</th>\n",
       "      <th>D-6</th>\n",
       "      <th>D-5</th>\n",
       "      <th>D-4</th>\n",
       "      <th>D-3</th>\n",
       "      <th>D-2</th>\n",
       "      <th>D-1</th>\n",
       "    </tr>\n",
       "  </thead>\n",
       "  <tbody>\n",
       "    <tr>\n",
       "      <th>51003</th>\n",
       "      <td>96.000000</td>\n",
       "      <td>124.000000</td>\n",
       "      <td>147.000000</td>\n",
       "      <td>148.000000</td>\n",
       "      <td>160.000000</td>\n",
       "      <td>156.000000</td>\n",
       "      <td>153.000000</td>\n",
       "      <td>126.000000</td>\n",
       "      <td>98.000000</td>\n",
       "      <td>55.000000</td>\n",
       "    </tr>\n",
       "    <tr>\n",
       "      <th>51148</th>\n",
       "      <td>2.000000</td>\n",
       "      <td>1.000000</td>\n",
       "      <td>1.000000</td>\n",
       "      <td>0.000000</td>\n",
       "      <td>0.000000</td>\n",
       "      <td>0.000000</td>\n",
       "      <td>0.000000</td>\n",
       "      <td>0.000000</td>\n",
       "      <td>0.000000</td>\n",
       "      <td>1.000000</td>\n",
       "    </tr>\n",
       "    <tr>\n",
       "      <th>50868</th>\n",
       "      <td>72.000000</td>\n",
       "      <td>84.000000</td>\n",
       "      <td>73.000000</td>\n",
       "      <td>97.000000</td>\n",
       "      <td>114.000000</td>\n",
       "      <td>108.000000</td>\n",
       "      <td>112.000000</td>\n",
       "      <td>74.000000</td>\n",
       "      <td>86.000000</td>\n",
       "      <td>69.000000</td>\n",
       "    </tr>\n",
       "    <tr>\n",
       "      <th>50813</th>\n",
       "      <td>97.000000</td>\n",
       "      <td>108.000000</td>\n",
       "      <td>111.000000</td>\n",
       "      <td>130.000000</td>\n",
       "      <td>110.000000</td>\n",
       "      <td>127.000000</td>\n",
       "      <td>136.000000</td>\n",
       "      <td>77.000000</td>\n",
       "      <td>55.000000</td>\n",
       "      <td>22.000000</td>\n",
       "    </tr>\n",
       "    <tr>\n",
       "      <th>51120</th>\n",
       "      <td>1.000000</td>\n",
       "      <td>2.000000</td>\n",
       "      <td>1.000000</td>\n",
       "      <td>0.000000</td>\n",
       "      <td>0.000000</td>\n",
       "      <td>2.000000</td>\n",
       "      <td>0.000000</td>\n",
       "      <td>2.000000</td>\n",
       "      <td>2.000000</td>\n",
       "      <td>1.000000</td>\n",
       "    </tr>\n",
       "    <tr>\n",
       "      <th>50908</th>\n",
       "      <td>21.000000</td>\n",
       "      <td>19.000000</td>\n",
       "      <td>20.000000</td>\n",
       "      <td>18.000000</td>\n",
       "      <td>23.000000</td>\n",
       "      <td>22.000000</td>\n",
       "      <td>16.000000</td>\n",
       "      <td>15.000000</td>\n",
       "      <td>8.000000</td>\n",
       "      <td>2.000000</td>\n",
       "    </tr>\n",
       "    <tr>\n",
       "      <th>51482</th>\n",
       "      <td>37.000000</td>\n",
       "      <td>49.000000</td>\n",
       "      <td>51.000000</td>\n",
       "      <td>50.000000</td>\n",
       "      <td>59.000000</td>\n",
       "      <td>50.000000</td>\n",
       "      <td>52.000000</td>\n",
       "      <td>47.000000</td>\n",
       "      <td>22.000000</td>\n",
       "      <td>18.000000</td>\n",
       "    </tr>\n",
       "    <tr>\n",
       "      <th>50917</th>\n",
       "      <td>7.000000</td>\n",
       "      <td>6.000000</td>\n",
       "      <td>14.000000</td>\n",
       "      <td>10.000000</td>\n",
       "      <td>15.000000</td>\n",
       "      <td>10.000000</td>\n",
       "      <td>10.000000</td>\n",
       "      <td>9.000000</td>\n",
       "      <td>6.000000</td>\n",
       "      <td>5.000000</td>\n",
       "    </tr>\n",
       "    <tr>\n",
       "      <th>50862</th>\n",
       "      <td>202.000000</td>\n",
       "      <td>198.000000</td>\n",
       "      <td>254.000000</td>\n",
       "      <td>239.000000</td>\n",
       "      <td>259.000000</td>\n",
       "      <td>252.000000</td>\n",
       "      <td>272.000000</td>\n",
       "      <td>228.000000</td>\n",
       "      <td>208.000000</td>\n",
       "      <td>161.000000</td>\n",
       "    </tr>\n",
       "    <tr>\n",
       "      <th>50911</th>\n",
       "      <td>47.000000</td>\n",
       "      <td>49.000000</td>\n",
       "      <td>66.000000</td>\n",
       "      <td>69.000000</td>\n",
       "      <td>59.000000</td>\n",
       "      <td>55.000000</td>\n",
       "      <td>45.000000</td>\n",
       "      <td>36.000000</td>\n",
       "      <td>24.000000</td>\n",
       "      <td>6.000000</td>\n",
       "    </tr>\n",
       "    <tr>\n",
       "      <th>51003_생존 비율</th>\n",
       "      <td>0.031904</td>\n",
       "      <td>0.041210</td>\n",
       "      <td>0.048853</td>\n",
       "      <td>0.049186</td>\n",
       "      <td>0.053174</td>\n",
       "      <td>0.051844</td>\n",
       "      <td>0.050847</td>\n",
       "      <td>0.041874</td>\n",
       "      <td>0.032569</td>\n",
       "      <td>0.018278</td>\n",
       "    </tr>\n",
       "    <tr>\n",
       "      <th>51148_생존 비율</th>\n",
       "      <td>0.000665</td>\n",
       "      <td>0.000332</td>\n",
       "      <td>0.000332</td>\n",
       "      <td>0.000000</td>\n",
       "      <td>0.000000</td>\n",
       "      <td>0.000000</td>\n",
       "      <td>0.000000</td>\n",
       "      <td>0.000000</td>\n",
       "      <td>0.000000</td>\n",
       "      <td>0.000332</td>\n",
       "    </tr>\n",
       "    <tr>\n",
       "      <th>50868_생존 비율</th>\n",
       "      <td>0.023928</td>\n",
       "      <td>0.027916</td>\n",
       "      <td>0.024261</td>\n",
       "      <td>0.032237</td>\n",
       "      <td>0.037886</td>\n",
       "      <td>0.035892</td>\n",
       "      <td>0.037222</td>\n",
       "      <td>0.024593</td>\n",
       "      <td>0.028581</td>\n",
       "      <td>0.022931</td>\n",
       "    </tr>\n",
       "    <tr>\n",
       "      <th>50813_생존 비율</th>\n",
       "      <td>0.032237</td>\n",
       "      <td>0.035892</td>\n",
       "      <td>0.036889</td>\n",
       "      <td>0.043204</td>\n",
       "      <td>0.036557</td>\n",
       "      <td>0.042207</td>\n",
       "      <td>0.045198</td>\n",
       "      <td>0.025590</td>\n",
       "      <td>0.018278</td>\n",
       "      <td>0.007311</td>\n",
       "    </tr>\n",
       "    <tr>\n",
       "      <th>51120_생존 비율</th>\n",
       "      <td>0.000332</td>\n",
       "      <td>0.000665</td>\n",
       "      <td>0.000332</td>\n",
       "      <td>0.000000</td>\n",
       "      <td>0.000000</td>\n",
       "      <td>0.000665</td>\n",
       "      <td>0.000000</td>\n",
       "      <td>0.000665</td>\n",
       "      <td>0.000665</td>\n",
       "      <td>0.000332</td>\n",
       "    </tr>\n",
       "    <tr>\n",
       "      <th>50908_생존 비율</th>\n",
       "      <td>0.006979</td>\n",
       "      <td>0.006314</td>\n",
       "      <td>0.006647</td>\n",
       "      <td>0.005982</td>\n",
       "      <td>0.007644</td>\n",
       "      <td>0.007311</td>\n",
       "      <td>0.005317</td>\n",
       "      <td>0.004985</td>\n",
       "      <td>0.002659</td>\n",
       "      <td>0.000665</td>\n",
       "    </tr>\n",
       "    <tr>\n",
       "      <th>51482_생존 비율</th>\n",
       "      <td>0.012296</td>\n",
       "      <td>0.016284</td>\n",
       "      <td>0.016949</td>\n",
       "      <td>0.016617</td>\n",
       "      <td>0.019608</td>\n",
       "      <td>0.016617</td>\n",
       "      <td>0.017281</td>\n",
       "      <td>0.015620</td>\n",
       "      <td>0.007311</td>\n",
       "      <td>0.005982</td>\n",
       "    </tr>\n",
       "    <tr>\n",
       "      <th>50917_생존 비율</th>\n",
       "      <td>0.002326</td>\n",
       "      <td>0.001994</td>\n",
       "      <td>0.004653</td>\n",
       "      <td>0.003323</td>\n",
       "      <td>0.004985</td>\n",
       "      <td>0.003323</td>\n",
       "      <td>0.003323</td>\n",
       "      <td>0.002991</td>\n",
       "      <td>0.001994</td>\n",
       "      <td>0.001662</td>\n",
       "    </tr>\n",
       "    <tr>\n",
       "      <th>50862_생존 비율</th>\n",
       "      <td>0.067132</td>\n",
       "      <td>0.065803</td>\n",
       "      <td>0.084413</td>\n",
       "      <td>0.079428</td>\n",
       "      <td>0.086075</td>\n",
       "      <td>0.083749</td>\n",
       "      <td>0.090395</td>\n",
       "      <td>0.075773</td>\n",
       "      <td>0.069126</td>\n",
       "      <td>0.053506</td>\n",
       "    </tr>\n",
       "    <tr>\n",
       "      <th>50911_생존 비율</th>\n",
       "      <td>0.015620</td>\n",
       "      <td>0.016284</td>\n",
       "      <td>0.021934</td>\n",
       "      <td>0.022931</td>\n",
       "      <td>0.019608</td>\n",
       "      <td>0.018278</td>\n",
       "      <td>0.014955</td>\n",
       "      <td>0.011964</td>\n",
       "      <td>0.007976</td>\n",
       "      <td>0.001994</td>\n",
       "    </tr>\n",
       "  </tbody>\n",
       "</table>\n",
       "</div>"
      ],
      "text/plain": [
       "                   D-10         D-9         D-8         D-7         D-6  \\\n",
       "51003         96.000000  124.000000  147.000000  148.000000  160.000000   \n",
       "51148          2.000000    1.000000    1.000000    0.000000    0.000000   \n",
       "50868         72.000000   84.000000   73.000000   97.000000  114.000000   \n",
       "50813         97.000000  108.000000  111.000000  130.000000  110.000000   \n",
       "51120          1.000000    2.000000    1.000000    0.000000    0.000000   \n",
       "50908         21.000000   19.000000   20.000000   18.000000   23.000000   \n",
       "51482         37.000000   49.000000   51.000000   50.000000   59.000000   \n",
       "50917          7.000000    6.000000   14.000000   10.000000   15.000000   \n",
       "50862        202.000000  198.000000  254.000000  239.000000  259.000000   \n",
       "50911         47.000000   49.000000   66.000000   69.000000   59.000000   \n",
       "51003_생존 비율    0.031904    0.041210    0.048853    0.049186    0.053174   \n",
       "51148_생존 비율    0.000665    0.000332    0.000332    0.000000    0.000000   \n",
       "50868_생존 비율    0.023928    0.027916    0.024261    0.032237    0.037886   \n",
       "50813_생존 비율    0.032237    0.035892    0.036889    0.043204    0.036557   \n",
       "51120_생존 비율    0.000332    0.000665    0.000332    0.000000    0.000000   \n",
       "50908_생존 비율    0.006979    0.006314    0.006647    0.005982    0.007644   \n",
       "51482_생존 비율    0.012296    0.016284    0.016949    0.016617    0.019608   \n",
       "50917_생존 비율    0.002326    0.001994    0.004653    0.003323    0.004985   \n",
       "50862_생존 비율    0.067132    0.065803    0.084413    0.079428    0.086075   \n",
       "50911_생존 비율    0.015620    0.016284    0.021934    0.022931    0.019608   \n",
       "\n",
       "                    D-5         D-4         D-3         D-2         D-1  \n",
       "51003        156.000000  153.000000  126.000000   98.000000   55.000000  \n",
       "51148          0.000000    0.000000    0.000000    0.000000    1.000000  \n",
       "50868        108.000000  112.000000   74.000000   86.000000   69.000000  \n",
       "50813        127.000000  136.000000   77.000000   55.000000   22.000000  \n",
       "51120          2.000000    0.000000    2.000000    2.000000    1.000000  \n",
       "50908         22.000000   16.000000   15.000000    8.000000    2.000000  \n",
       "51482         50.000000   52.000000   47.000000   22.000000   18.000000  \n",
       "50917         10.000000   10.000000    9.000000    6.000000    5.000000  \n",
       "50862        252.000000  272.000000  228.000000  208.000000  161.000000  \n",
       "50911         55.000000   45.000000   36.000000   24.000000    6.000000  \n",
       "51003_생존 비율    0.051844    0.050847    0.041874    0.032569    0.018278  \n",
       "51148_생존 비율    0.000000    0.000000    0.000000    0.000000    0.000332  \n",
       "50868_생존 비율    0.035892    0.037222    0.024593    0.028581    0.022931  \n",
       "50813_생존 비율    0.042207    0.045198    0.025590    0.018278    0.007311  \n",
       "51120_생존 비율    0.000665    0.000000    0.000665    0.000665    0.000332  \n",
       "50908_생존 비율    0.007311    0.005317    0.004985    0.002659    0.000665  \n",
       "51482_생존 비율    0.016617    0.017281    0.015620    0.007311    0.005982  \n",
       "50917_생존 비율    0.003323    0.003323    0.002991    0.001994    0.001662  \n",
       "50862_생존 비율    0.083749    0.090395    0.075773    0.069126    0.053506  \n",
       "50911_생존 비율    0.018278    0.014955    0.011964    0.007976    0.001994  "
      ]
     },
     "execution_count": 125,
     "metadata": {},
     "output_type": "execute_result"
    }
   ],
   "source": [
    "df_lab_top_res"
   ]
  },
  {
   "cell_type": "code",
   "execution_count": 132,
   "id": "b933787d",
   "metadata": {},
   "outputs": [],
   "source": [
    "# 사망자 4718명의 D-10 ~ D-1 feature 별 abnormal sum\n",
    "x_dead = x[dead_idx[0], :, :]\n",
    "\n",
    "result2 = []\n",
    "for i in lab_top_idx:\n",
    "    for j in range(10):\n",
    "        result2.append(x_dead[:,j,i].sum()) # item 별, day 별 합\n",
    "\n",
    "result2 = np.array(result2) # 1차원\n",
    "result2 = result2.reshape(10,-1) # 2차원\n",
    "df_lab_top_res2 = pd.DataFrame(result2)\n",
    "df_lab_top_res2.columns = [f'D-{i}' for i in range(10, 0, -1)]\n",
    "df_lab_top_res2.index = lab_top\n",
    "\n",
    "\n",
    "for i in lab_top:\n",
    "    df_lab_top_res2.loc[f'{i}_사망 비율'] = df_lab_top_res2.loc[i]/x_dead.shape[0]"
   ]
  },
  {
   "cell_type": "code",
   "execution_count": 133,
   "id": "3ecfd6dd",
   "metadata": {},
   "outputs": [],
   "source": [
    "# 사망한 4718명에 대한 비율 추이 그래프 그리기\n",
    "df_lab_top_res_trans = df_lab_top_res.transpose()\n",
    "df_lab_top_res2_trans = df_lab_top_res2.transpose()"
   ]
  },
  {
   "cell_type": "code",
   "execution_count": 134,
   "id": "894837c6",
   "metadata": {},
   "outputs": [
    {
     "data": {
      "text/html": [
       "<div>\n",
       "<style scoped>\n",
       "    .dataframe tbody tr th:only-of-type {\n",
       "        vertical-align: middle;\n",
       "    }\n",
       "\n",
       "    .dataframe tbody tr th {\n",
       "        vertical-align: top;\n",
       "    }\n",
       "\n",
       "    .dataframe thead th {\n",
       "        text-align: right;\n",
       "    }\n",
       "</style>\n",
       "<table border=\"1\" class=\"dataframe\">\n",
       "  <thead>\n",
       "    <tr style=\"text-align: right;\">\n",
       "      <th></th>\n",
       "      <th>51003</th>\n",
       "      <th>51148</th>\n",
       "      <th>50868</th>\n",
       "      <th>50813</th>\n",
       "      <th>51120</th>\n",
       "      <th>50908</th>\n",
       "      <th>51482</th>\n",
       "      <th>50917</th>\n",
       "      <th>50862</th>\n",
       "      <th>50911</th>\n",
       "      <th>51003_생존 비율</th>\n",
       "      <th>51148_생존 비율</th>\n",
       "      <th>50868_생존 비율</th>\n",
       "      <th>50813_생존 비율</th>\n",
       "      <th>51120_생존 비율</th>\n",
       "      <th>50908_생존 비율</th>\n",
       "      <th>51482_생존 비율</th>\n",
       "      <th>50917_생존 비율</th>\n",
       "      <th>50862_생존 비율</th>\n",
       "      <th>50911_생존 비율</th>\n",
       "    </tr>\n",
       "  </thead>\n",
       "  <tbody>\n",
       "    <tr>\n",
       "      <th>D-10</th>\n",
       "      <td>96.0</td>\n",
       "      <td>2.0</td>\n",
       "      <td>72.0</td>\n",
       "      <td>97.0</td>\n",
       "      <td>1.0</td>\n",
       "      <td>21.0</td>\n",
       "      <td>37.0</td>\n",
       "      <td>7.0</td>\n",
       "      <td>202.0</td>\n",
       "      <td>47.0</td>\n",
       "      <td>0.031904</td>\n",
       "      <td>0.000665</td>\n",
       "      <td>0.023928</td>\n",
       "      <td>0.032237</td>\n",
       "      <td>0.000332</td>\n",
       "      <td>0.006979</td>\n",
       "      <td>0.012296</td>\n",
       "      <td>0.002326</td>\n",
       "      <td>0.067132</td>\n",
       "      <td>0.015620</td>\n",
       "    </tr>\n",
       "    <tr>\n",
       "      <th>D-9</th>\n",
       "      <td>124.0</td>\n",
       "      <td>1.0</td>\n",
       "      <td>84.0</td>\n",
       "      <td>108.0</td>\n",
       "      <td>2.0</td>\n",
       "      <td>19.0</td>\n",
       "      <td>49.0</td>\n",
       "      <td>6.0</td>\n",
       "      <td>198.0</td>\n",
       "      <td>49.0</td>\n",
       "      <td>0.041210</td>\n",
       "      <td>0.000332</td>\n",
       "      <td>0.027916</td>\n",
       "      <td>0.035892</td>\n",
       "      <td>0.000665</td>\n",
       "      <td>0.006314</td>\n",
       "      <td>0.016284</td>\n",
       "      <td>0.001994</td>\n",
       "      <td>0.065803</td>\n",
       "      <td>0.016284</td>\n",
       "    </tr>\n",
       "    <tr>\n",
       "      <th>D-8</th>\n",
       "      <td>147.0</td>\n",
       "      <td>1.0</td>\n",
       "      <td>73.0</td>\n",
       "      <td>111.0</td>\n",
       "      <td>1.0</td>\n",
       "      <td>20.0</td>\n",
       "      <td>51.0</td>\n",
       "      <td>14.0</td>\n",
       "      <td>254.0</td>\n",
       "      <td>66.0</td>\n",
       "      <td>0.048853</td>\n",
       "      <td>0.000332</td>\n",
       "      <td>0.024261</td>\n",
       "      <td>0.036889</td>\n",
       "      <td>0.000332</td>\n",
       "      <td>0.006647</td>\n",
       "      <td>0.016949</td>\n",
       "      <td>0.004653</td>\n",
       "      <td>0.084413</td>\n",
       "      <td>0.021934</td>\n",
       "    </tr>\n",
       "    <tr>\n",
       "      <th>D-7</th>\n",
       "      <td>148.0</td>\n",
       "      <td>0.0</td>\n",
       "      <td>97.0</td>\n",
       "      <td>130.0</td>\n",
       "      <td>0.0</td>\n",
       "      <td>18.0</td>\n",
       "      <td>50.0</td>\n",
       "      <td>10.0</td>\n",
       "      <td>239.0</td>\n",
       "      <td>69.0</td>\n",
       "      <td>0.049186</td>\n",
       "      <td>0.000000</td>\n",
       "      <td>0.032237</td>\n",
       "      <td>0.043204</td>\n",
       "      <td>0.000000</td>\n",
       "      <td>0.005982</td>\n",
       "      <td>0.016617</td>\n",
       "      <td>0.003323</td>\n",
       "      <td>0.079428</td>\n",
       "      <td>0.022931</td>\n",
       "    </tr>\n",
       "    <tr>\n",
       "      <th>D-6</th>\n",
       "      <td>160.0</td>\n",
       "      <td>0.0</td>\n",
       "      <td>114.0</td>\n",
       "      <td>110.0</td>\n",
       "      <td>0.0</td>\n",
       "      <td>23.0</td>\n",
       "      <td>59.0</td>\n",
       "      <td>15.0</td>\n",
       "      <td>259.0</td>\n",
       "      <td>59.0</td>\n",
       "      <td>0.053174</td>\n",
       "      <td>0.000000</td>\n",
       "      <td>0.037886</td>\n",
       "      <td>0.036557</td>\n",
       "      <td>0.000000</td>\n",
       "      <td>0.007644</td>\n",
       "      <td>0.019608</td>\n",
       "      <td>0.004985</td>\n",
       "      <td>0.086075</td>\n",
       "      <td>0.019608</td>\n",
       "    </tr>\n",
       "    <tr>\n",
       "      <th>D-5</th>\n",
       "      <td>156.0</td>\n",
       "      <td>0.0</td>\n",
       "      <td>108.0</td>\n",
       "      <td>127.0</td>\n",
       "      <td>2.0</td>\n",
       "      <td>22.0</td>\n",
       "      <td>50.0</td>\n",
       "      <td>10.0</td>\n",
       "      <td>252.0</td>\n",
       "      <td>55.0</td>\n",
       "      <td>0.051844</td>\n",
       "      <td>0.000000</td>\n",
       "      <td>0.035892</td>\n",
       "      <td>0.042207</td>\n",
       "      <td>0.000665</td>\n",
       "      <td>0.007311</td>\n",
       "      <td>0.016617</td>\n",
       "      <td>0.003323</td>\n",
       "      <td>0.083749</td>\n",
       "      <td>0.018278</td>\n",
       "    </tr>\n",
       "    <tr>\n",
       "      <th>D-4</th>\n",
       "      <td>153.0</td>\n",
       "      <td>0.0</td>\n",
       "      <td>112.0</td>\n",
       "      <td>136.0</td>\n",
       "      <td>0.0</td>\n",
       "      <td>16.0</td>\n",
       "      <td>52.0</td>\n",
       "      <td>10.0</td>\n",
       "      <td>272.0</td>\n",
       "      <td>45.0</td>\n",
       "      <td>0.050847</td>\n",
       "      <td>0.000000</td>\n",
       "      <td>0.037222</td>\n",
       "      <td>0.045198</td>\n",
       "      <td>0.000000</td>\n",
       "      <td>0.005317</td>\n",
       "      <td>0.017281</td>\n",
       "      <td>0.003323</td>\n",
       "      <td>0.090395</td>\n",
       "      <td>0.014955</td>\n",
       "    </tr>\n",
       "    <tr>\n",
       "      <th>D-3</th>\n",
       "      <td>126.0</td>\n",
       "      <td>0.0</td>\n",
       "      <td>74.0</td>\n",
       "      <td>77.0</td>\n",
       "      <td>2.0</td>\n",
       "      <td>15.0</td>\n",
       "      <td>47.0</td>\n",
       "      <td>9.0</td>\n",
       "      <td>228.0</td>\n",
       "      <td>36.0</td>\n",
       "      <td>0.041874</td>\n",
       "      <td>0.000000</td>\n",
       "      <td>0.024593</td>\n",
       "      <td>0.025590</td>\n",
       "      <td>0.000665</td>\n",
       "      <td>0.004985</td>\n",
       "      <td>0.015620</td>\n",
       "      <td>0.002991</td>\n",
       "      <td>0.075773</td>\n",
       "      <td>0.011964</td>\n",
       "    </tr>\n",
       "    <tr>\n",
       "      <th>D-2</th>\n",
       "      <td>98.0</td>\n",
       "      <td>0.0</td>\n",
       "      <td>86.0</td>\n",
       "      <td>55.0</td>\n",
       "      <td>2.0</td>\n",
       "      <td>8.0</td>\n",
       "      <td>22.0</td>\n",
       "      <td>6.0</td>\n",
       "      <td>208.0</td>\n",
       "      <td>24.0</td>\n",
       "      <td>0.032569</td>\n",
       "      <td>0.000000</td>\n",
       "      <td>0.028581</td>\n",
       "      <td>0.018278</td>\n",
       "      <td>0.000665</td>\n",
       "      <td>0.002659</td>\n",
       "      <td>0.007311</td>\n",
       "      <td>0.001994</td>\n",
       "      <td>0.069126</td>\n",
       "      <td>0.007976</td>\n",
       "    </tr>\n",
       "    <tr>\n",
       "      <th>D-1</th>\n",
       "      <td>55.0</td>\n",
       "      <td>1.0</td>\n",
       "      <td>69.0</td>\n",
       "      <td>22.0</td>\n",
       "      <td>1.0</td>\n",
       "      <td>2.0</td>\n",
       "      <td>18.0</td>\n",
       "      <td>5.0</td>\n",
       "      <td>161.0</td>\n",
       "      <td>6.0</td>\n",
       "      <td>0.018278</td>\n",
       "      <td>0.000332</td>\n",
       "      <td>0.022931</td>\n",
       "      <td>0.007311</td>\n",
       "      <td>0.000332</td>\n",
       "      <td>0.000665</td>\n",
       "      <td>0.005982</td>\n",
       "      <td>0.001662</td>\n",
       "      <td>0.053506</td>\n",
       "      <td>0.001994</td>\n",
       "    </tr>\n",
       "  </tbody>\n",
       "</table>\n",
       "</div>"
      ],
      "text/plain": [
       "      51003  51148  50868  50813  51120  50908  51482  50917  50862  50911  \\\n",
       "D-10   96.0    2.0   72.0   97.0    1.0   21.0   37.0    7.0  202.0   47.0   \n",
       "D-9   124.0    1.0   84.0  108.0    2.0   19.0   49.0    6.0  198.0   49.0   \n",
       "D-8   147.0    1.0   73.0  111.0    1.0   20.0   51.0   14.0  254.0   66.0   \n",
       "D-7   148.0    0.0   97.0  130.0    0.0   18.0   50.0   10.0  239.0   69.0   \n",
       "D-6   160.0    0.0  114.0  110.0    0.0   23.0   59.0   15.0  259.0   59.0   \n",
       "D-5   156.0    0.0  108.0  127.0    2.0   22.0   50.0   10.0  252.0   55.0   \n",
       "D-4   153.0    0.0  112.0  136.0    0.0   16.0   52.0   10.0  272.0   45.0   \n",
       "D-3   126.0    0.0   74.0   77.0    2.0   15.0   47.0    9.0  228.0   36.0   \n",
       "D-2    98.0    0.0   86.0   55.0    2.0    8.0   22.0    6.0  208.0   24.0   \n",
       "D-1    55.0    1.0   69.0   22.0    1.0    2.0   18.0    5.0  161.0    6.0   \n",
       "\n",
       "      51003_생존 비율  51148_생존 비율  50868_생존 비율  50813_생존 비율  51120_생존 비율  \\\n",
       "D-10     0.031904     0.000665     0.023928     0.032237     0.000332   \n",
       "D-9      0.041210     0.000332     0.027916     0.035892     0.000665   \n",
       "D-8      0.048853     0.000332     0.024261     0.036889     0.000332   \n",
       "D-7      0.049186     0.000000     0.032237     0.043204     0.000000   \n",
       "D-6      0.053174     0.000000     0.037886     0.036557     0.000000   \n",
       "D-5      0.051844     0.000000     0.035892     0.042207     0.000665   \n",
       "D-4      0.050847     0.000000     0.037222     0.045198     0.000000   \n",
       "D-3      0.041874     0.000000     0.024593     0.025590     0.000665   \n",
       "D-2      0.032569     0.000000     0.028581     0.018278     0.000665   \n",
       "D-1      0.018278     0.000332     0.022931     0.007311     0.000332   \n",
       "\n",
       "      50908_생존 비율  51482_생존 비율  50917_생존 비율  50862_생존 비율  50911_생존 비율  \n",
       "D-10     0.006979     0.012296     0.002326     0.067132     0.015620  \n",
       "D-9      0.006314     0.016284     0.001994     0.065803     0.016284  \n",
       "D-8      0.006647     0.016949     0.004653     0.084413     0.021934  \n",
       "D-7      0.005982     0.016617     0.003323     0.079428     0.022931  \n",
       "D-6      0.007644     0.019608     0.004985     0.086075     0.019608  \n",
       "D-5      0.007311     0.016617     0.003323     0.083749     0.018278  \n",
       "D-4      0.005317     0.017281     0.003323     0.090395     0.014955  \n",
       "D-3      0.004985     0.015620     0.002991     0.075773     0.011964  \n",
       "D-2      0.002659     0.007311     0.001994     0.069126     0.007976  \n",
       "D-1      0.000665     0.005982     0.001662     0.053506     0.001994  "
      ]
     },
     "execution_count": 134,
     "metadata": {},
     "output_type": "execute_result"
    },
    {
     "data": {
      "text/html": [
       "<div>\n",
       "<style scoped>\n",
       "    .dataframe tbody tr th:only-of-type {\n",
       "        vertical-align: middle;\n",
       "    }\n",
       "\n",
       "    .dataframe tbody tr th {\n",
       "        vertical-align: top;\n",
       "    }\n",
       "\n",
       "    .dataframe thead th {\n",
       "        text-align: right;\n",
       "    }\n",
       "</style>\n",
       "<table border=\"1\" class=\"dataframe\">\n",
       "  <thead>\n",
       "    <tr style=\"text-align: right;\">\n",
       "      <th></th>\n",
       "      <th>51003</th>\n",
       "      <th>51148</th>\n",
       "      <th>50868</th>\n",
       "      <th>50813</th>\n",
       "      <th>51120</th>\n",
       "      <th>50908</th>\n",
       "      <th>51482</th>\n",
       "      <th>50917</th>\n",
       "      <th>50862</th>\n",
       "      <th>50911</th>\n",
       "      <th>51003_사망 비율</th>\n",
       "      <th>51148_사망 비율</th>\n",
       "      <th>50868_사망 비율</th>\n",
       "      <th>50813_사망 비율</th>\n",
       "      <th>51120_사망 비율</th>\n",
       "      <th>50908_사망 비율</th>\n",
       "      <th>51482_사망 비율</th>\n",
       "      <th>50917_사망 비율</th>\n",
       "      <th>50862_사망 비율</th>\n",
       "      <th>50911_사망 비율</th>\n",
       "    </tr>\n",
       "  </thead>\n",
       "  <tbody>\n",
       "    <tr>\n",
       "      <th>D-10</th>\n",
       "      <td>244.0</td>\n",
       "      <td>19.0</td>\n",
       "      <td>207.0</td>\n",
       "      <td>196.0</td>\n",
       "      <td>15.0</td>\n",
       "      <td>31.0</td>\n",
       "      <td>51.0</td>\n",
       "      <td>31.0</td>\n",
       "      <td>403.0</td>\n",
       "      <td>65.0</td>\n",
       "      <td>0.051717</td>\n",
       "      <td>0.004027</td>\n",
       "      <td>0.043875</td>\n",
       "      <td>0.041543</td>\n",
       "      <td>0.003179</td>\n",
       "      <td>0.006571</td>\n",
       "      <td>0.010810</td>\n",
       "      <td>0.006571</td>\n",
       "      <td>0.085418</td>\n",
       "      <td>0.013777</td>\n",
       "    </tr>\n",
       "    <tr>\n",
       "      <th>D-9</th>\n",
       "      <td>299.0</td>\n",
       "      <td>18.0</td>\n",
       "      <td>226.0</td>\n",
       "      <td>234.0</td>\n",
       "      <td>10.0</td>\n",
       "      <td>46.0</td>\n",
       "      <td>54.0</td>\n",
       "      <td>27.0</td>\n",
       "      <td>471.0</td>\n",
       "      <td>82.0</td>\n",
       "      <td>0.063374</td>\n",
       "      <td>0.003815</td>\n",
       "      <td>0.047902</td>\n",
       "      <td>0.049597</td>\n",
       "      <td>0.002120</td>\n",
       "      <td>0.009750</td>\n",
       "      <td>0.011446</td>\n",
       "      <td>0.005723</td>\n",
       "      <td>0.099830</td>\n",
       "      <td>0.017380</td>\n",
       "    </tr>\n",
       "    <tr>\n",
       "      <th>D-8</th>\n",
       "      <td>332.0</td>\n",
       "      <td>22.0</td>\n",
       "      <td>254.0</td>\n",
       "      <td>271.0</td>\n",
       "      <td>17.0</td>\n",
       "      <td>53.0</td>\n",
       "      <td>76.0</td>\n",
       "      <td>33.0</td>\n",
       "      <td>508.0</td>\n",
       "      <td>100.0</td>\n",
       "      <td>0.070369</td>\n",
       "      <td>0.004663</td>\n",
       "      <td>0.053836</td>\n",
       "      <td>0.057440</td>\n",
       "      <td>0.003603</td>\n",
       "      <td>0.011234</td>\n",
       "      <td>0.016109</td>\n",
       "      <td>0.006994</td>\n",
       "      <td>0.107673</td>\n",
       "      <td>0.021195</td>\n",
       "    </tr>\n",
       "    <tr>\n",
       "      <th>D-7</th>\n",
       "      <td>339.0</td>\n",
       "      <td>17.0</td>\n",
       "      <td>281.0</td>\n",
       "      <td>268.0</td>\n",
       "      <td>9.0</td>\n",
       "      <td>46.0</td>\n",
       "      <td>90.0</td>\n",
       "      <td>40.0</td>\n",
       "      <td>531.0</td>\n",
       "      <td>101.0</td>\n",
       "      <td>0.071852</td>\n",
       "      <td>0.003603</td>\n",
       "      <td>0.059559</td>\n",
       "      <td>0.056804</td>\n",
       "      <td>0.001908</td>\n",
       "      <td>0.009750</td>\n",
       "      <td>0.019076</td>\n",
       "      <td>0.008478</td>\n",
       "      <td>0.112548</td>\n",
       "      <td>0.021407</td>\n",
       "    </tr>\n",
       "    <tr>\n",
       "      <th>D-6</th>\n",
       "      <td>369.0</td>\n",
       "      <td>19.0</td>\n",
       "      <td>288.0</td>\n",
       "      <td>298.0</td>\n",
       "      <td>16.0</td>\n",
       "      <td>53.0</td>\n",
       "      <td>90.0</td>\n",
       "      <td>31.0</td>\n",
       "      <td>569.0</td>\n",
       "      <td>90.0</td>\n",
       "      <td>0.078211</td>\n",
       "      <td>0.004027</td>\n",
       "      <td>0.061043</td>\n",
       "      <td>0.063162</td>\n",
       "      <td>0.003391</td>\n",
       "      <td>0.011234</td>\n",
       "      <td>0.019076</td>\n",
       "      <td>0.006571</td>\n",
       "      <td>0.120602</td>\n",
       "      <td>0.019076</td>\n",
       "    </tr>\n",
       "    <tr>\n",
       "      <th>D-5</th>\n",
       "      <td>384.0</td>\n",
       "      <td>22.0</td>\n",
       "      <td>320.0</td>\n",
       "      <td>322.0</td>\n",
       "      <td>19.0</td>\n",
       "      <td>62.0</td>\n",
       "      <td>90.0</td>\n",
       "      <td>35.0</td>\n",
       "      <td>605.0</td>\n",
       "      <td>108.0</td>\n",
       "      <td>0.081390</td>\n",
       "      <td>0.004663</td>\n",
       "      <td>0.067825</td>\n",
       "      <td>0.068249</td>\n",
       "      <td>0.004027</td>\n",
       "      <td>0.013141</td>\n",
       "      <td>0.019076</td>\n",
       "      <td>0.007418</td>\n",
       "      <td>0.128232</td>\n",
       "      <td>0.022891</td>\n",
       "    </tr>\n",
       "    <tr>\n",
       "      <th>D-4</th>\n",
       "      <td>392.0</td>\n",
       "      <td>23.0</td>\n",
       "      <td>331.0</td>\n",
       "      <td>329.0</td>\n",
       "      <td>14.0</td>\n",
       "      <td>59.0</td>\n",
       "      <td>107.0</td>\n",
       "      <td>38.0</td>\n",
       "      <td>601.0</td>\n",
       "      <td>101.0</td>\n",
       "      <td>0.083086</td>\n",
       "      <td>0.004875</td>\n",
       "      <td>0.070157</td>\n",
       "      <td>0.069733</td>\n",
       "      <td>0.002967</td>\n",
       "      <td>0.012505</td>\n",
       "      <td>0.022679</td>\n",
       "      <td>0.008054</td>\n",
       "      <td>0.127384</td>\n",
       "      <td>0.021407</td>\n",
       "    </tr>\n",
       "    <tr>\n",
       "      <th>D-3</th>\n",
       "      <td>377.0</td>\n",
       "      <td>17.0</td>\n",
       "      <td>354.0</td>\n",
       "      <td>359.0</td>\n",
       "      <td>8.0</td>\n",
       "      <td>55.0</td>\n",
       "      <td>96.0</td>\n",
       "      <td>48.0</td>\n",
       "      <td>634.0</td>\n",
       "      <td>103.0</td>\n",
       "      <td>0.079907</td>\n",
       "      <td>0.003603</td>\n",
       "      <td>0.075032</td>\n",
       "      <td>0.076092</td>\n",
       "      <td>0.001696</td>\n",
       "      <td>0.011657</td>\n",
       "      <td>0.020348</td>\n",
       "      <td>0.010174</td>\n",
       "      <td>0.134379</td>\n",
       "      <td>0.021831</td>\n",
       "    </tr>\n",
       "    <tr>\n",
       "      <th>D-2</th>\n",
       "      <td>340.0</td>\n",
       "      <td>18.0</td>\n",
       "      <td>376.0</td>\n",
       "      <td>404.0</td>\n",
       "      <td>19.0</td>\n",
       "      <td>42.0</td>\n",
       "      <td>88.0</td>\n",
       "      <td>31.0</td>\n",
       "      <td>624.0</td>\n",
       "      <td>94.0</td>\n",
       "      <td>0.072064</td>\n",
       "      <td>0.003815</td>\n",
       "      <td>0.079695</td>\n",
       "      <td>0.085630</td>\n",
       "      <td>0.004027</td>\n",
       "      <td>0.008902</td>\n",
       "      <td>0.018652</td>\n",
       "      <td>0.006571</td>\n",
       "      <td>0.132259</td>\n",
       "      <td>0.019924</td>\n",
       "    </tr>\n",
       "    <tr>\n",
       "      <th>D-1</th>\n",
       "      <td>347.0</td>\n",
       "      <td>20.0</td>\n",
       "      <td>473.0</td>\n",
       "      <td>498.0</td>\n",
       "      <td>11.0</td>\n",
       "      <td>62.0</td>\n",
       "      <td>95.0</td>\n",
       "      <td>45.0</td>\n",
       "      <td>546.0</td>\n",
       "      <td>130.0</td>\n",
       "      <td>0.073548</td>\n",
       "      <td>0.004239</td>\n",
       "      <td>0.100254</td>\n",
       "      <td>0.105553</td>\n",
       "      <td>0.002331</td>\n",
       "      <td>0.013141</td>\n",
       "      <td>0.020136</td>\n",
       "      <td>0.009538</td>\n",
       "      <td>0.115727</td>\n",
       "      <td>0.027554</td>\n",
       "    </tr>\n",
       "  </tbody>\n",
       "</table>\n",
       "</div>"
      ],
      "text/plain": [
       "      51003  51148  50868  50813  51120  50908  51482  50917  50862  50911  \\\n",
       "D-10  244.0   19.0  207.0  196.0   15.0   31.0   51.0   31.0  403.0   65.0   \n",
       "D-9   299.0   18.0  226.0  234.0   10.0   46.0   54.0   27.0  471.0   82.0   \n",
       "D-8   332.0   22.0  254.0  271.0   17.0   53.0   76.0   33.0  508.0  100.0   \n",
       "D-7   339.0   17.0  281.0  268.0    9.0   46.0   90.0   40.0  531.0  101.0   \n",
       "D-6   369.0   19.0  288.0  298.0   16.0   53.0   90.0   31.0  569.0   90.0   \n",
       "D-5   384.0   22.0  320.0  322.0   19.0   62.0   90.0   35.0  605.0  108.0   \n",
       "D-4   392.0   23.0  331.0  329.0   14.0   59.0  107.0   38.0  601.0  101.0   \n",
       "D-3   377.0   17.0  354.0  359.0    8.0   55.0   96.0   48.0  634.0  103.0   \n",
       "D-2   340.0   18.0  376.0  404.0   19.0   42.0   88.0   31.0  624.0   94.0   \n",
       "D-1   347.0   20.0  473.0  498.0   11.0   62.0   95.0   45.0  546.0  130.0   \n",
       "\n",
       "      51003_사망 비율  51148_사망 비율  50868_사망 비율  50813_사망 비율  51120_사망 비율  \\\n",
       "D-10     0.051717     0.004027     0.043875     0.041543     0.003179   \n",
       "D-9      0.063374     0.003815     0.047902     0.049597     0.002120   \n",
       "D-8      0.070369     0.004663     0.053836     0.057440     0.003603   \n",
       "D-7      0.071852     0.003603     0.059559     0.056804     0.001908   \n",
       "D-6      0.078211     0.004027     0.061043     0.063162     0.003391   \n",
       "D-5      0.081390     0.004663     0.067825     0.068249     0.004027   \n",
       "D-4      0.083086     0.004875     0.070157     0.069733     0.002967   \n",
       "D-3      0.079907     0.003603     0.075032     0.076092     0.001696   \n",
       "D-2      0.072064     0.003815     0.079695     0.085630     0.004027   \n",
       "D-1      0.073548     0.004239     0.100254     0.105553     0.002331   \n",
       "\n",
       "      50908_사망 비율  51482_사망 비율  50917_사망 비율  50862_사망 비율  50911_사망 비율  \n",
       "D-10     0.006571     0.010810     0.006571     0.085418     0.013777  \n",
       "D-9      0.009750     0.011446     0.005723     0.099830     0.017380  \n",
       "D-8      0.011234     0.016109     0.006994     0.107673     0.021195  \n",
       "D-7      0.009750     0.019076     0.008478     0.112548     0.021407  \n",
       "D-6      0.011234     0.019076     0.006571     0.120602     0.019076  \n",
       "D-5      0.013141     0.019076     0.007418     0.128232     0.022891  \n",
       "D-4      0.012505     0.022679     0.008054     0.127384     0.021407  \n",
       "D-3      0.011657     0.020348     0.010174     0.134379     0.021831  \n",
       "D-2      0.008902     0.018652     0.006571     0.132259     0.019924  \n",
       "D-1      0.013141     0.020136     0.009538     0.115727     0.027554  "
      ]
     },
     "execution_count": 134,
     "metadata": {},
     "output_type": "execute_result"
    }
   ],
   "source": [
    "df_lab_top_res_trans\n",
    "df_lab_top_res2_trans"
   ]
  },
  {
   "cell_type": "code",
   "execution_count": 137,
   "id": "571de037",
   "metadata": {},
   "outputs": [],
   "source": [
    "from tqdm import tqdm\n",
    "import seaborn as sns\n",
    "import matplotlib.pyplot as plt\n",
    "\n",
    "#한글설정\n",
    "import matplotlib.font_manager as fm\n",
    "\n",
    "font_dirs = ['./dsml_data/nanum', ]\n",
    "font_files = fm.findSystemFonts(fontpaths=font_dirs)\n",
    "\n",
    "for font_file in font_files:\n",
    "    fm.fontManager.addfont(font_file)\n",
    "    \n",
    "# 한글 출력을 위해서 폰트 옵션을 설정합니다.\n",
    "# \"axes.unicode_minus\" : 마이너스가 깨질 것을 방지\n",
    "\n",
    "sns.set(font=\"NanumBarunGothic\", \n",
    "        rc={\"axes.unicode_minus\":False},\n",
    "        style='darkgrid')"
   ]
  },
  {
   "cell_type": "code",
   "execution_count": 139,
   "id": "fa5f1af7",
   "metadata": {},
   "outputs": [
    {
     "data": {
      "image/png": "[encoded data removed]",
      "text/plain": [
       "<Figure size 1950x1800 with 10 Axes>"
      ]
     },
     "metadata": {},
     "output_type": "display_data"
    }
   ],
   "source": [
    "_ = plt.figure(figsize = (13,12), dpi = 150)\n",
    "for i,f in enumerate(lab_top):\n",
    "    _ = plt.subplot(4,3,1+i)\n",
    "    _ = plt.title(f)\n",
    "    ax = sns.lineplot(data = df_lab_top_res2_trans, x = df_lab_top_res2_trans.index, y = f'{f}_사망 비율')\n",
    "    ax = sns.lineplot(data = df_lab_top_res_trans, x = df_lab_top_res_trans.index, y = f'{f}_생존 비율')\n",
    "    _ = ax.legend(labels = ['사망', '생존'], loc = 'upper left', fontsize = 12)\n",
    "    _ = ax.set_ylabel('per', fontsize = 12)\n",
    "plt.tight_layout()"
   ]
  },
  {
   "cell_type": "code",
   "execution_count": null,
   "id": "4c917f8c",
   "metadata": {},
   "outputs": [],
   "source": []
  },
  {
   "cell_type": "code",
   "execution_count": null,
   "id": "995e69de",
   "metadata": {},
   "outputs": [],
   "source": []
  },
  {
   "cell_type": "code",
   "execution_count": null,
   "id": "368ca754",
   "metadata": {},
   "outputs": [],
   "source": []
  },
  {
   "cell_type": "code",
   "execution_count": null,
   "id": "da3412e0",
   "metadata": {},
   "outputs": [],
   "source": []
  },
  {
   "cell_type": "code",
   "execution_count": null,
   "id": "be7eca8a",
   "metadata": {},
   "outputs": [],
   "source": []
  },
  {
   "cell_type": "code",
   "execution_count": null,
   "id": "03c08a14",
   "metadata": {},
   "outputs": [],
   "source": []
  },
  {
   "cell_type": "code",
   "execution_count": null,
   "id": "4862ec73",
   "metadata": {},
   "outputs": [],
   "source": []
  },
  {
   "cell_type": "code",
   "execution_count": null,
   "id": "d7fe2bc9",
   "metadata": {},
   "outputs": [],
   "source": [
    "# 아래 일단 버려봐"
   ]
  },
  {
   "cell_type": "markdown",
   "id": "ad6866d0",
   "metadata": {},
   "source": [
    "# FI는 Method1을 통해 구한 ReLU(diff) * Sign(diff_preds)\n",
    "```\n",
    "즉, Method1 df의 Method1열\n",
    "```"
   ]
  },
  {
   "cell_type": "code",
   "execution_count": 16,
   "id": "23d205ea",
   "metadata": {},
   "outputs": [
    {
     "data": {
      "text/html": [
       "<div>\n",
       "<style scoped>\n",
       "    .dataframe tbody tr th:only-of-type {\n",
       "        vertical-align: middle;\n",
       "    }\n",
       "\n",
       "    .dataframe tbody tr th {\n",
       "        vertical-align: top;\n",
       "    }\n",
       "\n",
       "    .dataframe thead th {\n",
       "        text-align: right;\n",
       "    }\n",
       "</style>\n",
       "<table border=\"1\" class=\"dataframe\">\n",
       "  <thead>\n",
       "    <tr style=\"text-align: right;\">\n",
       "      <th></th>\n",
       "      <th>feature</th>\n",
       "      <th>diff</th>\n",
       "      <th>diff_preds</th>\n",
       "      <th>Method1</th>\n",
       "    </tr>\n",
       "  </thead>\n",
       "  <tbody>\n",
       "    <tr>\n",
       "      <th>0</th>\n",
       "      <td>409606211</td>\n",
       "      <td>0.059180</td>\n",
       "      <td>1.0</td>\n",
       "      <td>0.059180</td>\n",
       "    </tr>\n",
       "    <tr>\n",
       "      <th>1</th>\n",
       "      <td>74606211</td>\n",
       "      <td>0.036668</td>\n",
       "      <td>1.0</td>\n",
       "      <td>0.036668</td>\n",
       "    </tr>\n",
       "    <tr>\n",
       "      <th>2</th>\n",
       "      <td>67434504</td>\n",
       "      <td>0.032467</td>\n",
       "      <td>1.0</td>\n",
       "      <td>0.032467</td>\n",
       "    </tr>\n",
       "    <tr>\n",
       "      <th>3</th>\n",
       "      <td>54817525</td>\n",
       "      <td>0.029130</td>\n",
       "      <td>1.0</td>\n",
       "      <td>0.029130</td>\n",
       "    </tr>\n",
       "    <tr>\n",
       "      <th>4</th>\n",
       "      <td>10019055302</td>\n",
       "      <td>0.027498</td>\n",
       "      <td>1.0</td>\n",
       "      <td>0.027498</td>\n",
       "    </tr>\n",
       "    <tr>\n",
       "      <th>...</th>\n",
       "      <td>...</td>\n",
       "      <td>...</td>\n",
       "      <td>...</td>\n",
       "      <td>...</td>\n",
       "    </tr>\n",
       "    <tr>\n",
       "      <th>4063</th>\n",
       "      <td>51200</td>\n",
       "      <td>0.016966</td>\n",
       "      <td>-1.0</td>\n",
       "      <td>-0.016966</td>\n",
       "    </tr>\n",
       "    <tr>\n",
       "      <th>4064</th>\n",
       "      <td>182138167</td>\n",
       "      <td>0.017109</td>\n",
       "      <td>-1.0</td>\n",
       "      <td>-0.017109</td>\n",
       "    </tr>\n",
       "    <tr>\n",
       "      <th>4065</th>\n",
       "      <td>50889</td>\n",
       "      <td>0.018246</td>\n",
       "      <td>-1.0</td>\n",
       "      <td>-0.018246</td>\n",
       "    </tr>\n",
       "    <tr>\n",
       "      <th>4066</th>\n",
       "      <td>4003822</td>\n",
       "      <td>0.019987</td>\n",
       "      <td>-1.0</td>\n",
       "      <td>-0.019987</td>\n",
       "    </tr>\n",
       "    <tr>\n",
       "      <th>4067</th>\n",
       "      <td>227194</td>\n",
       "      <td>0.025418</td>\n",
       "      <td>-1.0</td>\n",
       "      <td>-0.025418</td>\n",
       "    </tr>\n",
       "  </tbody>\n",
       "</table>\n",
       "<p>4068 rows × 4 columns</p>\n",
       "</div>"
      ],
      "text/plain": [
       "          feature      diff  diff_preds   Method1\n",
       "0       409606211  0.059180         1.0  0.059180\n",
       "1        74606211  0.036668         1.0  0.036668\n",
       "2        67434504  0.032467         1.0  0.032467\n",
       "3        54817525  0.029130         1.0  0.029130\n",
       "4     10019055302  0.027498         1.0  0.027498\n",
       "...           ...       ...         ...       ...\n",
       "4063        51200  0.016966        -1.0 -0.016966\n",
       "4064    182138167  0.017109        -1.0 -0.017109\n",
       "4065        50889  0.018246        -1.0 -0.018246\n",
       "4066      4003822  0.019987        -1.0 -0.019987\n",
       "4067       227194  0.025418        -1.0 -0.025418\n",
       "\n",
       "[4068 rows x 4 columns]"
      ]
     },
     "execution_count": 16,
     "metadata": {},
     "output_type": "execute_result"
    }
   ],
   "source": [
    "method1 = pd.read_csv('./dsml_data/Method1.csv')\n",
    "method1"
   ]
  },
  {
   "cell_type": "code",
   "execution_count": 17,
   "id": "6a5b83db",
   "metadata": {},
   "outputs": [],
   "source": [
    "feat_lst = method1['feature'].to_list()"
   ]
  },
  {
   "cell_type": "code",
   "execution_count": 15,
   "id": "096a929a",
   "metadata": {},
   "outputs": [],
   "source": [
    "# 이렇게 하면 lab은 아예 안나옴. 그래서 lab, pre, pro 별로 top 10 구해야함.\n",
    "# 그래서 total_data 갖다 쓰는 것.\n",
    "\n",
    "# feat_top10 = method1['feature'][:10]\n",
    "# feat_bottom10 = method1['feature'][-10:]\n",
    "\n",
    "# feat_top10\n",
    "# feat_bottom10"
   ]
  },
  {
   "cell_type": "code",
   "execution_count": 34,
   "id": "9aa34228",
   "metadata": {},
   "outputs": [
    {
     "data": {
      "text/html": [
       "<div>\n",
       "<style scoped>\n",
       "    .dataframe tbody tr th:only-of-type {\n",
       "        vertical-align: middle;\n",
       "    }\n",
       "\n",
       "    .dataframe tbody tr th {\n",
       "        vertical-align: top;\n",
       "    }\n",
       "\n",
       "    .dataframe thead th {\n",
       "        text-align: right;\n",
       "    }\n",
       "</style>\n",
       "<table border=\"1\" class=\"dataframe\">\n",
       "  <thead>\n",
       "    <tr style=\"text-align: right;\">\n",
       "      <th></th>\n",
       "      <th>SUBJECT_ID</th>\n",
       "      <th>ITEMID</th>\n",
       "      <th>CHARTTIME</th>\n",
       "      <th>TYPE</th>\n",
       "    </tr>\n",
       "  </thead>\n",
       "  <tbody>\n",
       "    <tr>\n",
       "      <th>0</th>\n",
       "      <td>9</td>\n",
       "      <td>50882</td>\n",
       "      <td>2149-11-09</td>\n",
       "      <td>LAB</td>\n",
       "    </tr>\n",
       "    <tr>\n",
       "      <th>1</th>\n",
       "      <td>9</td>\n",
       "      <td>50931</td>\n",
       "      <td>2149-11-09</td>\n",
       "      <td>LAB</td>\n",
       "    </tr>\n",
       "    <tr>\n",
       "      <th>2</th>\n",
       "      <td>9</td>\n",
       "      <td>50971</td>\n",
       "      <td>2149-11-09</td>\n",
       "      <td>LAB</td>\n",
       "    </tr>\n",
       "    <tr>\n",
       "      <th>3</th>\n",
       "      <td>9</td>\n",
       "      <td>51275</td>\n",
       "      <td>2149-11-09</td>\n",
       "      <td>LAB</td>\n",
       "    </tr>\n",
       "    <tr>\n",
       "      <th>4</th>\n",
       "      <td>9</td>\n",
       "      <td>51288</td>\n",
       "      <td>2149-11-09</td>\n",
       "      <td>LAB</td>\n",
       "    </tr>\n",
       "    <tr>\n",
       "      <th>...</th>\n",
       "      <td>...</td>\n",
       "      <td>...</td>\n",
       "      <td>...</td>\n",
       "      <td>...</td>\n",
       "    </tr>\n",
       "    <tr>\n",
       "      <th>9169850</th>\n",
       "      <td>99985</td>\n",
       "      <td>51288</td>\n",
       "      <td>2181-03-06</td>\n",
       "      <td>LAB</td>\n",
       "    </tr>\n",
       "    <tr>\n",
       "      <th>9169851</th>\n",
       "      <td>99985</td>\n",
       "      <td>51279</td>\n",
       "      <td>2182-03-14</td>\n",
       "      <td>LAB</td>\n",
       "    </tr>\n",
       "    <tr>\n",
       "      <th>9169852</th>\n",
       "      <td>99985</td>\n",
       "      <td>51006</td>\n",
       "      <td>2182-03-14</td>\n",
       "      <td>LAB</td>\n",
       "    </tr>\n",
       "    <tr>\n",
       "      <th>9169853</th>\n",
       "      <td>99985</td>\n",
       "      <td>51221</td>\n",
       "      <td>2182-03-14</td>\n",
       "      <td>LAB</td>\n",
       "    </tr>\n",
       "    <tr>\n",
       "      <th>9169854</th>\n",
       "      <td>99985</td>\n",
       "      <td>51222</td>\n",
       "      <td>2182-03-14</td>\n",
       "      <td>LAB</td>\n",
       "    </tr>\n",
       "  </tbody>\n",
       "</table>\n",
       "<p>9169855 rows × 4 columns</p>\n",
       "</div>"
      ],
      "text/plain": [
       "         SUBJECT_ID  ITEMID   CHARTTIME TYPE\n",
       "0                 9   50882  2149-11-09  LAB\n",
       "1                 9   50931  2149-11-09  LAB\n",
       "2                 9   50971  2149-11-09  LAB\n",
       "3                 9   51275  2149-11-09  LAB\n",
       "4                 9   51288  2149-11-09  LAB\n",
       "...             ...     ...         ...  ...\n",
       "9169850       99985   51288  2181-03-06  LAB\n",
       "9169851       99985   51279  2182-03-14  LAB\n",
       "9169852       99985   51006  2182-03-14  LAB\n",
       "9169853       99985   51221  2182-03-14  LAB\n",
       "9169854       99985   51222  2182-03-14  LAB\n",
       "\n",
       "[9169855 rows x 4 columns]"
      ]
     },
     "execution_count": 34,
     "metadata": {},
     "output_type": "execute_result"
    }
   ],
   "source": [
    "total_data = pd.read_csv('./dsml_data/total_data_7727.csv') #total_data? total_data_7727?, 7727 써야됨.\n",
    "\n",
    "total_data"
   ]
  },
  {
   "cell_type": "code",
   "execution_count": 35,
   "id": "8833ba80",
   "metadata": {},
   "outputs": [
    {
     "data": {
      "text/plain": [
       "10"
      ]
     },
     "execution_count": 35,
     "metadata": {},
     "output_type": "execute_result"
    },
    {
     "data": {
      "text/plain": [
       "10"
      ]
     },
     "execution_count": 35,
     "metadata": {},
     "output_type": "execute_result"
    }
   ],
   "source": [
    "LAB_ITEMID_arr = total_data[total_data['TYPE']=='LAB']['ITEMID'].unique()\n",
    "\n",
    "LAB_feat_top10 = []\n",
    "LAB_feat_bottom10 = []\n",
    "\n",
    "for i in feat_lst:\n",
    "    if i in LAB_ITEMID_arr:\n",
    "        LAB_feat_top10.append(i)\n",
    "        if len(LAB_feat_top10) == 10:\n",
    "            break\n",
    "\n",
    "len(LAB_feat_top10)\n",
    "\n",
    "\n",
    "for i in feat_lst[::-1]:\n",
    "    if i in LAB_ITEMID_arr:\n",
    "        LAB_feat_bottom10.append(i)\n",
    "        if len(LAB_feat_bottom10) == 10:\n",
    "            break\n",
    "\n",
    "len(LAB_feat_bottom10)"
   ]
  },
  {
   "cell_type": "code",
   "execution_count": 36,
   "id": "583b3177",
   "metadata": {},
   "outputs": [
    {
     "data": {
      "text/plain": [
       "[51003, 51148, 50868, 50813, 51120, 50908, 51482, 50917, 50862, 50911]"
      ]
     },
     "execution_count": 36,
     "metadata": {},
     "output_type": "execute_result"
    },
    {
     "data": {
      "text/plain": [
       "array(['LAB'], dtype=object)"
      ]
     },
     "execution_count": 36,
     "metadata": {},
     "output_type": "execute_result"
    }
   ],
   "source": [
    "LAB_feat_top10\n",
    "\n",
    "# 확인\n",
    "total_data[total_data['ITEMID'].isin(LAB_feat_top10)]['TYPE'].unique()"
   ]
  },
  {
   "cell_type": "markdown",
   "id": "93dc96d9",
   "metadata": {},
   "source": [
    "## top10, bottom10 function"
   ]
  },
  {
   "cell_type": "code",
   "execution_count": 37,
   "id": "73ba02b8",
   "metadata": {},
   "outputs": [],
   "source": [
    "def topbottom(type_in_str):\n",
    "    ITEMID_arr = total_data[total_data['TYPE'] == type_in_str]['ITEMID'].unique()\n",
    "    feat_top10 = []\n",
    "    feat_bottom10 = []\n",
    "\n",
    "    for i in feat_lst:\n",
    "        if i in ITEMID_arr:\n",
    "            feat_top10.append(i)\n",
    "            if len(feat_top10) == 10:\n",
    "                break\n",
    "\n",
    "    for i in feat_lst[::-1]:\n",
    "        if i in ITEMID_arr:\n",
    "            feat_bottom10.append(i)\n",
    "            if len(feat_bottom10) == 10:\n",
    "                break\n",
    "    \n",
    "    return ITEMID_arr, feat_top10, feat_bottom10"
   ]
  },
  {
   "cell_type": "code",
   "execution_count": 38,
   "id": "398e24b3",
   "metadata": {},
   "outputs": [],
   "source": [
    "_, pre_top, pre_bottom = topbottom('PRE')\n",
    "_, pro_top, pro_bottom = topbottom('PRO')\n",
    "_, lab_top, lab_bottom = topbottom('LAB')\n",
    "\n",
    "# len(pre_top)\n",
    "# len(pre_bottom)\n",
    "# len(pro_top)\n",
    "# len(pro_bottom)\n",
    "# len(lab_top)\n",
    "# len(lab_bottom)"
   ]
  },
  {
   "cell_type": "code",
   "execution_count": 39,
   "id": "ecb8f529",
   "metadata": {},
   "outputs": [
    {
     "data": {
      "text/plain": [
       "array(['PRE'], dtype=object)"
      ]
     },
     "execution_count": 39,
     "metadata": {},
     "output_type": "execute_result"
    }
   ],
   "source": [
    "total_data[total_data['ITEMID'].isin(pre_bottom)]['TYPE'].unique()\n",
    "# 근데 이거 유니크는 itemid 서로 안겹치니까 당연히 지들만 나오는건데 왜 확인한거지..? 흠흠..."
   ]
  },
  {
   "cell_type": "code",
   "execution_count": 40,
   "id": "4dcfd841",
   "metadata": {},
   "outputs": [
    {
     "data": {
      "text/plain": [
       "[409606211,\n",
       " 74606211,\n",
       " 67434504,\n",
       " 54817525,\n",
       " 10019055302,\n",
       " 54858516,\n",
       " 74706811,\n",
       " 45006701,\n",
       " 228125,\n",
       " 63323016501]"
      ]
     },
     "execution_count": 40,
     "metadata": {},
     "output_type": "execute_result"
    }
   ],
   "source": [
    "feat_lst[:10]"
   ]
  },
  {
   "cell_type": "code",
   "execution_count": 41,
   "id": "19d675e8",
   "metadata": {},
   "outputs": [
    {
     "data": {
      "text/plain": [
       "0    False\n",
       "1    False\n",
       "2    False\n",
       "3    False\n",
       "4    False\n",
       "5    False\n",
       "6    False\n",
       "7    False\n",
       "8     True\n",
       "9    False\n",
       "dtype: bool"
      ]
     },
     "execution_count": 41,
     "metadata": {},
     "output_type": "execute_result"
    }
   ],
   "source": [
    "pd.Series(feat_lst[:10]).isin(pro_top)\n",
    "# .isin(~~)은 series나 df에만 쓰임, list나 ndarray에는 안쓰이므로 pd.Series나 pd.DataFrame를 통해 형변환해서 사용하자.\n",
    "# .isin(~~)의 괄호 안에는 list, ndarray, Series 들어갈 수 있음."
   ]
  },
  {
   "cell_type": "markdown",
   "id": "c78a6774",
   "metadata": {},
   "source": [
    "## top, bottom check function...\n",
    "```\n",
    "제대로 잘 있는지\n",
    "```"
   ]
  },
  {
   "cell_type": "code",
   "execution_count": 42,
   "id": "8e3bb7f3",
   "metadata": {},
   "outputs": [],
   "source": [
    "def check_top(top):\n",
    "    return pd.Series(feat_lst[:204]).isin(top)\n",
    "\n",
    "def check_bottom(bottom):\n",
    "    return pd.Series(feat_lst[::-1][:198]).isin(bottom)"
   ]
  },
  {
   "cell_type": "code",
   "execution_count": 43,
   "id": "29be352b",
   "metadata": {
    "scrolled": true
   },
   "outputs": [
    {
     "data": {
      "text/plain": [
       "10"
      ]
     },
     "execution_count": 43,
     "metadata": {},
     "output_type": "execute_result"
    },
    {
     "data": {
      "text/plain": [
       "10"
      ]
     },
     "execution_count": 43,
     "metadata": {},
     "output_type": "execute_result"
    },
    {
     "data": {
      "text/plain": [
       "10"
      ]
     },
     "execution_count": 43,
     "metadata": {},
     "output_type": "execute_result"
    },
    {
     "data": {
      "text/plain": [
       "10"
      ]
     },
     "execution_count": 43,
     "metadata": {},
     "output_type": "execute_result"
    },
    {
     "data": {
      "text/plain": [
       "10"
      ]
     },
     "execution_count": 43,
     "metadata": {},
     "output_type": "execute_result"
    },
    {
     "data": {
      "text/plain": [
       "10"
      ]
     },
     "execution_count": 43,
     "metadata": {},
     "output_type": "execute_result"
    }
   ],
   "source": [
    "check_top(lab_top).sum()\n",
    "check_top(pre_top).sum()\n",
    "check_top(pro_top).sum()\n",
    "check_bottom(lab_bottom).sum()\n",
    "check_bottom(pre_bottom).sum()\n",
    "check_bottom(pro_bottom).sum()"
   ]
  },
  {
   "cell_type": "code",
   "execution_count": 44,
   "id": "ca67f6de",
   "metadata": {},
   "outputs": [
    {
     "data": {
      "text/plain": [
       "[51003, 51148, 50868, 50813, 51120, 50908, 51482, 50917, 50862, 50911]"
      ]
     },
     "execution_count": 44,
     "metadata": {},
     "output_type": "execute_result"
    },
    {
     "data": {
      "text/plain": [
       "[409606211,\n",
       " 74606211,\n",
       " 67434504,\n",
       " 54817525,\n",
       " 10019055302,\n",
       " 54858516,\n",
       " 74706811,\n",
       " 45006701,\n",
       " 63323016501,\n",
       " 58177025504]"
      ]
     },
     "execution_count": 44,
     "metadata": {},
     "output_type": "execute_result"
    },
    {
     "data": {
      "text/plain": [
       "[228125,\n",
       " 224270,\n",
       " 225202,\n",
       " 228127,\n",
       " 228128,\n",
       " 226124,\n",
       " 225450,\n",
       " 225794,\n",
       " 228130,\n",
       " 225802]"
      ]
     },
     "execution_count": 44,
     "metadata": {},
     "output_type": "execute_result"
    }
   ],
   "source": [
    "lab_top\n",
    "pre_top\n",
    "pro_top"
   ]
  },
  {
   "cell_type": "markdown",
   "id": "7240e575",
   "metadata": {},
   "source": [
    "## lab_top 으로 test, 변수설명\n",
    "```\n",
    "변수 설명)\n",
    "feat_lst :  feature list\n",
    "lab_top : lab에서 FI가 top 10인 Feature들 모아놓은 list\n",
    "lab_top_df : total_data에서 ITEMID가 lab_top과 같은 애들을 SUBJECT_ID, ITEMID, CHARTTIME, TYPE 열과 함께 볼 수 있도록 모아둔 df\n",
    "lab_top_times : 환자별 charttime (원래), itemid별 charttime으로 바꿔야하나 생각중.\n",
    "lab_item : 환자별 & charttime 별 itemid (Multi index임.)\n",
    "\n",
    "```"
   ]
  },
  {
   "cell_type": "code",
   "execution_count": 45,
   "id": "f127eabf",
   "metadata": {},
   "outputs": [],
   "source": [
    "lab_top_df = total_data[total_data['ITEMID'].isin(lab_top)]"
   ]
  },
  {
   "cell_type": "code",
   "execution_count": 46,
   "id": "a3865375",
   "metadata": {},
   "outputs": [
    {
     "data": {
      "text/html": [
       "<div>\n",
       "<style scoped>\n",
       "    .dataframe tbody tr th:only-of-type {\n",
       "        vertical-align: middle;\n",
       "    }\n",
       "\n",
       "    .dataframe tbody tr th {\n",
       "        vertical-align: top;\n",
       "    }\n",
       "\n",
       "    .dataframe thead th {\n",
       "        text-align: right;\n",
       "    }\n",
       "</style>\n",
       "<table border=\"1\" class=\"dataframe\">\n",
       "  <thead>\n",
       "    <tr style=\"text-align: right;\">\n",
       "      <th></th>\n",
       "      <th>SUBJECT_ID</th>\n",
       "      <th>ITEMID</th>\n",
       "      <th>CHARTTIME</th>\n",
       "      <th>TYPE</th>\n",
       "    </tr>\n",
       "  </thead>\n",
       "  <tbody>\n",
       "    <tr>\n",
       "      <th>13</th>\n",
       "      <td>9</td>\n",
       "      <td>50813</td>\n",
       "      <td>2149-11-09</td>\n",
       "      <td>LAB</td>\n",
       "    </tr>\n",
       "    <tr>\n",
       "      <th>52</th>\n",
       "      <td>9</td>\n",
       "      <td>50813</td>\n",
       "      <td>2149-11-10</td>\n",
       "      <td>LAB</td>\n",
       "    </tr>\n",
       "    <tr>\n",
       "      <th>53</th>\n",
       "      <td>9</td>\n",
       "      <td>50813</td>\n",
       "      <td>2149-11-10</td>\n",
       "      <td>LAB</td>\n",
       "    </tr>\n",
       "    <tr>\n",
       "      <th>101</th>\n",
       "      <td>9</td>\n",
       "      <td>50813</td>\n",
       "      <td>2149-11-11</td>\n",
       "      <td>LAB</td>\n",
       "    </tr>\n",
       "    <tr>\n",
       "      <th>169</th>\n",
       "      <td>9</td>\n",
       "      <td>50862</td>\n",
       "      <td>2149-11-13</td>\n",
       "      <td>LAB</td>\n",
       "    </tr>\n",
       "    <tr>\n",
       "      <th>...</th>\n",
       "      <td>...</td>\n",
       "      <td>...</td>\n",
       "      <td>...</td>\n",
       "      <td>...</td>\n",
       "    </tr>\n",
       "    <tr>\n",
       "      <th>9169067</th>\n",
       "      <td>99985</td>\n",
       "      <td>50862</td>\n",
       "      <td>2181-01-29</td>\n",
       "      <td>LAB</td>\n",
       "    </tr>\n",
       "    <tr>\n",
       "      <th>9169123</th>\n",
       "      <td>99985</td>\n",
       "      <td>50862</td>\n",
       "      <td>2181-01-30</td>\n",
       "      <td>LAB</td>\n",
       "    </tr>\n",
       "    <tr>\n",
       "      <th>9169298</th>\n",
       "      <td>99985</td>\n",
       "      <td>51482</td>\n",
       "      <td>2181-02-02</td>\n",
       "      <td>LAB</td>\n",
       "    </tr>\n",
       "    <tr>\n",
       "      <th>9169355</th>\n",
       "      <td>99985</td>\n",
       "      <td>51482</td>\n",
       "      <td>2181-02-03</td>\n",
       "      <td>LAB</td>\n",
       "    </tr>\n",
       "    <tr>\n",
       "      <th>9169760</th>\n",
       "      <td>99985</td>\n",
       "      <td>50862</td>\n",
       "      <td>2181-02-11</td>\n",
       "      <td>LAB</td>\n",
       "    </tr>\n",
       "  </tbody>\n",
       "</table>\n",
       "<p>116550 rows × 4 columns</p>\n",
       "</div>"
      ],
      "text/plain": [
       "         SUBJECT_ID  ITEMID   CHARTTIME TYPE\n",
       "13                9   50813  2149-11-09  LAB\n",
       "52                9   50813  2149-11-10  LAB\n",
       "53                9   50813  2149-11-10  LAB\n",
       "101               9   50813  2149-11-11  LAB\n",
       "169               9   50862  2149-11-13  LAB\n",
       "...             ...     ...         ...  ...\n",
       "9169067       99985   50862  2181-01-29  LAB\n",
       "9169123       99985   50862  2181-01-30  LAB\n",
       "9169298       99985   51482  2181-02-02  LAB\n",
       "9169355       99985   51482  2181-02-03  LAB\n",
       "9169760       99985   50862  2181-02-11  LAB\n",
       "\n",
       "[116550 rows x 4 columns]"
      ]
     },
     "execution_count": 46,
     "metadata": {},
     "output_type": "execute_result"
    }
   ],
   "source": [
    "lab_top_df"
   ]
  },
  {
   "cell_type": "code",
   "execution_count": 31,
   "id": "cfa24a9b",
   "metadata": {},
   "outputs": [
    {
     "data": {
      "text/plain": [
       "117456"
      ]
     },
     "execution_count": 31,
     "metadata": {},
     "output_type": "execute_result"
    },
    {
     "data": {
      "text/html": [
       "<div>\n",
       "<style scoped>\n",
       "    .dataframe tbody tr th:only-of-type {\n",
       "        vertical-align: middle;\n",
       "    }\n",
       "\n",
       "    .dataframe tbody tr th {\n",
       "        vertical-align: top;\n",
       "    }\n",
       "\n",
       "    .dataframe thead th {\n",
       "        text-align: right;\n",
       "    }\n",
       "</style>\n",
       "<table border=\"1\" class=\"dataframe\">\n",
       "  <thead>\n",
       "    <tr style=\"text-align: right;\">\n",
       "      <th></th>\n",
       "      <th>SUBJECT_ID</th>\n",
       "      <th>CHARTTIME</th>\n",
       "    </tr>\n",
       "  </thead>\n",
       "  <tbody>\n",
       "    <tr>\n",
       "      <th>13</th>\n",
       "      <td>9</td>\n",
       "      <td>2149-11-09</td>\n",
       "    </tr>\n",
       "    <tr>\n",
       "      <th>52</th>\n",
       "      <td>9</td>\n",
       "      <td>2149-11-10</td>\n",
       "    </tr>\n",
       "    <tr>\n",
       "      <th>53</th>\n",
       "      <td>9</td>\n",
       "      <td>2149-11-10</td>\n",
       "    </tr>\n",
       "    <tr>\n",
       "      <th>101</th>\n",
       "      <td>9</td>\n",
       "      <td>2149-11-11</td>\n",
       "    </tr>\n",
       "    <tr>\n",
       "      <th>169</th>\n",
       "      <td>9</td>\n",
       "      <td>2149-11-13</td>\n",
       "    </tr>\n",
       "    <tr>\n",
       "      <th>...</th>\n",
       "      <td>...</td>\n",
       "      <td>...</td>\n",
       "    </tr>\n",
       "    <tr>\n",
       "      <th>9221132</th>\n",
       "      <td>99985</td>\n",
       "      <td>2181-01-29</td>\n",
       "    </tr>\n",
       "    <tr>\n",
       "      <th>9221188</th>\n",
       "      <td>99985</td>\n",
       "      <td>2181-01-30</td>\n",
       "    </tr>\n",
       "    <tr>\n",
       "      <th>9221363</th>\n",
       "      <td>99985</td>\n",
       "      <td>2181-02-02</td>\n",
       "    </tr>\n",
       "    <tr>\n",
       "      <th>9221420</th>\n",
       "      <td>99985</td>\n",
       "      <td>2181-02-03</td>\n",
       "    </tr>\n",
       "    <tr>\n",
       "      <th>9221825</th>\n",
       "      <td>99985</td>\n",
       "      <td>2181-02-11</td>\n",
       "    </tr>\n",
       "  </tbody>\n",
       "</table>\n",
       "<p>117456 rows × 2 columns</p>\n",
       "</div>"
      ],
      "text/plain": [
       "         SUBJECT_ID   CHARTTIME\n",
       "13                9  2149-11-09\n",
       "52                9  2149-11-10\n",
       "53                9  2149-11-10\n",
       "101               9  2149-11-11\n",
       "169               9  2149-11-13\n",
       "...             ...         ...\n",
       "9221132       99985  2181-01-29\n",
       "9221188       99985  2181-01-30\n",
       "9221363       99985  2181-02-02\n",
       "9221420       99985  2181-02-03\n",
       "9221825       99985  2181-02-11\n",
       "\n",
       "[117456 rows x 2 columns]"
      ]
     },
     "execution_count": 31,
     "metadata": {},
     "output_type": "execute_result"
    }
   ],
   "source": [
    "len(lab_top_df)\n",
    "lab_top_df[['SUBJECT_ID','CHARTTIME']]#.unique()"
   ]
  },
  {
   "cell_type": "code",
   "execution_count": 35,
   "id": "18c122ea",
   "metadata": {},
   "outputs": [],
   "source": [
    "# lab_top_df.pivot_table # 이거로 multi index 하려 했으나 그냥 df로 하기로함."
   ]
  },
  {
   "cell_type": "code",
   "execution_count": 36,
   "id": "81bfa165",
   "metadata": {
    "scrolled": true
   },
   "outputs": [
    {
     "data": {
      "text/plain": [
       "SUBJECT_ID\n",
       "9        [2149-11-09, 2149-11-10, 2149-11-11, 2149-11-1...\n",
       "21       [2134-09-11, 2134-09-12, 2134-09-13, 2134-09-1...\n",
       "31                    [2108-08-22, 2108-08-26, 2108-08-29]\n",
       "36       [2131-05-12, 2131-05-13, 2131-05-16, 2131-05-1...\n",
       "37       [2183-08-21, 2183-08-22, 2183-08-23, 2183-08-2...\n",
       "                               ...                        \n",
       "99863                 [2142-04-13, 2142-04-25, 2142-05-03]\n",
       "99934                             [2110-02-28, 2110-03-01]\n",
       "99937                                         [2128-05-11]\n",
       "99944                                         [2161-02-16]\n",
       "99985    [2181-01-29, 2181-01-30, 2181-02-02, 2181-02-0...\n",
       "Name: CHARTTIME, Length: 7314, dtype: object"
      ]
     },
     "execution_count": 36,
     "metadata": {},
     "output_type": "execute_result"
    },
    {
     "data": {
      "text/html": [
       "<div>\n",
       "<style scoped>\n",
       "    .dataframe tbody tr th:only-of-type {\n",
       "        vertical-align: middle;\n",
       "    }\n",
       "\n",
       "    .dataframe tbody tr th {\n",
       "        vertical-align: top;\n",
       "    }\n",
       "\n",
       "    .dataframe thead th {\n",
       "        text-align: right;\n",
       "    }\n",
       "</style>\n",
       "<table border=\"1\" class=\"dataframe\">\n",
       "  <thead>\n",
       "    <tr style=\"text-align: right;\">\n",
       "      <th></th>\n",
       "      <th>ITEMID</th>\n",
       "      <th>CHARTTIME</th>\n",
       "      <th>TYPE</th>\n",
       "    </tr>\n",
       "    <tr>\n",
       "      <th>SUBJECT_ID</th>\n",
       "      <th></th>\n",
       "      <th></th>\n",
       "      <th></th>\n",
       "    </tr>\n",
       "  </thead>\n",
       "  <tbody>\n",
       "    <tr>\n",
       "      <th>9</th>\n",
       "      <td>9</td>\n",
       "      <td>9</td>\n",
       "      <td>9</td>\n",
       "    </tr>\n",
       "    <tr>\n",
       "      <th>21</th>\n",
       "      <td>41</td>\n",
       "      <td>41</td>\n",
       "      <td>41</td>\n",
       "    </tr>\n",
       "    <tr>\n",
       "      <th>31</th>\n",
       "      <td>3</td>\n",
       "      <td>3</td>\n",
       "      <td>3</td>\n",
       "    </tr>\n",
       "    <tr>\n",
       "      <th>36</th>\n",
       "      <td>15</td>\n",
       "      <td>15</td>\n",
       "      <td>15</td>\n",
       "    </tr>\n",
       "    <tr>\n",
       "      <th>37</th>\n",
       "      <td>8</td>\n",
       "      <td>8</td>\n",
       "      <td>8</td>\n",
       "    </tr>\n",
       "    <tr>\n",
       "      <th>...</th>\n",
       "      <td>...</td>\n",
       "      <td>...</td>\n",
       "      <td>...</td>\n",
       "    </tr>\n",
       "    <tr>\n",
       "      <th>99863</th>\n",
       "      <td>3</td>\n",
       "      <td>3</td>\n",
       "      <td>3</td>\n",
       "    </tr>\n",
       "    <tr>\n",
       "      <th>99934</th>\n",
       "      <td>2</td>\n",
       "      <td>2</td>\n",
       "      <td>2</td>\n",
       "    </tr>\n",
       "    <tr>\n",
       "      <th>99937</th>\n",
       "      <td>1</td>\n",
       "      <td>1</td>\n",
       "      <td>1</td>\n",
       "    </tr>\n",
       "    <tr>\n",
       "      <th>99944</th>\n",
       "      <td>1</td>\n",
       "      <td>1</td>\n",
       "      <td>1</td>\n",
       "    </tr>\n",
       "    <tr>\n",
       "      <th>99985</th>\n",
       "      <td>6</td>\n",
       "      <td>6</td>\n",
       "      <td>6</td>\n",
       "    </tr>\n",
       "  </tbody>\n",
       "</table>\n",
       "<p>7314 rows × 3 columns</p>\n",
       "</div>"
      ],
      "text/plain": [
       "            ITEMID  CHARTTIME  TYPE\n",
       "SUBJECT_ID                         \n",
       "9                9          9     9\n",
       "21              41         41    41\n",
       "31               3          3     3\n",
       "36              15         15    15\n",
       "37               8          8     8\n",
       "...            ...        ...   ...\n",
       "99863            3          3     3\n",
       "99934            2          2     2\n",
       "99937            1          1     1\n",
       "99944            1          1     1\n",
       "99985            6          6     6\n",
       "\n",
       "[7314 rows x 3 columns]"
      ]
     },
     "execution_count": 36,
     "metadata": {},
     "output_type": "execute_result"
    }
   ],
   "source": [
    "# lab_top_df.groupby('SUBJECT_ID')['CHARTTIME']\n",
    "lab_top_df.groupby('SUBJECT_ID')['CHARTTIME'].unique() #꺅,,, 이게되네..?\n",
    "lab_top_df.groupby('SUBJECT_ID').count()"
   ]
  },
  {
   "cell_type": "markdown",
   "id": "6461ed22",
   "metadata": {},
   "source": [
    "근데 우리 30일, 20일 그거 안하기로 해서 이거 필요 없잖아..? 또 방향 잃고...."
   ]
  },
  {
   "cell_type": "markdown",
   "id": "af146bed",
   "metadata": {},
   "source": [
    "sub = pd.read_csv('/project/guri/data/폐렴환자.csv')\n",
    "sub\n",
    "\n",
    "sub['SUBJECT_ID'].nunique() #여기서 외래환자 제거한게 폐렴환자lab이었음."
   ]
  },
  {
   "cell_type": "markdown",
   "id": "f8bb5baf",
   "metadata": {},
   "source": [
    "생각해보면 total_data에 뽑아둔게 이미 abnormal임...\n",
    "그럼 걍 개수 세면 되는건가..?"
   ]
  },
  {
   "cell_type": "code",
   "execution_count": 37,
   "id": "13ae0579",
   "metadata": {},
   "outputs": [
    {
     "data": {
      "text/html": [
       "<div>\n",
       "<style scoped>\n",
       "    .dataframe tbody tr th:only-of-type {\n",
       "        vertical-align: middle;\n",
       "    }\n",
       "\n",
       "    .dataframe tbody tr th {\n",
       "        vertical-align: top;\n",
       "    }\n",
       "\n",
       "    .dataframe thead th {\n",
       "        text-align: right;\n",
       "    }\n",
       "</style>\n",
       "<table border=\"1\" class=\"dataframe\">\n",
       "  <thead>\n",
       "    <tr style=\"text-align: right;\">\n",
       "      <th></th>\n",
       "      <th>SUBJECT_ID</th>\n",
       "      <th>CHARTTIME</th>\n",
       "      <th>TYPE</th>\n",
       "    </tr>\n",
       "    <tr>\n",
       "      <th>ITEMID</th>\n",
       "      <th></th>\n",
       "      <th></th>\n",
       "      <th></th>\n",
       "    </tr>\n",
       "  </thead>\n",
       "  <tbody>\n",
       "    <tr>\n",
       "      <th>50813</th>\n",
       "      <td>24421</td>\n",
       "      <td>24421</td>\n",
       "      <td>24421</td>\n",
       "    </tr>\n",
       "    <tr>\n",
       "      <th>50862</th>\n",
       "      <td>34229</td>\n",
       "      <td>34229</td>\n",
       "      <td>34229</td>\n",
       "    </tr>\n",
       "    <tr>\n",
       "      <th>50868</th>\n",
       "      <td>18353</td>\n",
       "      <td>18353</td>\n",
       "      <td>18353</td>\n",
       "    </tr>\n",
       "    <tr>\n",
       "      <th>50908</th>\n",
       "      <td>2826</td>\n",
       "      <td>2826</td>\n",
       "      <td>2826</td>\n",
       "    </tr>\n",
       "    <tr>\n",
       "      <th>50911</th>\n",
       "      <td>6463</td>\n",
       "      <td>6463</td>\n",
       "      <td>6463</td>\n",
       "    </tr>\n",
       "    <tr>\n",
       "      <th>50917</th>\n",
       "      <td>1639</td>\n",
       "      <td>1639</td>\n",
       "      <td>1639</td>\n",
       "    </tr>\n",
       "    <tr>\n",
       "      <th>51003</th>\n",
       "      <td>23198</td>\n",
       "      <td>23198</td>\n",
       "      <td>23198</td>\n",
       "    </tr>\n",
       "    <tr>\n",
       "      <th>51120</th>\n",
       "      <td>742</td>\n",
       "      <td>742</td>\n",
       "      <td>742</td>\n",
       "    </tr>\n",
       "    <tr>\n",
       "      <th>51148</th>\n",
       "      <td>1428</td>\n",
       "      <td>1428</td>\n",
       "      <td>1428</td>\n",
       "    </tr>\n",
       "    <tr>\n",
       "      <th>51482</th>\n",
       "      <td>4157</td>\n",
       "      <td>4157</td>\n",
       "      <td>4157</td>\n",
       "    </tr>\n",
       "  </tbody>\n",
       "</table>\n",
       "</div>"
      ],
      "text/plain": [
       "        SUBJECT_ID  CHARTTIME   TYPE\n",
       "ITEMID                              \n",
       "50813        24421      24421  24421\n",
       "50862        34229      34229  34229\n",
       "50868        18353      18353  18353\n",
       "50908         2826       2826   2826\n",
       "50911         6463       6463   6463\n",
       "50917         1639       1639   1639\n",
       "51003        23198      23198  23198\n",
       "51120          742        742    742\n",
       "51148         1428       1428   1428\n",
       "51482         4157       4157   4157"
      ]
     },
     "execution_count": 37,
     "metadata": {},
     "output_type": "execute_result"
    }
   ],
   "source": [
    "lab_top_df.groupby(['ITEMID']).count()"
   ]
  },
  {
   "cell_type": "markdown",
   "id": "04e8f32e",
   "metadata": {},
   "source": [
    "## 버려..? 아니... 환자별로 D-10 ~ D-1로 날짜 처리 해줘야함."
   ]
  },
  {
   "cell_type": "code",
   "execution_count": 77,
   "id": "6cbd77fe",
   "metadata": {},
   "outputs": [],
   "source": [
    "# 함수 만들꺼면 잊지 말고 챙겨야할 cell\n",
    "# 환자별 charttime.... 근데 우리 필요한건 itemid 별 charttime임... 내가 지금 환자별로 해서 뭐가 안되는 것 같음.\n",
    "lab_top_times = lab_top_df.groupby(['SUBJECT_ID'])['CHARTTIME'].unique()"
   ]
  },
  {
   "cell_type": "code",
   "execution_count": 78,
   "id": "d05da6b7",
   "metadata": {},
   "outputs": [
    {
     "data": {
      "text/plain": [
       "SUBJECT_ID\n",
       "9        [2149-11-09, 2149-11-10, 2149-11-11, 2149-11-1...\n",
       "21       [2134-09-11, 2134-09-12, 2134-09-13, 2134-09-1...\n",
       "31                    [2108-08-22, 2108-08-26, 2108-08-29]\n",
       "36       [2131-05-12, 2131-05-13, 2131-05-16, 2131-05-1...\n",
       "37       [2183-08-21, 2183-08-22, 2183-08-23, 2183-08-2...\n",
       "                               ...                        \n",
       "99863                 [2142-04-13, 2142-04-25, 2142-05-03]\n",
       "99934                             [2110-02-28, 2110-03-01]\n",
       "99937                                         [2128-05-11]\n",
       "99944                                         [2161-02-16]\n",
       "99985    [2181-01-29, 2181-01-30, 2181-02-02, 2181-02-0...\n",
       "Name: CHARTTIME, Length: 7245, dtype: object"
      ]
     },
     "execution_count": 78,
     "metadata": {},
     "output_type": "execute_result"
    }
   ],
   "source": [
    "lab_top_times"
   ]
  },
  {
   "cell_type": "code",
   "execution_count": 79,
   "id": "96d4a920",
   "metadata": {},
   "outputs": [
    {
     "data": {
      "text/plain": [
       "5"
      ]
     },
     "execution_count": 79,
     "metadata": {},
     "output_type": "execute_result"
    }
   ],
   "source": [
    "# 확인 cell\n",
    "len(pd.DataFrame(lab_top_times).iloc[0][0])"
   ]
  },
  {
   "cell_type": "markdown",
   "id": "4fad3258",
   "metadata": {},
   "source": [
    "library again for process time"
   ]
  },
  {
   "cell_type": "code",
   "execution_count": 80,
   "id": "8d4a4158",
   "metadata": {},
   "outputs": [],
   "source": [
    "# import datetime as dt\n",
    "from datetime import datetime, timedelta"
   ]
  },
  {
   "cell_type": "code",
   "execution_count": 81,
   "id": "8c4b4f86",
   "metadata": {},
   "outputs": [
    {
     "data": {
      "text/plain": [
       "9"
      ]
     },
     "execution_count": 81,
     "metadata": {},
     "output_type": "execute_result"
    }
   ],
   "source": [
    "# 확인 cell\n",
    "lab_top_times.index[0]"
   ]
  },
  {
   "cell_type": "markdown",
   "id": "e715539d",
   "metadata": {},
   "source": []
  },
  {
   "cell_type": "code",
   "execution_count": 82,
   "id": "dd9bf0d8",
   "metadata": {},
   "outputs": [
    {
     "data": {
      "text/plain": [
       "7245"
      ]
     },
     "execution_count": 82,
     "metadata": {},
     "output_type": "execute_result"
    }
   ],
   "source": [
    "# cnt0 = 0\n",
    "term = {}\n",
    "for i,j in enumerate(lab_top_times):\n",
    "    j = sorted(j)\n",
    "    days = datetime.strptime(j[-1],'%Y-%m-%d').date() - datetime.strptime(j[0],'%Y-%m-%d').date()\n",
    "#     days\n",
    "    if days == timedelta(0):\n",
    "#         cnt0 += 1\n",
    "#         if i < 50:\n",
    "#             j\n",
    "        term[lab_top_times.index[i]] = {1:j}\n",
    "#         pass\n",
    "    else:\n",
    "        days = int(str(days).split(' ')[0]) #사용자가 이해하기 쉬운형태로 문자열로\n",
    "#         i,j, days\n",
    "    #     repr(days) # 객체까지 문자열로\n",
    "        term[lab_top_times.index[i]] = {days:j}\n",
    "#     break\n",
    "\n",
    "# cnt0\n",
    "len(term) # 아... 0일이 빠진듯... ===> 0일 머무른거 추가해서 다시 했음!!!!!!!!\n",
    "\n",
    "# cnt0 + len(term) # == 7314여야 함.\n",
    "# https://wangin9.tistory.com/entry/datetime"
   ]
  },
  {
   "cell_type": "code",
   "execution_count": 83,
   "id": "5f3bac1d",
   "metadata": {},
   "outputs": [
    {
     "data": {
      "text/plain": [
       "{148: ['2134-09-11',\n",
       "  '2134-09-12',\n",
       "  '2134-09-13',\n",
       "  '2134-09-14',\n",
       "  '2134-09-15',\n",
       "  '2134-09-16',\n",
       "  '2134-09-18',\n",
       "  '2134-09-19',\n",
       "  '2134-09-20',\n",
       "  '2134-10-01',\n",
       "  '2135-01-10',\n",
       "  '2135-01-31',\n",
       "  '2135-02-01',\n",
       "  '2135-02-03',\n",
       "  '2135-02-04',\n",
       "  '2135-02-06']}"
      ]
     },
     "execution_count": 83,
     "metadata": {},
     "output_type": "execute_result"
    },
    {
     "data": {
      "text/plain": [
       "['2134-09-11',\n",
       " '2134-09-12',\n",
       " '2134-09-13',\n",
       " '2134-09-14',\n",
       " '2134-09-15',\n",
       " '2134-09-16',\n",
       " '2134-09-18',\n",
       " '2134-09-19',\n",
       " '2134-09-20',\n",
       " '2134-10-01',\n",
       " '2135-01-10',\n",
       " '2135-01-31',\n",
       " '2135-02-01',\n",
       " '2135-02-03',\n",
       " '2135-02-04',\n",
       " '2135-02-06']"
      ]
     },
     "execution_count": 83,
     "metadata": {},
     "output_type": "execute_result"
    }
   ],
   "source": [
    "term[21]\n",
    "# term[21].values() # 연속데이터가 아니네..?\n",
    "val = term[21].values()\n",
    "list(val)[0]"
   ]
  },
  {
   "cell_type": "code",
   "execution_count": 84,
   "id": "e4bec1bc",
   "metadata": {},
   "outputs": [
    {
     "data": {
      "text/html": [
       "<div>\n",
       "<style scoped>\n",
       "    .dataframe tbody tr th:only-of-type {\n",
       "        vertical-align: middle;\n",
       "    }\n",
       "\n",
       "    .dataframe tbody tr th {\n",
       "        vertical-align: top;\n",
       "    }\n",
       "\n",
       "    .dataframe thead th {\n",
       "        text-align: right;\n",
       "    }\n",
       "</style>\n",
       "<table border=\"1\" class=\"dataframe\">\n",
       "  <thead>\n",
       "    <tr style=\"text-align: right;\">\n",
       "      <th></th>\n",
       "      <th>SUBJECT_ID</th>\n",
       "      <th>ITEMID</th>\n",
       "      <th>CHARTTIME</th>\n",
       "      <th>TYPE</th>\n",
       "    </tr>\n",
       "  </thead>\n",
       "  <tbody>\n",
       "    <tr>\n",
       "      <th>13</th>\n",
       "      <td>9</td>\n",
       "      <td>50813</td>\n",
       "      <td>2149-11-09</td>\n",
       "      <td>LAB</td>\n",
       "    </tr>\n",
       "    <tr>\n",
       "      <th>52</th>\n",
       "      <td>9</td>\n",
       "      <td>50813</td>\n",
       "      <td>2149-11-10</td>\n",
       "      <td>LAB</td>\n",
       "    </tr>\n",
       "    <tr>\n",
       "      <th>53</th>\n",
       "      <td>9</td>\n",
       "      <td>50813</td>\n",
       "      <td>2149-11-10</td>\n",
       "      <td>LAB</td>\n",
       "    </tr>\n",
       "    <tr>\n",
       "      <th>101</th>\n",
       "      <td>9</td>\n",
       "      <td>50813</td>\n",
       "      <td>2149-11-11</td>\n",
       "      <td>LAB</td>\n",
       "    </tr>\n",
       "    <tr>\n",
       "      <th>169</th>\n",
       "      <td>9</td>\n",
       "      <td>50862</td>\n",
       "      <td>2149-11-13</td>\n",
       "      <td>LAB</td>\n",
       "    </tr>\n",
       "    <tr>\n",
       "      <th>170</th>\n",
       "      <td>9</td>\n",
       "      <td>50862</td>\n",
       "      <td>2149-11-13</td>\n",
       "      <td>LAB</td>\n",
       "    </tr>\n",
       "    <tr>\n",
       "      <th>200</th>\n",
       "      <td>9</td>\n",
       "      <td>50911</td>\n",
       "      <td>2149-11-13</td>\n",
       "      <td>LAB</td>\n",
       "    </tr>\n",
       "    <tr>\n",
       "      <th>201</th>\n",
       "      <td>9</td>\n",
       "      <td>50911</td>\n",
       "      <td>2149-11-13</td>\n",
       "      <td>LAB</td>\n",
       "    </tr>\n",
       "    <tr>\n",
       "      <th>238</th>\n",
       "      <td>9</td>\n",
       "      <td>50911</td>\n",
       "      <td>2149-11-14</td>\n",
       "      <td>LAB</td>\n",
       "    </tr>\n",
       "    <tr>\n",
       "      <th>320</th>\n",
       "      <td>21</td>\n",
       "      <td>50908</td>\n",
       "      <td>2134-09-11</td>\n",
       "      <td>LAB</td>\n",
       "    </tr>\n",
       "  </tbody>\n",
       "</table>\n",
       "</div>"
      ],
      "text/plain": [
       "     SUBJECT_ID  ITEMID   CHARTTIME TYPE\n",
       "13            9   50813  2149-11-09  LAB\n",
       "52            9   50813  2149-11-10  LAB\n",
       "53            9   50813  2149-11-10  LAB\n",
       "101           9   50813  2149-11-11  LAB\n",
       "169           9   50862  2149-11-13  LAB\n",
       "170           9   50862  2149-11-13  LAB\n",
       "200           9   50911  2149-11-13  LAB\n",
       "201           9   50911  2149-11-13  LAB\n",
       "238           9   50911  2149-11-14  LAB\n",
       "320          21   50908  2134-09-11  LAB"
      ]
     },
     "execution_count": 84,
     "metadata": {},
     "output_type": "execute_result"
    }
   ],
   "source": [
    "lab_top_df[:10]"
   ]
  },
  {
   "cell_type": "code",
   "execution_count": 85,
   "id": "828aa5c3",
   "metadata": {},
   "outputs": [],
   "source": [
    "lab_item = lab_top_df.groupby(['SUBJECT_ID', 'CHARTTIME'])['ITEMID'].unique()"
   ]
  },
  {
   "cell_type": "code",
   "execution_count": 86,
   "id": "e5415ac0",
   "metadata": {},
   "outputs": [
    {
     "data": {
      "text/html": [
       "<div>\n",
       "<style scoped>\n",
       "    .dataframe tbody tr th:only-of-type {\n",
       "        vertical-align: middle;\n",
       "    }\n",
       "\n",
       "    .dataframe tbody tr th {\n",
       "        vertical-align: top;\n",
       "    }\n",
       "\n",
       "    .dataframe thead th {\n",
       "        text-align: right;\n",
       "    }\n",
       "</style>\n",
       "<table border=\"1\" class=\"dataframe\">\n",
       "  <thead>\n",
       "    <tr style=\"text-align: right;\">\n",
       "      <th></th>\n",
       "      <th></th>\n",
       "      <th>ITEMID</th>\n",
       "    </tr>\n",
       "    <tr>\n",
       "      <th>SUBJECT_ID</th>\n",
       "      <th>CHARTTIME</th>\n",
       "      <th></th>\n",
       "    </tr>\n",
       "  </thead>\n",
       "  <tbody>\n",
       "    <tr>\n",
       "      <th rowspan=\"5\" valign=\"top\">9</th>\n",
       "      <th>2149-11-09</th>\n",
       "      <td>[50813]</td>\n",
       "    </tr>\n",
       "    <tr>\n",
       "      <th>2149-11-10</th>\n",
       "      <td>[50813]</td>\n",
       "    </tr>\n",
       "    <tr>\n",
       "      <th>2149-11-11</th>\n",
       "      <td>[50813]</td>\n",
       "    </tr>\n",
       "    <tr>\n",
       "      <th>2149-11-13</th>\n",
       "      <td>[50862, 50911]</td>\n",
       "    </tr>\n",
       "    <tr>\n",
       "      <th>2149-11-14</th>\n",
       "      <td>[50911]</td>\n",
       "    </tr>\n",
       "    <tr>\n",
       "      <th>...</th>\n",
       "      <th>...</th>\n",
       "      <td>...</td>\n",
       "    </tr>\n",
       "    <tr>\n",
       "      <th rowspan=\"5\" valign=\"top\">99985</th>\n",
       "      <th>2181-01-29</th>\n",
       "      <td>[50813, 50862]</td>\n",
       "    </tr>\n",
       "    <tr>\n",
       "      <th>2181-01-30</th>\n",
       "      <td>[50862]</td>\n",
       "    </tr>\n",
       "    <tr>\n",
       "      <th>2181-02-02</th>\n",
       "      <td>[51482]</td>\n",
       "    </tr>\n",
       "    <tr>\n",
       "      <th>2181-02-03</th>\n",
       "      <td>[51482]</td>\n",
       "    </tr>\n",
       "    <tr>\n",
       "      <th>2181-02-11</th>\n",
       "      <td>[50862]</td>\n",
       "    </tr>\n",
       "  </tbody>\n",
       "</table>\n",
       "<p>65894 rows × 1 columns</p>\n",
       "</div>"
      ],
      "text/plain": [
       "                               ITEMID\n",
       "SUBJECT_ID CHARTTIME                 \n",
       "9          2149-11-09         [50813]\n",
       "           2149-11-10         [50813]\n",
       "           2149-11-11         [50813]\n",
       "           2149-11-13  [50862, 50911]\n",
       "           2149-11-14         [50911]\n",
       "...                               ...\n",
       "99985      2181-01-29  [50813, 50862]\n",
       "           2181-01-30         [50862]\n",
       "           2181-02-02         [51482]\n",
       "           2181-02-03         [51482]\n",
       "           2181-02-11         [50862]\n",
       "\n",
       "[65894 rows x 1 columns]"
      ]
     },
     "execution_count": 86,
     "metadata": {},
     "output_type": "execute_result"
    }
   ],
   "source": [
    "pd.DataFrame(lab_item)"
   ]
  },
  {
   "cell_type": "code",
   "execution_count": 87,
   "id": "440ff6c5",
   "metadata": {},
   "outputs": [
    {
     "data": {
      "text/plain": [
       "10"
      ]
     },
     "execution_count": 87,
     "metadata": {},
     "output_type": "execute_result"
    }
   ],
   "source": [
    "# 확인 cell\n",
    "lab_top_df['ITEMID'].nunique() #이미 10개인데.... 아니 d-10~ d-1까지만 하면 될 것 같은데..."
   ]
  },
  {
   "cell_type": "code",
   "execution_count": 88,
   "id": "6475e462",
   "metadata": {},
   "outputs": [
    {
     "data": {
      "text/plain": [
       "SUBJECT_ID\n",
       "9        [2149-11-09, 2149-11-10, 2149-11-11, 2149-11-1...\n",
       "21       [2134-09-11, 2134-09-12, 2134-09-13, 2134-09-1...\n",
       "31                    [2108-08-22, 2108-08-26, 2108-08-29]\n",
       "36       [2131-05-12, 2131-05-13, 2131-05-16, 2131-05-1...\n",
       "37       [2183-08-21, 2183-08-22, 2183-08-23, 2183-08-2...\n",
       "                               ...                        \n",
       "99863                 [2142-04-13, 2142-04-25, 2142-05-03]\n",
       "99934                             [2110-02-28, 2110-03-01]\n",
       "99937                                         [2128-05-11]\n",
       "99944                                         [2161-02-16]\n",
       "99985    [2181-01-29, 2181-01-30, 2181-02-02, 2181-02-0...\n",
       "Name: CHARTTIME, Length: 7245, dtype: object"
      ]
     },
     "execution_count": 88,
     "metadata": {},
     "output_type": "execute_result"
    }
   ],
   "source": [
    "lab_top_times"
   ]
  },
  {
   "cell_type": "markdown",
   "id": "739d294b",
   "metadata": {},
   "source": [
    "## 다시, 아.... zero array...."
   ]
  },
  {
   "cell_type": "markdown",
   "id": "a9a95cac",
   "metadata": {},
   "source": [
    "### lab_top_times 바뀜..."
   ]
  },
  {
   "cell_type": "code",
   "execution_count": 89,
   "id": "dc3991fe",
   "metadata": {},
   "outputs": [],
   "source": [
    "# lab_top_times = lab_top_df.groupby(['ITEMID'])['CHARTTIME'].unique() #아 내가 이걸 설마 바꿨었구나... 바꿀거면 코드도 바꿨어야지... 당황했잖아..."
   ]
  },
  {
   "cell_type": "markdown",
   "id": "ff6ab19c",
   "metadata": {},
   "source": [
    "#### 바로 아래 cell 버려"
   ]
  },
  {
   "cell_type": "code",
   "execution_count": 91,
   "id": "9555c558",
   "metadata": {},
   "outputs": [
    {
     "data": {
      "text/plain": [
       "['2149-11-09', '2149-11-10', '2149-11-11', '2149-11-13', '2149-11-14']"
      ]
     },
     "execution_count": 91,
     "metadata": {},
     "output_type": "execute_result"
    },
    {
     "data": {
      "text/plain": [
       "datetime.date(2149, 11, 4)"
      ]
     },
     "execution_count": 91,
     "metadata": {},
     "output_type": "execute_result"
    },
    {
     "data": {
      "text/plain": [
       "'no'"
      ]
     },
     "execution_count": 91,
     "metadata": {},
     "output_type": "execute_result"
    },
    {
     "data": {
      "text/plain": [
       "datetime.date(2149, 11, 5)"
      ]
     },
     "execution_count": 91,
     "metadata": {},
     "output_type": "execute_result"
    },
    {
     "data": {
      "text/plain": [
       "'no'"
      ]
     },
     "execution_count": 91,
     "metadata": {},
     "output_type": "execute_result"
    },
    {
     "data": {
      "text/plain": [
       "datetime.date(2149, 11, 6)"
      ]
     },
     "execution_count": 91,
     "metadata": {},
     "output_type": "execute_result"
    },
    {
     "data": {
      "text/plain": [
       "'no'"
      ]
     },
     "execution_count": 91,
     "metadata": {},
     "output_type": "execute_result"
    },
    {
     "data": {
      "text/plain": [
       "datetime.date(2149, 11, 7)"
      ]
     },
     "execution_count": 91,
     "metadata": {},
     "output_type": "execute_result"
    },
    {
     "data": {
      "text/plain": [
       "'no'"
      ]
     },
     "execution_count": 91,
     "metadata": {},
     "output_type": "execute_result"
    },
    {
     "data": {
      "text/plain": [
       "datetime.date(2149, 11, 8)"
      ]
     },
     "execution_count": 91,
     "metadata": {},
     "output_type": "execute_result"
    },
    {
     "data": {
      "text/plain": [
       "'no'"
      ]
     },
     "execution_count": 91,
     "metadata": {},
     "output_type": "execute_result"
    },
    {
     "data": {
      "text/plain": [
       "datetime.date(2149, 11, 9)"
      ]
     },
     "execution_count": 91,
     "metadata": {},
     "output_type": "execute_result"
    },
    {
     "data": {
      "text/plain": [
       "'yes'"
      ]
     },
     "execution_count": 91,
     "metadata": {},
     "output_type": "execute_result"
    },
    {
     "data": {
      "text/plain": [
       "datetime.date(2149, 11, 10)"
      ]
     },
     "execution_count": 91,
     "metadata": {},
     "output_type": "execute_result"
    },
    {
     "data": {
      "text/plain": [
       "'yes'"
      ]
     },
     "execution_count": 91,
     "metadata": {},
     "output_type": "execute_result"
    },
    {
     "data": {
      "text/plain": [
       "datetime.date(2149, 11, 11)"
      ]
     },
     "execution_count": 91,
     "metadata": {},
     "output_type": "execute_result"
    },
    {
     "data": {
      "text/plain": [
       "'yes'"
      ]
     },
     "execution_count": 91,
     "metadata": {},
     "output_type": "execute_result"
    },
    {
     "data": {
      "text/plain": [
       "datetime.date(2149, 11, 12)"
      ]
     },
     "execution_count": 91,
     "metadata": {},
     "output_type": "execute_result"
    },
    {
     "data": {
      "text/plain": [
       "'no'"
      ]
     },
     "execution_count": 91,
     "metadata": {},
     "output_type": "execute_result"
    },
    {
     "data": {
      "text/plain": [
       "datetime.date(2149, 11, 13)"
      ]
     },
     "execution_count": 91,
     "metadata": {},
     "output_type": "execute_result"
    },
    {
     "data": {
      "text/plain": [
       "'yes'"
      ]
     },
     "execution_count": 91,
     "metadata": {},
     "output_type": "execute_result"
    }
   ],
   "source": [
    "# 버..려... test cell...\n",
    "# term = {}\n",
    "for i,j in enumerate(lab_top_times):\n",
    "    j = sorted(j)\n",
    "    j\n",
    "    dday = datetime.strptime(j[-1],'%Y-%m-%d').date()\n",
    "#     dday\n",
    "    \n",
    "    days = dday - datetime.strptime(j[0],'%Y-%m-%d').date()\n",
    "    \n",
    "    d10 = (dday - timedelta(10)).strftime('%Y-%m-%d')\n",
    "#     d10\n",
    "    \n",
    "    if d10 in j:\n",
    "        'yes'\n",
    "    else:\n",
    "        for d in list(range(1,11))[::-1]:\n",
    "            dday - timedelta(d)\n",
    "            if (dday - timedelta(d)).strftime('%Y-%m-%d') in j:\n",
    "                'yes'\n",
    "            else:\n",
    "                'no'\n",
    "#     if days == timedelta(0):\n",
    "#         pass\n",
    "# #         term[lab_top_times.index[i]] = {1:j}\n",
    "# #         lab_top_times.index[i]\n",
    "#     else:\n",
    "#         days = int(str(days).split(' ')[0]) #사용자가 이해하기 쉬운형태로 문자열로\n",
    "#         days\n",
    "# #         term[lab_top_times.index[i]] = {days:j}\n",
    "    break"
   ]
  },
  {
   "cell_type": "markdown",
   "id": "e96998e0",
   "metadata": {},
   "source": [
    "## 다시, 아... zero array.... 이어서..."
   ]
  },
  {
   "cell_type": "code",
   "execution_count": 92,
   "id": "af4594be",
   "metadata": {
    "scrolled": true
   },
   "outputs": [
    {
     "data": {
      "text/plain": [
       "array([[[0., 0., 0., ..., 0., 0., 0.],\n",
       "        [0., 0., 0., ..., 0., 0., 0.],\n",
       "        [0., 0., 0., ..., 0., 0., 0.],\n",
       "        ...,\n",
       "        [1., 1., 1., ..., 1., 1., 1.],\n",
       "        [0., 0., 0., ..., 0., 0., 0.],\n",
       "        [1., 1., 1., ..., 1., 1., 1.]],\n",
       "\n",
       "       [[0., 0., 0., ..., 0., 0., 0.],\n",
       "        [0., 0., 0., ..., 0., 0., 0.],\n",
       "        [0., 0., 0., ..., 0., 0., 0.],\n",
       "        ...,\n",
       "        [1., 1., 1., ..., 1., 1., 1.],\n",
       "        [1., 1., 1., ..., 1., 1., 1.],\n",
       "        [0., 0., 0., ..., 0., 0., 0.]],\n",
       "\n",
       "       [[0., 0., 0., ..., 0., 0., 0.],\n",
       "        [0., 0., 0., ..., 0., 0., 0.],\n",
       "        [0., 0., 0., ..., 0., 0., 0.],\n",
       "        ...,\n",
       "        [1., 1., 1., ..., 1., 1., 1.],\n",
       "        [0., 0., 0., ..., 0., 0., 0.],\n",
       "        [0., 0., 0., ..., 0., 0., 0.]],\n",
       "\n",
       "       ...,\n",
       "\n",
       "       [[0., 0., 0., ..., 0., 0., 0.],\n",
       "        [0., 0., 0., ..., 0., 0., 0.],\n",
       "        [0., 0., 0., ..., 0., 0., 0.],\n",
       "        ...,\n",
       "        [0., 0., 0., ..., 0., 0., 0.],\n",
       "        [0., 0., 0., ..., 0., 0., 0.],\n",
       "        [0., 0., 0., ..., 0., 0., 0.]],\n",
       "\n",
       "       [[0., 0., 0., ..., 0., 0., 0.],\n",
       "        [0., 0., 0., ..., 0., 0., 0.],\n",
       "        [0., 0., 0., ..., 0., 0., 0.],\n",
       "        ...,\n",
       "        [0., 0., 0., ..., 0., 0., 0.],\n",
       "        [0., 0., 0., ..., 0., 0., 0.],\n",
       "        [0., 0., 0., ..., 0., 0., 0.]],\n",
       "\n",
       "       [[0., 0., 0., ..., 0., 0., 0.],\n",
       "        [1., 1., 1., ..., 1., 1., 1.],\n",
       "        [1., 1., 1., ..., 1., 1., 1.],\n",
       "        ...,\n",
       "        [0., 0., 0., ..., 0., 0., 0.],\n",
       "        [0., 0., 0., ..., 0., 0., 0.],\n",
       "        [0., 0., 0., ..., 0., 0., 0.]]])"
      ]
     },
     "execution_count": 92,
     "metadata": {},
     "output_type": "execute_result"
    }
   ],
   "source": [
    "# 일단 환자별로 d-1~d-10 존재하면 해당 날짜 row에 1로 표시.\n",
    "\n",
    "lab_top_arr = np.zeros((lab_top_df['SUBJECT_ID'].nunique(), 10, 10))\n",
    "\n",
    "for i,j in enumerate(lab_top_times):\n",
    "    j = sorted(j)\n",
    "#     j\n",
    "    dday = datetime.strptime(j[-1],'%Y-%m-%d').date()\n",
    "    \n",
    "    days = dday - datetime.strptime(j[0],'%Y-%m-%d').date()\n",
    "    \n",
    "    cnt = 0\n",
    "    for d in list(range(1,11))[::-1]: #d-10부터 적혀야함. cnt로 해결!\n",
    "#         dday - timedelta(d)\n",
    "        if (dday - timedelta(d)).strftime('%Y-%m-%d') in j:\n",
    "            lab_top_arr[i,cnt] = 1 #환자의 day시점을 1로 채워주기.\n",
    "            cnt += 1\n",
    "        else:\n",
    "            cnt += 1\n",
    "            pass\n",
    "#     break\n",
    "# cnt\n",
    "# lab_top_arr[0] #0번째 환자 확인\n",
    "lab_top_arr"
   ]
  },
  {
   "cell_type": "code",
   "execution_count": 93,
   "id": "7ae21962",
   "metadata": {
    "scrolled": true
   },
   "outputs": [
    {
     "data": {
      "text/plain": [
       "MultiIndex([(    9, '2149-11-09'),\n",
       "            (    9, '2149-11-10'),\n",
       "            (    9, '2149-11-11'),\n",
       "            (    9, '2149-11-13'),\n",
       "            (    9, '2149-11-14'),\n",
       "            (   21, '2134-09-11'),\n",
       "            (   21, '2134-09-12'),\n",
       "            (   21, '2134-09-13'),\n",
       "            (   21, '2134-09-14'),\n",
       "            (   21, '2134-09-15'),\n",
       "            ...\n",
       "            (99863, '2142-05-03'),\n",
       "            (99934, '2110-02-28'),\n",
       "            (99934, '2110-03-01'),\n",
       "            (99937, '2128-05-11'),\n",
       "            (99944, '2161-02-16'),\n",
       "            (99985, '2181-01-29'),\n",
       "            (99985, '2181-01-30'),\n",
       "            (99985, '2181-02-02'),\n",
       "            (99985, '2181-02-03'),\n",
       "            (99985, '2181-02-11')],\n",
       "           names=['SUBJECT_ID', 'CHARTTIME'], length=65894)"
      ]
     },
     "execution_count": 93,
     "metadata": {},
     "output_type": "execute_result"
    }
   ],
   "source": [
    "lab_item_df = pd.DataFrame(lab_item)#.index()#('CHARTTIME')\n",
    "lab_item_df.index #아.... .index()는 안되고 .index는 되고..?ㅋ..."
   ]
  },
  {
   "cell_type": "code",
   "execution_count": 94,
   "id": "f629d0a2",
   "metadata": {},
   "outputs": [
    {
     "data": {
      "text/plain": [
       "ITEMID    [50862, 50911]\n",
       "Name: (9, 2149-11-13), dtype: object"
      ]
     },
     "execution_count": 94,
     "metadata": {},
     "output_type": "execute_result"
    },
    {
     "data": {
      "text/html": [
       "<div>\n",
       "<style scoped>\n",
       "    .dataframe tbody tr th:only-of-type {\n",
       "        vertical-align: middle;\n",
       "    }\n",
       "\n",
       "    .dataframe tbody tr th {\n",
       "        vertical-align: top;\n",
       "    }\n",
       "\n",
       "    .dataframe thead th {\n",
       "        text-align: right;\n",
       "    }\n",
       "</style>\n",
       "<table border=\"1\" class=\"dataframe\">\n",
       "  <thead>\n",
       "    <tr style=\"text-align: right;\">\n",
       "      <th></th>\n",
       "      <th></th>\n",
       "      <th>ITEMID</th>\n",
       "    </tr>\n",
       "    <tr>\n",
       "      <th>SUBJECT_ID</th>\n",
       "      <th>CHARTTIME</th>\n",
       "      <th></th>\n",
       "    </tr>\n",
       "  </thead>\n",
       "  <tbody>\n",
       "    <tr>\n",
       "      <th rowspan=\"5\" valign=\"top\">9</th>\n",
       "      <th>2149-11-09</th>\n",
       "      <td>[50813]</td>\n",
       "    </tr>\n",
       "    <tr>\n",
       "      <th>2149-11-10</th>\n",
       "      <td>[50813]</td>\n",
       "    </tr>\n",
       "    <tr>\n",
       "      <th>2149-11-11</th>\n",
       "      <td>[50813]</td>\n",
       "    </tr>\n",
       "    <tr>\n",
       "      <th>2149-11-13</th>\n",
       "      <td>[50862, 50911]</td>\n",
       "    </tr>\n",
       "    <tr>\n",
       "      <th>2149-11-14</th>\n",
       "      <td>[50911]</td>\n",
       "    </tr>\n",
       "    <tr>\n",
       "      <th>...</th>\n",
       "      <th>...</th>\n",
       "      <td>...</td>\n",
       "    </tr>\n",
       "    <tr>\n",
       "      <th rowspan=\"5\" valign=\"top\">99985</th>\n",
       "      <th>2181-01-29</th>\n",
       "      <td>[50813, 50862]</td>\n",
       "    </tr>\n",
       "    <tr>\n",
       "      <th>2181-01-30</th>\n",
       "      <td>[50862]</td>\n",
       "    </tr>\n",
       "    <tr>\n",
       "      <th>2181-02-02</th>\n",
       "      <td>[51482]</td>\n",
       "    </tr>\n",
       "    <tr>\n",
       "      <th>2181-02-03</th>\n",
       "      <td>[51482]</td>\n",
       "    </tr>\n",
       "    <tr>\n",
       "      <th>2181-02-11</th>\n",
       "      <td>[50862]</td>\n",
       "    </tr>\n",
       "  </tbody>\n",
       "</table>\n",
       "<p>65894 rows × 1 columns</p>\n",
       "</div>"
      ],
      "text/plain": [
       "                               ITEMID\n",
       "SUBJECT_ID CHARTTIME                 \n",
       "9          2149-11-09         [50813]\n",
       "           2149-11-10         [50813]\n",
       "           2149-11-11         [50813]\n",
       "           2149-11-13  [50862, 50911]\n",
       "           2149-11-14         [50911]\n",
       "...                               ...\n",
       "99985      2181-01-29  [50813, 50862]\n",
       "           2181-01-30         [50862]\n",
       "           2181-02-02         [51482]\n",
       "           2181-02-03         [51482]\n",
       "           2181-02-11         [50862]\n",
       "\n",
       "[65894 rows x 1 columns]"
      ]
     },
     "execution_count": 94,
     "metadata": {},
     "output_type": "execute_result"
    }
   ],
   "source": [
    "\n",
    "lab_item_df.iloc[3]\n",
    "lab_item_df"
   ]
  },
  {
   "cell_type": "code",
   "execution_count": null,
   "id": "c2769adb",
   "metadata": {},
   "outputs": [],
   "source": []
  },
  {
   "cell_type": "code",
   "execution_count": 95,
   "id": "861a5bd5",
   "metadata": {},
   "outputs": [
    {
     "data": {
      "text/plain": [
       "'2149-11-09'"
      ]
     },
     "execution_count": 95,
     "metadata": {},
     "output_type": "execute_result"
    },
    {
     "data": {
      "text/plain": [
       "(9, '2149-11-09')"
      ]
     },
     "execution_count": 95,
     "metadata": {},
     "output_type": "execute_result"
    },
    {
     "data": {
      "text/plain": [
       "3"
      ]
     },
     "execution_count": 95,
     "metadata": {},
     "output_type": "execute_result"
    },
    {
     "data": {
      "text/plain": [
       "1"
      ]
     },
     "execution_count": 95,
     "metadata": {},
     "output_type": "execute_result"
    }
   ],
   "source": [
    "cnt = 0 # 전체 큰 index용...\n",
    "for i,j in enumerate(lab_top_times):\n",
    "    cnt_day = 0\n",
    "    for k in range(len(j)):\n",
    "        lab_item_df.index[cnt][1]\n",
    "        lab_item_df.index[cnt]\n",
    "#         lab_item_df.iloc[cnt].values[0][0] #itemid\n",
    "        idx = lab_top.index(lab_item_df.iloc[cnt].values[0][0]) #itemid의 lab feat내 FI 순서\n",
    "        idx\n",
    "#         lab_top_arr[i][cnt_day][idx]\n",
    "        cnt += 1\n",
    "        break\n",
    "    break\n",
    "# lab_item_df.index[0][1]\n",
    "cnt"
   ]
  },
  {
   "cell_type": "markdown",
   "id": "65f5f9d7",
   "metadata": {},
   "source": [
    "## 어렵게 생각하지 말고 다시........"
   ]
  },
  {
   "cell_type": "code",
   "execution_count": 96,
   "id": "d7de4924",
   "metadata": {},
   "outputs": [
    {
     "data": {
      "text/plain": [
       "ITEMID    [50813]\n",
       "Name: (9, 2149-11-09), dtype: object"
      ]
     },
     "execution_count": 96,
     "metadata": {},
     "output_type": "execute_result"
    }
   ],
   "source": [
    "lab_item_df.iloc[0]"
   ]
  },
  {
   "cell_type": "code",
   "execution_count": 97,
   "id": "9c081a78",
   "metadata": {},
   "outputs": [
    {
     "data": {
      "text/plain": [
       "SUBJECT_ID\n",
       "9        [2149-11-09, 2149-11-10, 2149-11-11, 2149-11-1...\n",
       "21       [2134-09-11, 2134-09-12, 2134-09-13, 2134-09-1...\n",
       "31                    [2108-08-22, 2108-08-26, 2108-08-29]\n",
       "36       [2131-05-12, 2131-05-13, 2131-05-16, 2131-05-1...\n",
       "37       [2183-08-21, 2183-08-22, 2183-08-23, 2183-08-2...\n",
       "                               ...                        \n",
       "99863                 [2142-04-13, 2142-04-25, 2142-05-03]\n",
       "99934                             [2110-02-28, 2110-03-01]\n",
       "99937                                         [2128-05-11]\n",
       "99944                                         [2161-02-16]\n",
       "99985    [2181-01-29, 2181-01-30, 2181-02-02, 2181-02-0...\n",
       "Name: CHARTTIME, Length: 7245, dtype: object"
      ]
     },
     "execution_count": 97,
     "metadata": {},
     "output_type": "execute_result"
    }
   ],
   "source": [
    "lab_top_times"
   ]
  },
  {
   "cell_type": "code",
   "execution_count": 98,
   "id": "01cf8bb7",
   "metadata": {},
   "outputs": [
    {
     "data": {
      "text/plain": [
       "('j', ['2149-11-09', '2149-11-10', '2149-11-11', '2149-11-13', '2149-11-14'])"
      ]
     },
     "execution_count": 98,
     "metadata": {},
     "output_type": "execute_result"
    },
    {
     "ename": "TypeError",
     "evalue": "'Index' object is not callable",
     "output_type": "error",
     "traceback": [
      "\u001b[1;31m---------------------------------------------------------------------------\u001b[0m",
      "\u001b[1;31mTypeError\u001b[0m                                 Traceback (most recent call last)",
      "\u001b[1;32m<ipython-input-98-992271145556>\u001b[0m in \u001b[0;36m<module>\u001b[1;34m\u001b[0m\n\u001b[0;32m     12\u001b[0m             \u001b[0mlab_top_arr\u001b[0m\u001b[1;33m[\u001b[0m\u001b[0mi\u001b[0m\u001b[1;33m,\u001b[0m\u001b[0mcnt\u001b[0m\u001b[1;33m]\u001b[0m \u001b[1;33m=\u001b[0m \u001b[1;36m1\u001b[0m \u001b[1;31m#환자의 day시점을 1로 채워주기.\u001b[0m\u001b[1;33m\u001b[0m\u001b[1;33m\u001b[0m\u001b[0m\n\u001b[0;32m     13\u001b[0m \u001b[1;31m####################################################################################################\u001b[0m\u001b[1;33m\u001b[0m\u001b[1;33m\u001b[0m\u001b[1;33m\u001b[0m\u001b[0m\n\u001b[1;32m---> 14\u001b[1;33m             \u001b[0mlab_item_df\u001b[0m\u001b[1;33m.\u001b[0m\u001b[0miloc\u001b[0m\u001b[1;33m[\u001b[0m\u001b[0mi\u001b[0m\u001b[1;33m]\u001b[0m\u001b[1;33m.\u001b[0m\u001b[0mindex\u001b[0m\u001b[1;33m(\u001b[0m\u001b[0mtt\u001b[0m\u001b[1;33m)\u001b[0m\u001b[1;33m\u001b[0m\u001b[1;33m\u001b[0m\u001b[0m\n\u001b[0m\u001b[0;32m     15\u001b[0m \u001b[1;31m####################################################################################################\u001b[0m\u001b[1;33m\u001b[0m\u001b[1;33m\u001b[0m\u001b[1;33m\u001b[0m\u001b[0m\n\u001b[0;32m     16\u001b[0m             \u001b[0mcnt\u001b[0m \u001b[1;33m+=\u001b[0m \u001b[1;36m1\u001b[0m\u001b[1;33m\u001b[0m\u001b[1;33m\u001b[0m\u001b[0m\n",
      "\u001b[1;31mTypeError\u001b[0m: 'Index' object is not callable"
     ]
    }
   ],
   "source": [
    "lab_top_arr = np.zeros((lab_top_df['SUBJECT_ID'].nunique(), 10, 10))\n",
    "\n",
    "for i,j in enumerate(lab_top_times):\n",
    "    j = sorted(j)\n",
    "    'j',j\n",
    "    dday = datetime.strptime(j[-1],'%Y-%m-%d').date()\n",
    "    \n",
    "    cnt = 0\n",
    "    for d in list(range(1,11))[::-1]: #d-10부터 적혀야함. cnt로 해결!\n",
    "        tt = (dday - timedelta(d)).strftime('%Y-%m-%d')\n",
    "        if tt in j:\n",
    "            lab_top_arr[i,cnt] = 1 #환자의 day시점을 1로 채워주기.\n",
    "####################################################################################################\n",
    "            lab_item_df.iloc[i].index(tt)\n",
    "####################################################################################################            \n",
    "            cnt += 1\n",
    "        else:\n",
    "            cnt += 1\n",
    "            pass\n",
    "    break\n",
    "# cnt\n",
    "lab_top_arr[0] #0번째 환자 확인\n",
    "# lab_top_arr"
   ]
  },
  {
   "cell_type": "code",
   "execution_count": 470,
   "id": "30fc3f7d",
   "metadata": {},
   "outputs": [
    {
     "data": {
      "text/plain": [
       "array([0., 0., 0., 0., 0., 0., 0., 0., 0., 0.])"
      ]
     },
     "execution_count": 470,
     "metadata": {},
     "output_type": "execute_result"
    }
   ],
   "source": [
    "lab_top_arr[0][0]#[]"
   ]
  },
  {
   "cell_type": "code",
   "execution_count": 466,
   "id": "6578e68b",
   "metadata": {},
   "outputs": [
    {
     "data": {
      "text/plain": [
       "[51003, 51148, 50868, 50813, 51120, 50908, 51482, 50917, 50862, 50911]"
      ]
     },
     "execution_count": 466,
     "metadata": {},
     "output_type": "execute_result"
    },
    {
     "data": {
      "text/plain": [
       "0"
      ]
     },
     "execution_count": 466,
     "metadata": {},
     "output_type": "execute_result"
    }
   ],
   "source": [
    "lab_top # 이건 중요한 순서니까 순서 바뀌면 안됨. 정렬 금지.\n",
    "# sorted(lab_top)\n",
    "# np.array(lab_top)[np.where(51148)]\n",
    "lab_top.index(51003) # 위치 반환"
   ]
  },
  {
   "cell_type": "code",
   "execution_count": 369,
   "id": "2fdecf44",
   "metadata": {},
   "outputs": [
    {
     "data": {
      "text/plain": [
       "[1, 2, 3, 4, 5, 6, 7, 8, 9, 10]"
      ]
     },
     "execution_count": 369,
     "metadata": {},
     "output_type": "execute_result"
    }
   ],
   "source": [
    "list(range(1,11))"
   ]
  },
  {
   "cell_type": "markdown",
   "id": "6be36832",
   "metadata": {},
   "source": [
    "### shape = (환자nunique, 10, 10)으로 np.zeros 만들기...\n",
    "### dday를 기준으로 d-10이 있으면 1로 채우기, 없으면 0 (냅두기)"
   ]
  },
  {
   "cell_type": "code",
   "execution_count": 398,
   "id": "3d779829",
   "metadata": {},
   "outputs": [],
   "source": [
    "lab_top_arr = np.zeros((lab_top_df['SUBJECT_ID'].nunique(), 10, 10))"
   ]
  },
  {
   "cell_type": "code",
   "execution_count": 399,
   "id": "680f8bbe",
   "metadata": {},
   "outputs": [
    {
     "data": {
      "text/plain": [
       "(7314, 10, 10)"
      ]
     },
     "execution_count": 399,
     "metadata": {},
     "output_type": "execute_result"
    }
   ],
   "source": [
    "lab_top_arr.shape"
   ]
  },
  {
   "cell_type": "code",
   "execution_count": 397,
   "id": "dc4cec0e",
   "metadata": {},
   "outputs": [
    {
     "data": {
      "text/plain": [
       "array([[0., 0., 0., 0., 0., 0., 0., 0., 0., 0.],\n",
       "       [0., 0., 0., 0., 0., 0., 0., 0., 0., 0.],\n",
       "       [0., 0., 0., 0., 0., 0., 0., 0., 0., 0.],\n",
       "       [0., 0., 0., 0., 0., 0., 0., 0., 0., 0.],\n",
       "       [0., 0., 0., 0., 0., 0., 0., 0., 0., 0.],\n",
       "       [0., 0., 0., 0., 0., 0., 0., 0., 0., 0.],\n",
       "       [0., 0., 0., 0., 0., 0., 0., 0., 0., 0.],\n",
       "       [0., 0., 0., 0., 0., 0., 0., 0., 0., 0.],\n",
       "       [0., 0., 0., 0., 0., 0., 0., 0., 0., 0.],\n",
       "       [0., 0., 0., 0., 0., 0., 0., 0., 0., 0.]])"
      ]
     },
     "execution_count": 397,
     "metadata": {},
     "output_type": "execute_result"
    },
    {
     "data": {
      "text/plain": [
       "array([0., 0., 0., 0., 0., 0., 0., 0., 0., 0.])"
      ]
     },
     "execution_count": 397,
     "metadata": {},
     "output_type": "execute_result"
    },
    {
     "data": {
      "text/plain": [
       "array([[1., 1., 1., 1., 1., 1., 1., 1., 1., 1.],\n",
       "       [0., 0., 0., 0., 0., 0., 0., 0., 0., 0.],\n",
       "       [0., 0., 0., 0., 0., 0., 0., 0., 0., 0.],\n",
       "       [0., 0., 0., 0., 0., 0., 0., 0., 0., 0.],\n",
       "       [0., 0., 0., 0., 0., 0., 0., 0., 0., 0.],\n",
       "       [0., 0., 0., 0., 0., 0., 0., 0., 0., 0.],\n",
       "       [0., 0., 0., 0., 0., 0., 0., 0., 0., 0.],\n",
       "       [0., 0., 0., 0., 0., 0., 0., 0., 0., 0.],\n",
       "       [0., 0., 0., 0., 0., 0., 0., 0., 0., 0.],\n",
       "       [0., 0., 0., 0., 0., 0., 0., 0., 0., 0.]])"
      ]
     },
     "execution_count": 397,
     "metadata": {},
     "output_type": "execute_result"
    }
   ],
   "source": [
    "# # test cell\n",
    "# lab_top_arr[0]# 맨 앞 환자\n",
    "# lab_top_arr[0,0] # day 한 줄\n",
    "# lab_top_arr[0,0] = 1 # day 한 줄 1로 채움.\n",
    "# lab_top_arr[0]"
   ]
  },
  {
   "cell_type": "code",
   "execution_count": null,
   "id": "a4f74c33",
   "metadata": {},
   "outputs": [],
   "source": []
  },
  {
   "cell_type": "code",
   "execution_count": 235,
   "id": "06e9f2c2",
   "metadata": {},
   "outputs": [
    {
     "data": {
      "text/plain": [
       "datetime.date(2022, 2, 12)"
      ]
     },
     "execution_count": 235,
     "metadata": {},
     "output_type": "execute_result"
    }
   ],
   "source": [
    "# test cell\n",
    "datetime.today().date()-timedelta(1)"
   ]
  },
  {
   "cell_type": "code",
   "execution_count": 236,
   "id": "3c18f1bf",
   "metadata": {},
   "outputs": [
    {
     "ename": "TypeError",
     "evalue": "unsupported type for timedelta days component: datetime.date",
     "output_type": "error",
     "traceback": [
      "\u001b[0;31m---------------------------------------------------------------------------\u001b[0m",
      "\u001b[0;31mTypeError\u001b[0m                                 Traceback (most recent call last)",
      "\u001b[0;32m<ipython-input-236-bd6954ed9a30>\u001b[0m in \u001b[0;36m<module>\u001b[0;34m\u001b[0m\n\u001b[0;32m----> 1\u001b[0;31m \u001b[0mtimedelta\u001b[0m\u001b[0;34m(\u001b[0m\u001b[0mdatetime\u001b[0m\u001b[0;34m.\u001b[0m\u001b[0mtoday\u001b[0m\u001b[0;34m(\u001b[0m\u001b[0;34m)\u001b[0m\u001b[0;34m.\u001b[0m\u001b[0mdate\u001b[0m\u001b[0;34m(\u001b[0m\u001b[0;34m)\u001b[0m\u001b[0;34m)\u001b[0m\u001b[0;34m\u001b[0m\u001b[0;34m\u001b[0m\u001b[0m\n\u001b[0m",
      "\u001b[0;31mTypeError\u001b[0m: unsupported type for timedelta days component: datetime.date"
     ]
    }
   ],
   "source": []
  },
  {
   "cell_type": "code",
   "execution_count": null,
   "id": "422b8fe6",
   "metadata": {},
   "outputs": [],
   "source": []
  },
  {
   "cell_type": "code",
   "execution_count": null,
   "id": "20f6ccc0",
   "metadata": {},
   "outputs": [],
   "source": []
  },
  {
   "cell_type": "code",
   "execution_count": null,
   "id": "6ae0f876",
   "metadata": {},
   "outputs": [],
   "source": []
  },
  {
   "cell_type": "code",
   "execution_count": null,
   "id": "a22cde1d",
   "metadata": {},
   "outputs": [],
   "source": []
  },
  {
   "cell_type": "code",
   "execution_count": null,
   "id": "984b3510",
   "metadata": {},
   "outputs": [],
   "source": []
  },
  {
   "cell_type": "code",
   "execution_count": null,
   "id": "520a1e00",
   "metadata": {},
   "outputs": [],
   "source": []
  },
  {
   "cell_type": "code",
   "execution_count": null,
   "id": "c7949e8b",
   "metadata": {},
   "outputs": [],
   "source": []
  },
  {
   "cell_type": "code",
   "execution_count": null,
   "id": "a4c880ec",
   "metadata": {},
   "outputs": [],
   "source": []
  },
  {
   "cell_type": "code",
   "execution_count": 142,
   "id": "02bdbef9",
   "metadata": {
    "scrolled": true
   },
   "outputs": [
    {
     "name": "stdout",
     "output_type": "stream",
     "text": [
      "'01-1. EDA 및 환자 추출&Labevents 원본.ipynb'\r\n",
      "'01-2. EDA 및 환자 추출 코드 with open으로 다시.ipynb'\r\n",
      "'01-3. EDA 및 환자 추출 코드 with open + 함수로 작성 후 정리.ipynb'\r\n",
      "'02-2. LSTM,RF Seed Test.ipynb'\r\n",
      "'02. 다른 Features 추가, 새로운 DF 생성 (데이터 가공 & 모델링).ipynb'\r\n",
      "'02. 다른 Features 추가, 새로운 DF 생성 (데이터 가공 & 모델링) with open으로 가공중,,, 반포기...-Copy1.ipynb'\r\n",
      "'02. 다른 Features 추가, 새로운 DF 생성 (데이터 가공 & 모델링) with open으로 가공중,,, 반포기....ipynb'\r\n",
      "'03. 최종 LSTM + VotingClassifier guri.ipynb'\r\n",
      "'03 시계열, 비시계열 modeling 및 stability 비교 LSH.ipynb'\r\n",
      "'03. 기존 VotingClassifier + Feature Selection.ipynb'\r\n",
      "'04 Keras Tuner LSH.ipynb'\r\n",
      "'05-1. FI guriguri.ipynb'\r\n",
      "'05-1. FI guri.ipynb'\r\n",
      "'05. LSTM Feature Importance guri.ipynb'\r\n",
      "'05 Voting Classifier LSH.ipynb'\r\n",
      "'06-1. RESET.ipynb'\r\n",
      "'06-2. RESET with open으로 다시.ipynb'\r\n",
      "'06. LSTM + Adaboost guri1.ipynb'\r\n",
      "'06. LSTM + Adaboost guri2.ipynb'\r\n",
      "'11. 3Tables-final 포함.ipynb'\r\n",
      "'11. 3Tables-final 포함 with.ipynb'\r\n",
      "'12. Multi Output (ft.window)+final.ipynb'\r\n",
      "'12. Multi Output (ft.window).ipynb'\r\n",
      "'13. Expanded Data (ft. window).ipynb'\r\n",
      "'14. 최신 딥러닝 모델 적용.ipynb'\r\n",
      "'15 - 최종 모델.ipynb'\r\n",
      "'15 - 최종 모델 L2 규제 적용해보기.ipynb'\r\n",
      "'17-1. 2 Try.ipynb'\r\n",
      "'18. 데이터,라벨 1차원 + VotingClassifier.ipynb'\r\n",
      "'18. 데이터,라벨 확장 + VotingClassifier, y_train 라벨 1차원으로 수정중....ipynb'\r\n",
      "'18. 데이터,라벨 확장 + VotingClassifier, y_train 라벨수정중....ipynb'\r\n",
      "\u001b[0m\u001b[01;34m'~20220104'\u001b[0m/\r\n",
      "'211006, lab, pre, pro table 깔끔.ipynb'\r\n",
      "'211013, total_data.ipynb'\r\n",
      "'2-1. Model Test (RF, LSTM).ipynb'\r\n",
      "'220121 ada test.ipynb'\r\n",
      "'7727 interval.ipynb'\r\n",
      " 폐렴환자.csv\r\n",
      " \u001b[01;34mdata\u001b[0m/\r\n",
      " df_all_best_for_meth1.csv\r\n",
      " df_all_diff_for_meth1.csv\r\n",
      " df_all_preds_for_meth1.csv\r\n",
      " df_d1d5_best_for_meth1.csv\r\n",
      " df_d1d5.csv\r\n",
      " df_d1d5_diff_for_meth1.csv\r\n",
      " df_d1d5_preds_for_meth1.csv\r\n",
      " df_d6d10_best_for_meth1.csv\r\n",
      " df_d6d10_diff_for_meth1.csv\r\n",
      " df_d6d10_preds_for_meth1.csv\r\n",
      " folds0.hdf5\r\n",
      " int1_day10.npy\r\n",
      " int2_day20.npy\r\n",
      " interval.ipynb\r\n",
      " iris_tree.dot\r\n",
      "'Keras Tuner 따라하기.ipynb'\r\n",
      " 폐렴환자lab.csv\r\n",
      " lstm_feature_importance_fold_1.csv\r\n",
      "'LSTM feature importance guri 주석.ipynb'\r\n",
      " Method1.csv\r\n",
      "'Method1, df_all, df_1to5, df6to10.ipynb'\r\n",
      "'Method1, df_all, ReLU, Sign정리 및 그래프까지.ipynb'\r\n",
      " \u001b[01;34mmodel\u001b[0m/\r\n",
      " \u001b[01;34mmy_dir1\u001b[0m/\r\n",
      " test.hdf5\r\n",
      " trash.ipynb\r\n",
      " Untitled1.ipynb\r\n",
      " Untitled.ipynb\r\n",
      "'Voting Classfier 따라하기.ipynb'\r\n"
     ]
    }
   ],
   "source": [
    "ls"
   ]
  },
  {
   "cell_type": "code",
   "execution_count": 144,
   "id": "3fc316bb",
   "metadata": {},
   "outputs": [
    {
     "data": {
      "text/plain": [
       "'/project/kelly'"
      ]
     },
     "execution_count": 144,
     "metadata": {},
     "output_type": "execute_result"
    }
   ],
   "source": [
    "pwd"
   ]
  },
  {
   "cell_type": "code",
   "execution_count": 149,
   "id": "22fbfcee",
   "metadata": {},
   "outputs": [
    {
     "ename": "NameError",
     "evalue": "name 'export' is not defined",
     "output_type": "error",
     "traceback": [
      "\u001b[0;31m---------------------------------------------------------------------------\u001b[0m",
      "\u001b[0;31mNameError\u001b[0m                                 Traceback (most recent call last)",
      "\u001b[0;32m<ipython-input-149-d424551cb06e>\u001b[0m in \u001b[0;36m<module>\u001b[0;34m\u001b[0m\n\u001b[0;32m----> 1\u001b[0;31m \u001b[0mexport\u001b[0m\u001b[0;34m(\u001b[0m\u001b[0;34m)\u001b[0m\u001b[0;34m\u001b[0m\u001b[0;34m\u001b[0m\u001b[0m\n\u001b[0m",
      "\u001b[0;31mNameError\u001b[0m: name 'export' is not defined"
     ]
    }
   ],
   "source": []
  },
  {
   "cell_type": "code",
   "execution_count": null,
   "id": "a2188a22",
   "metadata": {},
   "outputs": [],
   "source": []
  }
 ],
 "metadata": {
  "kernelspec": {
   "display_name": "Python 3",
   "language": "python",
   "name": "python3"
  },
  "language_info": {
   "codemirror_mode": {
    "name": "ipython",
    "version": 3
   },
   "file_extension": ".py",
   "mimetype": "text/x-python",
   "name": "python",
   "nbconvert_exporter": "python",
   "pygments_lexer": "ipython3",
   "version": "3.8.8"
  },
  "latex_envs": {
   "LaTeX_envs_menu_present": true,
   "autoclose": false,
   "autocomplete": true,
   "bibliofile": "biblio.bib",
   "cite_by": "apalike",
   "current_citInitial": 1,
   "eqLabelWithNumbers": true,
   "eqNumInitial": 1,
   "hotkeys": {
    "equation": "Ctrl-E",
    "itemize": "Ctrl-I"
   },
   "labels_anchors": false,
   "latex_user_defs": false,
   "report_style_numbering": false,
   "user_envs_cfg": false
  },
  "toc": {
   "base_numbering": 1,
   "nav_menu": {},
   "number_sections": true,
   "sideBar": true,
   "skip_h1_title": false,
   "title_cell": "Table of Contents",
   "title_sidebar": "Contents",
   "toc_cell": false,
   "toc_position": {},
   "toc_section_display": true,
   "toc_window_display": true
  }
 },
 "nbformat": 4,
 "nbformat_minor": 5
}
