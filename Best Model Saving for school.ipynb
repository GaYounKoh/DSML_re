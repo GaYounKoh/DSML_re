{
 "cells": [
  {
   "cell_type": "markdown",
   "metadata": {},
   "source": [
    "# Best Model Saving, 최적 모델 찾기 by sklearn.model_selection\n",
    "```\n",
    "모델 생성 시 seed = 42 ~ 50일 때, 각각의 best모델에서 data seed = 1~50에서의 평균 정확도\n",
    "```"
   ]
  },
  {
   "cell_type": "markdown",
   "metadata": {},
   "source": [
    "# data_seed, model_seed = 42"
   ]
  },
  {
   "cell_type": "code",
   "execution_count": null,
   "metadata": {},
   "outputs": [],
   "source": [
    "import pandas as pd\n",
    "import numpy as numpy\n",
    "import warnings\n",
    "warnings.filterwarnings(action='ignore')\n",
    "\n",
    "import tensorflow as tf\n",
    "from sklearn.model_selection import train_test_split\n",
    "from tensorflow.keras import Sequential\n",
    "from tensorflow.keras.layers import Dense, Dropout, LSTM, InputLayer\n",
    "from tensorflow.keras.callbacks import EarlyStopping\n",
    "from sklearn import metrics\n",
    "from tensorflow import keras\n",
    "from tensorflow.keras.regularizers import l2\n",
    "from tensorflow.keras.optimizers import Adam\n",
    "\n",
    "\n",
    "import random\n",
    "# -------------------------\n",
    "seed_num = 42               #data seed\n",
    "# -------------------------\n",
    "random.seed(seed_num)\n",
    "\n",
    "x = np.load('C:/Users/FLAG/Desktop/dsml_data/x_(7727,10,4068).npy')\n",
    "y = np.load('C:/Users/FLAG/Desktop/dsml_data/y_(7727,1).npy')\n",
    "\n",
    "idx = list(range(len(x)))\n",
    "random.shuffle(idx)\n",
    "\n",
    "i = round(x.shape[0]*0.8)\n",
    "X_train, y_train = x[idx[:i], :, :], y[idx[:i]]\n",
    "X_test, y_test = x[idx[i:], :, :], y[idx[i:]]\n",
    "\n",
    "# -------------------------\n",
    "seed_num = 42               #model seed\n",
    "# -------------------------\n",
    "tf.random.set_seed(seed_num)\n",
    "\n",
    "lstm = Sequential()\n",
    "lstm.add(InputLayer(input_shape = (X_train.shape[1], X_train.shape[2])))\n",
    "lstm.add(LSTM(units = 128, activation='hard_sigmoid', return_sequences = True))\n",
    "lstm.add(LSTM(units = 64, activation = 'hard_sigmoid', return_sequences = True))\n",
    "lstm.add(Dropout(0.2))\n",
    "lstm.add(LSTM(units = 64, activation = 'hard_sigmoid', return_sequences = True))\n",
    "lstm.add(LSTM(units = 32, activation = 'hard_sigmoid', return_sequences = False))\n",
    "lstm.add(Dropout(0.2))\n",
    "lstm.add(Dense(units = 1, activation = 'sigmoid'))\n",
    "\n",
    "from tensorflow.keras.callbacks import ModelCheckpoint\n",
    "import os\n",
    "\n",
    "MODEL_SAVE_FOLDER_PATH = './model/'\n",
    "if not os.path.exists(MODEL_SAVE_FOLDER_PATH):\n",
    "    os.mkdir(MODEL_SAVE_FOLDER_PATH)\n",
    "\n",
    "model_path = MODEL_SAVE_FOLDER_PATH + 'seed42-{epoch:02d}-{val_loss:.4f}.hdf5'\n",
    "\n",
    "cb_checkpoint = ModelCheckpoint(filepath = model_path, monitor = 'val_loss',)"
   ]
  }
 ],
 "metadata": {
  "language_info": {
   "name": "python"
  },
  "orig_nbformat": 4
 },
 "nbformat": 4,
 "nbformat_minor": 2
}
