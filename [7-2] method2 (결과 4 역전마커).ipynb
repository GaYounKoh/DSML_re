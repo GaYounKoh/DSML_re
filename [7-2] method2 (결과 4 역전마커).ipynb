{
 "cells": [
  {
   "cell_type": "markdown",
   "id": "492e9974",
   "metadata": {},
   "source": [
    "220228 과제"
   ]
  },
  {
   "cell_type": "markdown",
   "id": "2b9613b8",
   "metadata": {},
   "source": [
    "# library"
   ]
  },
  {
   "cell_type": "code",
   "execution_count": 2,
   "id": "4e4d7f75",
   "metadata": {
    "scrolled": true
   },
   "outputs": [
    {
     "name": "stdout",
     "output_type": "stream",
     "text": [
      "numpy version: 1.19.5\n",
      "matplotlib version: 3.4.2\n",
      "seaborn version: 0.11.1\n",
      "--------------------------------------------------\n"
     ]
    }
   ],
   "source": [
    "#데이터 분석 라이브러리\n",
    "import numpy as np\n",
    "print(\"numpy version: {}\". format(np.__version__))\n",
    "\n",
    "import pandas as pd\n",
    "\n",
    "#시각화 라이브러리\n",
    "import matplotlib as mpl\n",
    "import matplotlib.pyplot as plt\n",
    "print(\"matplotlib version: {}\". format(mpl.__version__))\n",
    "\n",
    "import seaborn as sns\n",
    "print(\"seaborn version: {}\". format(sns.__version__))\n",
    "\n",
    "#딥러닝 라이브러리\n",
    "import tensorflow as tf\n",
    "\n",
    "#기타 라이브러리\n",
    "import os\n",
    "import random\n",
    "import time\n",
    "\n",
    "#경고 에러 무시\n",
    "import warnings\n",
    "warnings.filterwarnings('ignore')\n",
    "print('-'*50)\n",
    "\n",
    "#시간 확인을 용이하게 해주는 라이브러리\n",
    "from tqdm import tqdm\n",
    "\n",
    "#결과 확인을 용이하게 하기 위한 코드\n",
    "from IPython.core.interactiveshell import InteractiveShell\n",
    "InteractiveShell.ast_node_interactivity = \"all\"\n",
    "\n",
    "from varname import nameof"
   ]
  },
  {
   "cell_type": "markdown",
   "id": "ff367ac8",
   "metadata": {},
   "source": [
    "# GPU"
   ]
  },
  {
   "cell_type": "code",
   "execution_count": 2,
   "id": "0687026f",
   "metadata": {},
   "outputs": [
    {
     "name": "stdout",
     "output_type": "stream",
     "text": [
      "[PhysicalDevice(name='/physical_device:GPU:0', device_type='GPU'), PhysicalDevice(name='/physical_device:GPU:1', device_type='GPU')]\n"
     ]
    }
   ],
   "source": [
    "#https://www.tensorflow.org/guide/gpu#allowing_gpu_memory_growth\n",
    "#프로세스의 요구량만큼 메모리 사용 설정\n",
    "gpus = tf.config.experimental.list_physical_devices('GPU')\n",
    "print(gpus)\n",
    "if gpus:\n",
    "    try:\n",
    "        for i in range(len(gpus)):\n",
    "            tf.config.experimental.set_memory_growth(gpus[i], True)\n",
    "    except RuntimeError as e:\n",
    "        # 프로그램 시작시에 메모리 증가가 설정되어야만 합니다\n",
    "        print(e)\n",
    "        \n",
    "#지정해서 쓰고 싶으면 model 쓸 때는 with 구문 안에 넣기"
   ]
  },
  {
   "cell_type": "markdown",
   "id": "44daf7ad",
   "metadata": {},
   "source": [
    "# Method2\n",
    "x는 d-10부터 쌓여있음을 잊으면 안됨.<br>\n",
    "method2는 음수값으로 정렬해서 위에서부터 top10<br>"
   ]
  },
  {
   "cell_type": "code",
   "execution_count": 8,
   "id": "f5451e45",
   "metadata": {},
   "outputs": [
    {
     "data": {
      "text/plain": [
       "(7727, 5)"
      ]
     },
     "execution_count": 8,
     "metadata": {},
     "output_type": "execute_result"
    }
   ],
   "source": [
    "x = np.load('/project/LSH/x_(7727,10,4068).npy')\n",
    "x[:,:5,0].shape # d10부터 d6까지 5개 날짜 # 원시간\n",
    "x[:,5:,0].shape # d5부터 d1까지 5개 날짜 # 근시간\n",
    "\n",
    "# 원시간: :5를 바꿔서 예측에 사용하는 것.\n",
    "# 근시간: 5:를 바꿔서 예측에 사용하는 것."
   ]
  },
  {
   "cell_type": "code",
   "execution_count": null,
   "id": "a0f9557e",
   "metadata": {},
   "outputs": [],
   "source": [
    "# 1) DATA \n",
    "import random    \n",
    "# ---------------------\n",
    "seed_num = 42\n",
    "# ---------------------\n",
    "random.seed(seed_num)\n",
    "\n",
    "x = np.load('/project/LSH/x_(7727,10,4068).npy')\n",
    "y = np.load('/project/LSH/y_(7727,1).npy')\n",
    "\n",
    "\n",
    "# 2) MODEL\n",
    "# with tf.device('/device:GPU:0'): #모델 돌리는 동안 다 이 안에 넣어놓기\n",
    "#     tf.config.experimental.set_virtual_device_configuration(gpus[1], \n",
    "#                                                             [tf.config.experimental.VirtualDeviceConfiguration(memory_limit=5*1024)])\n",
    "\n",
    "from keras.models import load_model\n",
    "lstm2 = load_model('/project/LSH/model/allfit_ep500/allfit_ep500_seed42-17-0.7619.hdf5')\n",
    "\n",
    "\n",
    "# 3) preds\n",
    "# FEATURES\n",
    "a = pd.read_csv('/project/LSH/total_data_7727.csv')\n",
    "features = list(a['ITEMID'].sort_values().unique()) # 4068개 ITEMID \n",
    "\n",
    "\n",
    "preds2_entropy_dic = {} # 원시간_method1_entropy\n",
    "preds2_dic = {} # 원시간_method1_부록\n",
    "\n",
    "preds3_entropy_dic = {} # 근시간_method1_entropy\n",
    "preds3_dic = {} # 근시간_method1_부록\n",
    "\n",
    "\n",
    "\n",
    "for k in tqdm(range(len(features))):\n",
    "\n",
    "    # REVERSE ALL FEATURE K\n",
    "    save_col = x[:,:,k].copy()\n",
    "    \n",
    "    # 원시간\n",
    "    # all_to_1\n",
    "    x[:,:5,k] = 1\n",
    "\n",
    "    # COMPUTE pred WITH FEATURE K all_to_1, preds2_mean_list\n",
    "    preds2_1_원 = lstm2.predict(x, batch_size = 10000, workers = -1, use_multiprocessing = True)\n",
    "    mean_preds2_1_원 = np.mean(preds2_1_원)\n",
    "\n",
    "    # all_to_0\n",
    "    x[:,:5,k] = 0 #어차피 all change라서 save_col 안하고 해도 됨.\n",
    "\n",
    "    # COMPUTE pred WITH FEATURE K all_to_0, preds2_mean_list\n",
    "    preds2_0_원 = lstm2.predict(x, batch_size = 10000, workers = -1, use_multiprocessing = True)\n",
    "    mean_preds2_0_원 = np.mean(preds2_0_원)\n",
    "    \n",
    "    diff1 = mean_preds2_1_원 - mean_preds2_0_원 # 값 한개\n",
    "    \n",
    "    preds2_entropy_dic[features[k]] = diff1 * entropy[k]\n",
    "    preds2_dic[features[k]] = diff1\n",
    "\n",
    "    \n",
    "    x[:,:,k] = save_col\n",
    "    \n",
    "    \n",
    "    \n",
    "    # 근시간\n",
    "    # all_to_1\n",
    "    x[:,5:,k] = 1\n",
    "\n",
    "    # COMPUTE pred WITH FEATURE K all_to_1, preds2_mean_list\n",
    "    preds2_1_근 = lstm2.predict(x, batch_size = 10000, workers = -1, use_multiprocessing = True)\n",
    "    mean_preds2_1_근 = np.mean(preds2_1_근)\n",
    "\n",
    "    # all_to_0\n",
    "    x[:,5:,k] = 0 #어차피 all change라서 save_col 안하고 해도 됨.\n",
    "\n",
    "    # COMPUTE pred WITH FEATURE K all_to_0, preds2_mean_list\n",
    "    preds2_0_근 = lstm2.predict(x, batch_size = 10000, workers = -1, use_multiprocessing = True)\n",
    "    mean_preds2_0_근 = np.mean(preds2_0_근)\n",
    "    \n",
    "    diff2 = mean_preds2_1_근 - mean_preds2_0_근 # 값 한개\n",
    "    \n",
    "    preds3_entropy_dic[features[k]] = diff2 * entropy[k]\n",
    "    preds3_dic[features[k]] = diff2\n",
    "\n",
    "\n",
    "    x[:,:,k] = save_col\n",
    "\n",
    "#     break"
   ]
  },
  {
   "cell_type": "code",
   "execution_count": null,
   "id": "389e1637",
   "metadata": {},
   "outputs": [],
   "source": [
    "dic1 = preds2_entropy_dic.copy()\n",
    "dic2 = preds2_dic.copy()\n",
    "\n",
    "dic1\n",
    "dic2\n",
    "\n",
    "df1 = pd.DataFrame(dic1.items(), columns=['feature', 'method1_entropy'])\n",
    "df1\n",
    "\n",
    "df2 = pd.DataFrame(dic2.items(), columns=['feature', 'method1_부록']) #hp columns는 column name 설정 \n",
    "df2\n",
    "\n",
    "\n",
    "\n",
    "'############################################'\n",
    "dic3 = preds3_entropy_dic.copy()\n",
    "dic4 = preds3_dic.copy()\n",
    "\n",
    "dic3\n",
    "dic4\n",
    "\n",
    "\n",
    "df3 = pd.DataFrame(dic3.items(), columns=['feature', 'method1_entropy'])\n",
    "df3\n",
    "\n",
    "df4 = pd.DataFrame(dic4.items(), columns=['feature', 'method1_부록']) #hp columns는 column name 설정 \n",
    "df4"
   ]
  }
 ],
 "metadata": {
  "kernelspec": {
   "display_name": "Python 3",
   "language": "python",
   "name": "python3"
  },
  "language_info": {
   "codemirror_mode": {
    "name": "ipython",
    "version": 3
   },
   "file_extension": ".py",
   "mimetype": "text/x-python",
   "name": "python",
   "nbconvert_exporter": "python",
   "pygments_lexer": "ipython3",
   "version": "3.8.5"
  },
  "latex_envs": {
   "LaTeX_envs_menu_present": true,
   "autoclose": false,
   "autocomplete": true,
   "bibliofile": "biblio.bib",
   "cite_by": "apalike",
   "current_citInitial": 1,
   "eqLabelWithNumbers": true,
   "eqNumInitial": 1,
   "hotkeys": {
    "equation": "Ctrl-E",
    "itemize": "Ctrl-I"
   },
   "labels_anchors": false,
   "latex_user_defs": false,
   "report_style_numbering": false,
   "user_envs_cfg": false
  },
  "toc": {
   "base_numbering": 1,
   "nav_menu": {},
   "number_sections": true,
   "sideBar": true,
   "skip_h1_title": false,
   "title_cell": "Table of Contents",
   "title_sidebar": "Contents",
   "toc_cell": false,
   "toc_position": {},
   "toc_section_display": true,
   "toc_window_display": false
  }
 },
 "nbformat": 4,
 "nbformat_minor": 5
}
